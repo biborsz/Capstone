{
 "cells": [
  {
   "cell_type": "markdown",
   "metadata": {},
   "source": [
    "### Exploring the Data"
   ]
  },
  {
   "cell_type": "code",
   "execution_count": 1,
   "metadata": {},
   "outputs": [],
   "source": [
    "# imports\n",
    "import pandas as pd\n",
    "import requests\n",
    "import time\n",
    "import datetime"
   ]
  },
  {
   "cell_type": "code",
   "execution_count": 2,
   "metadata": {},
   "outputs": [],
   "source": [
    "# set display options \n",
    "pd.set_option('display.max_columns', 50)\n",
    "pd.set_option('display.max_colwidth', None)"
   ]
  },
  {
   "cell_type": "code",
   "execution_count": 3,
   "metadata": {},
   "outputs": [],
   "source": [
    "# read in combined csv file\n",
    "df = pd.read_csv('./data/combined.csv')"
   ]
  },
  {
   "cell_type": "code",
   "execution_count": 4,
   "metadata": {},
   "outputs": [
    {
     "data": {
      "text/plain": [
       "(55625, 29)"
      ]
     },
     "execution_count": 4,
     "metadata": {},
     "output_type": "execute_result"
    }
   ],
   "source": [
    "df.shape"
   ]
  },
  {
   "cell_type": "code",
   "execution_count": 5,
   "metadata": {
    "scrolled": true
   },
   "outputs": [
    {
     "data": {
      "text/html": [
       "<div>\n",
       "<style scoped>\n",
       "    .dataframe tbody tr th:only-of-type {\n",
       "        vertical-align: middle;\n",
       "    }\n",
       "\n",
       "    .dataframe tbody tr th {\n",
       "        vertical-align: top;\n",
       "    }\n",
       "\n",
       "    .dataframe thead th {\n",
       "        text-align: right;\n",
       "    }\n",
       "</style>\n",
       "<table border=\"1\" class=\"dataframe\">\n",
       "  <thead>\n",
       "    <tr style=\"text-align: right;\">\n",
       "      <th></th>\n",
       "      <th>noticeId</th>\n",
       "      <th>title</th>\n",
       "      <th>solicitationNumber</th>\n",
       "      <th>department</th>\n",
       "      <th>subTier</th>\n",
       "      <th>office</th>\n",
       "      <th>postedDate</th>\n",
       "      <th>type</th>\n",
       "      <th>baseType</th>\n",
       "      <th>archiveType</th>\n",
       "      <th>archiveDate</th>\n",
       "      <th>typeOfSetAsideDescription</th>\n",
       "      <th>typeOfSetAside</th>\n",
       "      <th>responseDeadLine</th>\n",
       "      <th>naicsCode</th>\n",
       "      <th>classificationCode</th>\n",
       "      <th>active</th>\n",
       "      <th>award</th>\n",
       "      <th>pointOfContact</th>\n",
       "      <th>description</th>\n",
       "      <th>organizationType</th>\n",
       "      <th>officeAddress</th>\n",
       "      <th>placeOfPerformance</th>\n",
       "      <th>additionalInfoLink</th>\n",
       "      <th>uiLink</th>\n",
       "      <th>links</th>\n",
       "      <th>resourceLinks</th>\n",
       "      <th>cleaned_titles</th>\n",
       "      <th>date_posted</th>\n",
       "    </tr>\n",
       "  </thead>\n",
       "  <tbody>\n",
       "    <tr>\n",
       "      <th>0</th>\n",
       "      <td>ffe3c07bab8b4a7d9be583fd4dd96c4a</td>\n",
       "      <td>REQUEST FOR INFORMATION - NEW DESIGN BOOKLET DIE CUTTING INSERT ASSEMBLY</td>\n",
       "      <td>RFI-042720</td>\n",
       "      <td>UNITED STATES GOVERNMENT PUBLISHING OFFICE</td>\n",
       "      <td>UNITED STATES GOVERNMENT PUBLISHING OFFICE</td>\n",
       "      <td>Acquisition Services</td>\n",
       "      <td>2020-04-27</td>\n",
       "      <td>Sources Sought</td>\n",
       "      <td>Sources Sought</td>\n",
       "      <td>auto15</td>\n",
       "      <td>2020-05-27</td>\n",
       "      <td>NaN</td>\n",
       "      <td>NaN</td>\n",
       "      <td>2020-05-12T14:00:00-04:00</td>\n",
       "      <td>333244.0</td>\n",
       "      <td>3610</td>\n",
       "      <td>Yes</td>\n",
       "      <td>NaN</td>\n",
       "      <td>[{'fax': '', 'type': 'primary', 'email': 'rgraham@gpo.gov', 'phone': '2025120032', 'title': None, 'fullName': 'Rosalyn Graham'}, {'fax': '', 'type': 'secondary', 'email': 'rortega@gpo.gov', 'phone': '2025120803', 'title': None, 'fullName': 'Ronald Ortega'}]</td>\n",
       "      <td>https://api.sam.gov/prod/opportunities/v1/noticedesc?noticeid=ffe3c07bab8b4a7d9be583fd4dd96c4a</td>\n",
       "      <td>OFFICE</td>\n",
       "      <td>{'zipcode': '20401', 'city': 'Washington', 'countryCode': 'USA', 'state': 'DC'}</td>\n",
       "      <td>{'state': {'code': 'DC', 'name': 'District of Columbia'}, 'zip': '20401', 'country': {'code': 'USA', 'name': 'UNITED STATES'}}</td>\n",
       "      <td>NaN</td>\n",
       "      <td>https://beta.sam.gov/opp/ffe3c07bab8b4a7d9be583fd4dd96c4a/view</td>\n",
       "      <td>[{'rel': 'self', 'href': 'https://api.sam.gov/prod/opportunities/v1/search?noticeid=ffe3c07bab8b4a7d9be583fd4dd96c4a&amp;limit=1', 'hreflang': None, 'media': None, 'title': None, 'type': None, 'deprecation': None}]</td>\n",
       "      <td>['https://beta.sam.gov/api/prod/opps/v3/opportunities/resources/files/bd2b3b5e86474278ae1ea1a163ccbfd7/download?api_key=null&amp;token=', 'https://beta.sam.gov/api/prod/opps/v3/opportunities/resources/files/774a16e89e4d431e85b0eba1a510a24c/download?api_key=null&amp;token=', 'https://beta.sam.gov/api/prod/opps/v3/opportunities/resources/files/b62d72d82537413f8537bb19160d49bd/download?api_key=null&amp;token=']</td>\n",
       "      <td>Request For Information New Design Booklet Die Cutting Insert Assembly</td>\n",
       "      <td>2020-04-27</td>\n",
       "    </tr>\n",
       "    <tr>\n",
       "      <th>1</th>\n",
       "      <td>ff5e29951ed14b0386ea3291fa6c573f</td>\n",
       "      <td>Audiovisual Suite for Large Auditorium - Maxwell AFB</td>\n",
       "      <td>FA330020X0001</td>\n",
       "      <td>DEPT OF DEFENSE</td>\n",
       "      <td>DEPT OF THE AIR FORCE</td>\n",
       "      <td>FA3300  42 CONS CC</td>\n",
       "      <td>2020-04-27</td>\n",
       "      <td>Sources Sought</td>\n",
       "      <td>Sources Sought</td>\n",
       "      <td>auto15</td>\n",
       "      <td>2020-05-20</td>\n",
       "      <td>NaN</td>\n",
       "      <td>NaN</td>\n",
       "      <td>2020-05-05T12:00:00-05:00</td>\n",
       "      <td>334310.0</td>\n",
       "      <td>5836</td>\n",
       "      <td>Yes</td>\n",
       "      <td>NaN</td>\n",
       "      <td>[{'fax': '3349532198', 'type': 'primary', 'email': 'brandon.osborne.6@us.af.mil', 'phone': '3349537835', 'title': None, 'fullName': 'Brandon Osborne'}, {'fax': '3349532198', 'type': 'secondary', 'email': 'jeremy.kersey.1@us.af.mil', 'phone': '3349533526', 'title': None, 'fullName': 'Jeremy B. Kersey'}]</td>\n",
       "      <td>https://api.sam.gov/prod/opportunities/v1/noticedesc?noticeid=ff5e29951ed14b0386ea3291fa6c573f</td>\n",
       "      <td>OFFICE</td>\n",
       "      <td>{'zipcode': '36112-6334', 'city': 'MAXWELL AFB', 'countryCode': 'USA', 'state': 'AL'}</td>\n",
       "      <td>{'city': {'code': '51000', 'name': 'Montgomery'}, 'state': {'code': 'AL', 'name': 'Alabama'}, 'zip': '36112', 'country': {'code': 'USA', 'name': 'UNITED STATES'}}</td>\n",
       "      <td>NaN</td>\n",
       "      <td>https://beta.sam.gov/opp/ff5e29951ed14b0386ea3291fa6c573f/view</td>\n",
       "      <td>[{'rel': 'self', 'href': 'https://api.sam.gov/prod/opportunities/v1/search?noticeid=ff5e29951ed14b0386ea3291fa6c573f&amp;limit=1', 'hreflang': None, 'media': None, 'title': None, 'type': None, 'deprecation': None}]</td>\n",
       "      <td>['https://beta.sam.gov/api/prod/opps/v3/opportunities/resources/files/c2a6338838ed4ebfa7d70e91221ffc21/download?api_key=null&amp;token=']</td>\n",
       "      <td>Audiovisual Suite For Large Auditorium Maxwell Afb</td>\n",
       "      <td>2020-04-27</td>\n",
       "    </tr>\n",
       "    <tr>\n",
       "      <th>2</th>\n",
       "      <td>ff2a16aad70246d1ba10e639c11456d4</td>\n",
       "      <td>Metrology Equipment Move</td>\n",
       "      <td>SP4703-20-Q-0045</td>\n",
       "      <td>DEPT OF DEFENSE</td>\n",
       "      <td>DEFENSE LOGISTICS AGENCY (DLA)</td>\n",
       "      <td>DCSO RICHMOND</td>\n",
       "      <td>2020-04-27</td>\n",
       "      <td>Combined Synopsis/Solicitation</td>\n",
       "      <td>Combined Synopsis/Solicitation</td>\n",
       "      <td>auto15</td>\n",
       "      <td>2020-05-19</td>\n",
       "      <td>Total Small Business Set-Aside (FAR 19.5)</td>\n",
       "      <td>SBA</td>\n",
       "      <td>2020-05-04T15:00:00-04:00</td>\n",
       "      <td>238990.0</td>\n",
       "      <td>Z1PZ</td>\n",
       "      <td>Yes</td>\n",
       "      <td>NaN</td>\n",
       "      <td>[{'fax': '', 'type': 'primary', 'email': 'Kiara.leslie@dla.mil', 'phone': '8042796566', 'title': None, 'fullName': 'Kiara Leslie'}, {'fax': '', 'type': 'secondary', 'email': 'mary.washington@dla.mil', 'phone': '8042795628', 'title': None, 'fullName': 'Mary A. Washington, Contracting Officer'}]</td>\n",
       "      <td>https://api.sam.gov/prod/opportunities/v1/noticedesc?noticeid=ff2a16aad70246d1ba10e639c11456d4</td>\n",
       "      <td>OFFICE</td>\n",
       "      <td>{'zipcode': '23297-5441', 'city': 'RICHMOND', 'countryCode': 'USA', 'state': 'VA'}</td>\n",
       "      <td>{'city': {'code': '67000', 'name': 'Richmond'}, 'state': {'code': 'VA', 'name': 'Virginia'}, 'zip': '23219', 'country': {'code': 'USA', 'name': 'UNITED STATES'}}</td>\n",
       "      <td>NaN</td>\n",
       "      <td>https://beta.sam.gov/opp/ff2a16aad70246d1ba10e639c11456d4/view</td>\n",
       "      <td>[{'rel': 'self', 'href': 'https://api.sam.gov/prod/opportunities/v1/search?noticeid=ff2a16aad70246d1ba10e639c11456d4&amp;limit=1', 'hreflang': None, 'media': None, 'title': None, 'type': None, 'deprecation': None}]</td>\n",
       "      <td>['https://beta.sam.gov/api/prod/opps/v3/opportunities/resources/files/18c139e819464ce2934b07f841d6b742/download?api_key=null&amp;token=', 'https://beta.sam.gov/api/prod/opps/v3/opportunities/resources/files/3254bee55b05422bb5a5638f85f5ad85/download?api_key=null&amp;token=', 'https://beta.sam.gov/api/prod/opps/v3/opportunities/resources/files/db5cf8928e394ca3bbccc489858e3613/download?api_key=null&amp;token=', 'https://beta.sam.gov/api/prod/opps/v3/opportunities/resources/files/7c5bdc22855046e0a7c5f1a9505f8cb7/download?api_key=null&amp;token=', 'https://beta.sam.gov/api/prod/opps/v3/opportunities/resources/files/5c967f7e9bae4dc297067066a8c326ea/download?api_key=null&amp;token=', 'https://beta.sam.gov/api/prod/opps/v3/opportunities/resources/files/db21fce9fd544d03a3e879c84e989b65/download?api_key=null&amp;token=', 'https://beta.sam.gov/api/prod/opps/v3/opportunities/resources/files/79b161ca6b7349779413df63e474a8e6/download?api_key=null&amp;token=']</td>\n",
       "      <td>Metrology Equipment Move</td>\n",
       "      <td>2020-04-27</td>\n",
       "    </tr>\n",
       "    <tr>\n",
       "      <th>3</th>\n",
       "      <td>fef5aeb716414feb8c12eec5e5063ff6</td>\n",
       "      <td>INNER INFLATABLE ASSY (LPU-36A/P)</td>\n",
       "      <td>PR1000092966</td>\n",
       "      <td>DEPT OF DEFENSE</td>\n",
       "      <td>DEFENSE LOGISTICS AGENCY (DLA)</td>\n",
       "      <td>DLA LAND AND MARITIME</td>\n",
       "      <td>2020-04-27</td>\n",
       "      <td>Sources Sought</td>\n",
       "      <td>Sources Sought</td>\n",
       "      <td>auto15</td>\n",
       "      <td>2020-05-19</td>\n",
       "      <td>NaN</td>\n",
       "      <td>NaN</td>\n",
       "      <td>2020-05-04T09:00:00-04:00</td>\n",
       "      <td>NaN</td>\n",
       "      <td>4220</td>\n",
       "      <td>Yes</td>\n",
       "      <td>NaN</td>\n",
       "      <td>[{'fax': '', 'type': 'primary', 'email': 'mindy.messerly@dla.mil', 'phone': '', 'title': None, 'fullName': 'Mindy Messerly614-692-4874'}]</td>\n",
       "      <td>https://api.sam.gov/prod/opportunities/v1/noticedesc?noticeid=fef5aeb716414feb8c12eec5e5063ff6</td>\n",
       "      <td>OFFICE</td>\n",
       "      <td>{'zipcode': '43218-3990', 'city': 'COLUMBUS', 'countryCode': 'USA', 'state': 'OH'}</td>\n",
       "      <td>NaN</td>\n",
       "      <td>NaN</td>\n",
       "      <td>https://beta.sam.gov/opp/fef5aeb716414feb8c12eec5e5063ff6/view</td>\n",
       "      <td>[{'rel': 'self', 'href': 'https://api.sam.gov/prod/opportunities/v1/search?noticeid=fef5aeb716414feb8c12eec5e5063ff6&amp;limit=1', 'hreflang': None, 'media': None, 'title': None, 'type': None, 'deprecation': None}]</td>\n",
       "      <td>NaN</td>\n",
       "      <td>Inner Inflatable Assy Lpu</td>\n",
       "      <td>2020-04-27</td>\n",
       "    </tr>\n",
       "    <tr>\n",
       "      <th>4</th>\n",
       "      <td>fed3bef7bd1e4ac389950ef7a087e578</td>\n",
       "      <td>17--CRADLE</td>\n",
       "      <td>SPE8EF20T1468</td>\n",
       "      <td>DEPT OF DEFENSE</td>\n",
       "      <td>DEFENSE LOGISTICS AGENCY (DLA)</td>\n",
       "      <td>DLA TROOP SUPPORT</td>\n",
       "      <td>2020-04-27</td>\n",
       "      <td>Combined Synopsis/Solicitation</td>\n",
       "      <td>Combined Synopsis/Solicitation</td>\n",
       "      <td>autocustom</td>\n",
       "      <td>2020-06-07</td>\n",
       "      <td>Total Small Business Set-Aside (FAR 19.5)</td>\n",
       "      <td>SBA</td>\n",
       "      <td>2020-05-08</td>\n",
       "      <td>336413.0</td>\n",
       "      <td>17</td>\n",
       "      <td>Yes</td>\n",
       "      <td>{'awardee': {'location': {}}}</td>\n",
       "      <td>[{'fax': None, 'type': 'primary', 'email': 'DibbsBSM@dla.mil', 'phone': None, 'title': None, 'fullName': 'Questions regarding this solicitation should be emailed to the buyer listed in block 5 of the solicitation document which can be found under the Additional Information link.\\nIf the Additional Information link does not work, please go to https://www.dibbs.'}]</td>\n",
       "      <td>https://api.sam.gov/prod/opportunities/v1/noticedesc?noticeid=fed3bef7bd1e4ac389950ef7a087e578</td>\n",
       "      <td>OFFICE</td>\n",
       "      <td>{'zipcode': '19111-5096', 'city': 'PHILADELPHIA', 'countryCode': 'USA', 'state': 'PA'}</td>\n",
       "      <td>{}</td>\n",
       "      <td>NaN</td>\n",
       "      <td>https://beta.sam.gov/opp/fed3bef7bd1e4ac389950ef7a087e578/view</td>\n",
       "      <td>[{'rel': 'self', 'href': 'https://api.sam.gov/prod/opportunities/v1/search?noticeid=fed3bef7bd1e4ac389950ef7a087e578&amp;limit=1', 'hreflang': None, 'media': None, 'title': None, 'type': None, 'deprecation': None}]</td>\n",
       "      <td>NaN</td>\n",
       "      <td>Cradle</td>\n",
       "      <td>2020-04-27</td>\n",
       "    </tr>\n",
       "  </tbody>\n",
       "</table>\n",
       "</div>"
      ],
      "text/plain": [
       "                           noticeId  \\\n",
       "0  ffe3c07bab8b4a7d9be583fd4dd96c4a   \n",
       "1  ff5e29951ed14b0386ea3291fa6c573f   \n",
       "2  ff2a16aad70246d1ba10e639c11456d4   \n",
       "3  fef5aeb716414feb8c12eec5e5063ff6   \n",
       "4  fed3bef7bd1e4ac389950ef7a087e578   \n",
       "\n",
       "                                                                      title  \\\n",
       "0  REQUEST FOR INFORMATION - NEW DESIGN BOOKLET DIE CUTTING INSERT ASSEMBLY   \n",
       "1                      Audiovisual Suite for Large Auditorium - Maxwell AFB   \n",
       "2                                                  Metrology Equipment Move   \n",
       "3                                         INNER INFLATABLE ASSY (LPU-36A/P)   \n",
       "4                                                                17--CRADLE   \n",
       "\n",
       "  solicitationNumber                                  department  \\\n",
       "0         RFI-042720  UNITED STATES GOVERNMENT PUBLISHING OFFICE   \n",
       "1      FA330020X0001                             DEPT OF DEFENSE   \n",
       "2   SP4703-20-Q-0045                             DEPT OF DEFENSE   \n",
       "3       PR1000092966                             DEPT OF DEFENSE   \n",
       "4      SPE8EF20T1468                             DEPT OF DEFENSE   \n",
       "\n",
       "                                      subTier                 office  \\\n",
       "0  UNITED STATES GOVERNMENT PUBLISHING OFFICE   Acquisition Services   \n",
       "1                       DEPT OF THE AIR FORCE     FA3300  42 CONS CC   \n",
       "2              DEFENSE LOGISTICS AGENCY (DLA)          DCSO RICHMOND   \n",
       "3              DEFENSE LOGISTICS AGENCY (DLA)  DLA LAND AND MARITIME   \n",
       "4              DEFENSE LOGISTICS AGENCY (DLA)      DLA TROOP SUPPORT   \n",
       "\n",
       "   postedDate                            type                        baseType  \\\n",
       "0  2020-04-27                  Sources Sought                  Sources Sought   \n",
       "1  2020-04-27                  Sources Sought                  Sources Sought   \n",
       "2  2020-04-27  Combined Synopsis/Solicitation  Combined Synopsis/Solicitation   \n",
       "3  2020-04-27                  Sources Sought                  Sources Sought   \n",
       "4  2020-04-27  Combined Synopsis/Solicitation  Combined Synopsis/Solicitation   \n",
       "\n",
       "  archiveType archiveDate                  typeOfSetAsideDescription  \\\n",
       "0      auto15  2020-05-27                                        NaN   \n",
       "1      auto15  2020-05-20                                        NaN   \n",
       "2      auto15  2020-05-19  Total Small Business Set-Aside (FAR 19.5)   \n",
       "3      auto15  2020-05-19                                        NaN   \n",
       "4  autocustom  2020-06-07  Total Small Business Set-Aside (FAR 19.5)   \n",
       "\n",
       "  typeOfSetAside           responseDeadLine  naicsCode classificationCode  \\\n",
       "0            NaN  2020-05-12T14:00:00-04:00   333244.0               3610   \n",
       "1            NaN  2020-05-05T12:00:00-05:00   334310.0               5836   \n",
       "2            SBA  2020-05-04T15:00:00-04:00   238990.0               Z1PZ   \n",
       "3            NaN  2020-05-04T09:00:00-04:00        NaN               4220   \n",
       "4            SBA                 2020-05-08   336413.0                 17   \n",
       "\n",
       "  active                          award  \\\n",
       "0    Yes                            NaN   \n",
       "1    Yes                            NaN   \n",
       "2    Yes                            NaN   \n",
       "3    Yes                            NaN   \n",
       "4    Yes  {'awardee': {'location': {}}}   \n",
       "\n",
       "                                                                                                                                                                                                                                                                                                                                                                  pointOfContact  \\\n",
       "0                                                                                                              [{'fax': '', 'type': 'primary', 'email': 'rgraham@gpo.gov', 'phone': '2025120032', 'title': None, 'fullName': 'Rosalyn Graham'}, {'fax': '', 'type': 'secondary', 'email': 'rortega@gpo.gov', 'phone': '2025120803', 'title': None, 'fullName': 'Ronald Ortega'}]   \n",
       "1                                                                [{'fax': '3349532198', 'type': 'primary', 'email': 'brandon.osborne.6@us.af.mil', 'phone': '3349537835', 'title': None, 'fullName': 'Brandon Osborne'}, {'fax': '3349532198', 'type': 'secondary', 'email': 'jeremy.kersey.1@us.af.mil', 'phone': '3349533526', 'title': None, 'fullName': 'Jeremy B. Kersey'}]   \n",
       "2                                                                         [{'fax': '', 'type': 'primary', 'email': 'Kiara.leslie@dla.mil', 'phone': '8042796566', 'title': None, 'fullName': 'Kiara Leslie'}, {'fax': '', 'type': 'secondary', 'email': 'mary.washington@dla.mil', 'phone': '8042795628', 'title': None, 'fullName': 'Mary A. Washington, Contracting Officer'}]   \n",
       "3                                                                                                                                                                                                                                      [{'fax': '', 'type': 'primary', 'email': 'mindy.messerly@dla.mil', 'phone': '', 'title': None, 'fullName': 'Mindy Messerly614-692-4874'}]   \n",
       "4  [{'fax': None, 'type': 'primary', 'email': 'DibbsBSM@dla.mil', 'phone': None, 'title': None, 'fullName': 'Questions regarding this solicitation should be emailed to the buyer listed in block 5 of the solicitation document which can be found under the Additional Information link.\\nIf the Additional Information link does not work, please go to https://www.dibbs.'}]   \n",
       "\n",
       "                                                                                      description  \\\n",
       "0  https://api.sam.gov/prod/opportunities/v1/noticedesc?noticeid=ffe3c07bab8b4a7d9be583fd4dd96c4a   \n",
       "1  https://api.sam.gov/prod/opportunities/v1/noticedesc?noticeid=ff5e29951ed14b0386ea3291fa6c573f   \n",
       "2  https://api.sam.gov/prod/opportunities/v1/noticedesc?noticeid=ff2a16aad70246d1ba10e639c11456d4   \n",
       "3  https://api.sam.gov/prod/opportunities/v1/noticedesc?noticeid=fef5aeb716414feb8c12eec5e5063ff6   \n",
       "4  https://api.sam.gov/prod/opportunities/v1/noticedesc?noticeid=fed3bef7bd1e4ac389950ef7a087e578   \n",
       "\n",
       "  organizationType  \\\n",
       "0           OFFICE   \n",
       "1           OFFICE   \n",
       "2           OFFICE   \n",
       "3           OFFICE   \n",
       "4           OFFICE   \n",
       "\n",
       "                                                                            officeAddress  \\\n",
       "0         {'zipcode': '20401', 'city': 'Washington', 'countryCode': 'USA', 'state': 'DC'}   \n",
       "1   {'zipcode': '36112-6334', 'city': 'MAXWELL AFB', 'countryCode': 'USA', 'state': 'AL'}   \n",
       "2      {'zipcode': '23297-5441', 'city': 'RICHMOND', 'countryCode': 'USA', 'state': 'VA'}   \n",
       "3      {'zipcode': '43218-3990', 'city': 'COLUMBUS', 'countryCode': 'USA', 'state': 'OH'}   \n",
       "4  {'zipcode': '19111-5096', 'city': 'PHILADELPHIA', 'countryCode': 'USA', 'state': 'PA'}   \n",
       "\n",
       "                                                                                                                                                   placeOfPerformance  \\\n",
       "0                                      {'state': {'code': 'DC', 'name': 'District of Columbia'}, 'zip': '20401', 'country': {'code': 'USA', 'name': 'UNITED STATES'}}   \n",
       "1  {'city': {'code': '51000', 'name': 'Montgomery'}, 'state': {'code': 'AL', 'name': 'Alabama'}, 'zip': '36112', 'country': {'code': 'USA', 'name': 'UNITED STATES'}}   \n",
       "2   {'city': {'code': '67000', 'name': 'Richmond'}, 'state': {'code': 'VA', 'name': 'Virginia'}, 'zip': '23219', 'country': {'code': 'USA', 'name': 'UNITED STATES'}}   \n",
       "3                                                                                                                                                                 NaN   \n",
       "4                                                                                                                                                                  {}   \n",
       "\n",
       "   additionalInfoLink  \\\n",
       "0                 NaN   \n",
       "1                 NaN   \n",
       "2                 NaN   \n",
       "3                 NaN   \n",
       "4                 NaN   \n",
       "\n",
       "                                                           uiLink  \\\n",
       "0  https://beta.sam.gov/opp/ffe3c07bab8b4a7d9be583fd4dd96c4a/view   \n",
       "1  https://beta.sam.gov/opp/ff5e29951ed14b0386ea3291fa6c573f/view   \n",
       "2  https://beta.sam.gov/opp/ff2a16aad70246d1ba10e639c11456d4/view   \n",
       "3  https://beta.sam.gov/opp/fef5aeb716414feb8c12eec5e5063ff6/view   \n",
       "4  https://beta.sam.gov/opp/fed3bef7bd1e4ac389950ef7a087e578/view   \n",
       "\n",
       "                                                                                                                                                                                                                links  \\\n",
       "0  [{'rel': 'self', 'href': 'https://api.sam.gov/prod/opportunities/v1/search?noticeid=ffe3c07bab8b4a7d9be583fd4dd96c4a&limit=1', 'hreflang': None, 'media': None, 'title': None, 'type': None, 'deprecation': None}]   \n",
       "1  [{'rel': 'self', 'href': 'https://api.sam.gov/prod/opportunities/v1/search?noticeid=ff5e29951ed14b0386ea3291fa6c573f&limit=1', 'hreflang': None, 'media': None, 'title': None, 'type': None, 'deprecation': None}]   \n",
       "2  [{'rel': 'self', 'href': 'https://api.sam.gov/prod/opportunities/v1/search?noticeid=ff2a16aad70246d1ba10e639c11456d4&limit=1', 'hreflang': None, 'media': None, 'title': None, 'type': None, 'deprecation': None}]   \n",
       "3  [{'rel': 'self', 'href': 'https://api.sam.gov/prod/opportunities/v1/search?noticeid=fef5aeb716414feb8c12eec5e5063ff6&limit=1', 'hreflang': None, 'media': None, 'title': None, 'type': None, 'deprecation': None}]   \n",
       "4  [{'rel': 'self', 'href': 'https://api.sam.gov/prod/opportunities/v1/search?noticeid=fed3bef7bd1e4ac389950ef7a087e578&limit=1', 'hreflang': None, 'media': None, 'title': None, 'type': None, 'deprecation': None}]   \n",
       "\n",
       "                                                                                                                                                                                                                                                                                                                                                                                                                                                                                                                                                                                                                                                                                                                                                                                                                                                                                                                                                         resourceLinks  \\\n",
       "0                                                                                                                                                                                                                                                                                                                                                                                                                                                                                                                                                      ['https://beta.sam.gov/api/prod/opps/v3/opportunities/resources/files/bd2b3b5e86474278ae1ea1a163ccbfd7/download?api_key=null&token=', 'https://beta.sam.gov/api/prod/opps/v3/opportunities/resources/files/774a16e89e4d431e85b0eba1a510a24c/download?api_key=null&token=', 'https://beta.sam.gov/api/prod/opps/v3/opportunities/resources/files/b62d72d82537413f8537bb19160d49bd/download?api_key=null&token=']   \n",
       "1                                                                                                                                                                                                                                                                                                                                                                                                                                                                                                                                                                                                                                                                                                                                                                                                                                ['https://beta.sam.gov/api/prod/opps/v3/opportunities/resources/files/c2a6338838ed4ebfa7d70e91221ffc21/download?api_key=null&token=']   \n",
       "2  ['https://beta.sam.gov/api/prod/opps/v3/opportunities/resources/files/18c139e819464ce2934b07f841d6b742/download?api_key=null&token=', 'https://beta.sam.gov/api/prod/opps/v3/opportunities/resources/files/3254bee55b05422bb5a5638f85f5ad85/download?api_key=null&token=', 'https://beta.sam.gov/api/prod/opps/v3/opportunities/resources/files/db5cf8928e394ca3bbccc489858e3613/download?api_key=null&token=', 'https://beta.sam.gov/api/prod/opps/v3/opportunities/resources/files/7c5bdc22855046e0a7c5f1a9505f8cb7/download?api_key=null&token=', 'https://beta.sam.gov/api/prod/opps/v3/opportunities/resources/files/5c967f7e9bae4dc297067066a8c326ea/download?api_key=null&token=', 'https://beta.sam.gov/api/prod/opps/v3/opportunities/resources/files/db21fce9fd544d03a3e879c84e989b65/download?api_key=null&token=', 'https://beta.sam.gov/api/prod/opps/v3/opportunities/resources/files/79b161ca6b7349779413df63e474a8e6/download?api_key=null&token=']   \n",
       "3                                                                                                                                                                                                                                                                                                                                                                                                                                                                                                                                                                                                                                                                                                                                                                                                                                                                                                                                                                  NaN   \n",
       "4                                                                                                                                                                                                                                                                                                                                                                                                                                                                                                                                                                                                                                                                                                                                                                                                                                                                                                                                                                  NaN   \n",
       "\n",
       "                                                           cleaned_titles  \\\n",
       "0  Request For Information New Design Booklet Die Cutting Insert Assembly   \n",
       "1                      Audiovisual Suite For Large Auditorium Maxwell Afb   \n",
       "2                                                Metrology Equipment Move   \n",
       "3                                               Inner Inflatable Assy Lpu   \n",
       "4                                                                  Cradle   \n",
       "\n",
       "  date_posted  \n",
       "0  2020-04-27  \n",
       "1  2020-04-27  \n",
       "2  2020-04-27  \n",
       "3  2020-04-27  \n",
       "4  2020-04-27  "
      ]
     },
     "execution_count": 5,
     "metadata": {},
     "output_type": "execute_result"
    }
   ],
   "source": [
    "df.head()"
   ]
  },
  {
   "cell_type": "code",
   "execution_count": 6,
   "metadata": {
    "scrolled": true
   },
   "outputs": [
    {
     "data": {
      "text/html": [
       "<div>\n",
       "<style scoped>\n",
       "    .dataframe tbody tr th:only-of-type {\n",
       "        vertical-align: middle;\n",
       "    }\n",
       "\n",
       "    .dataframe tbody tr th {\n",
       "        vertical-align: top;\n",
       "    }\n",
       "\n",
       "    .dataframe thead th {\n",
       "        text-align: right;\n",
       "    }\n",
       "</style>\n",
       "<table border=\"1\" class=\"dataframe\">\n",
       "  <thead>\n",
       "    <tr style=\"text-align: right;\">\n",
       "      <th></th>\n",
       "      <th>noticeId</th>\n",
       "      <th>title</th>\n",
       "      <th>solicitationNumber</th>\n",
       "      <th>department</th>\n",
       "      <th>subTier</th>\n",
       "      <th>office</th>\n",
       "      <th>postedDate</th>\n",
       "      <th>type</th>\n",
       "      <th>baseType</th>\n",
       "      <th>archiveType</th>\n",
       "      <th>archiveDate</th>\n",
       "      <th>typeOfSetAsideDescription</th>\n",
       "      <th>typeOfSetAside</th>\n",
       "      <th>responseDeadLine</th>\n",
       "      <th>naicsCode</th>\n",
       "      <th>classificationCode</th>\n",
       "      <th>active</th>\n",
       "      <th>award</th>\n",
       "      <th>pointOfContact</th>\n",
       "      <th>description</th>\n",
       "      <th>organizationType</th>\n",
       "      <th>officeAddress</th>\n",
       "      <th>placeOfPerformance</th>\n",
       "      <th>additionalInfoLink</th>\n",
       "      <th>uiLink</th>\n",
       "      <th>links</th>\n",
       "      <th>resourceLinks</th>\n",
       "      <th>cleaned_titles</th>\n",
       "      <th>date_posted</th>\n",
       "    </tr>\n",
       "  </thead>\n",
       "  <tbody>\n",
       "    <tr>\n",
       "      <th>55620</th>\n",
       "      <td>006816da72d442aeac1bc7efe0afe201</td>\n",
       "      <td>Preventative Maintenance Emergency Repair of Eaton Uninterruptible Power Supply System</td>\n",
       "      <td>FA481420P0042</td>\n",
       "      <td>DEPT OF DEFENSE</td>\n",
       "      <td>DEPT OF THE AIR FORCE</td>\n",
       "      <td>FA4814 6 CONS PK</td>\n",
       "      <td>2020-06-03</td>\n",
       "      <td>Justification</td>\n",
       "      <td>Justification</td>\n",
       "      <td>auto30</td>\n",
       "      <td>2020-07-03</td>\n",
       "      <td>NaN</td>\n",
       "      <td>NaN</td>\n",
       "      <td>NaN</td>\n",
       "      <td>811219.0</td>\n",
       "      <td>J061</td>\n",
       "      <td>Yes</td>\n",
       "      <td>{'date': '2020-05-22', 'number': 'FA481420P0042'}</td>\n",
       "      <td>[{'fax': '', 'type': 'primary', 'email': 'tricia.keene@us.af.mil', 'phone': '8138280485', 'title': None, 'fullName': 'Tricia Keene'}]</td>\n",
       "      <td>https://api.sam.gov/prod/opportunities/v1/noticedesc?noticeid=006816da72d442aeac1bc7efe0afe201</td>\n",
       "      <td>OFFICE</td>\n",
       "      <td>{'zipcode': '33621-5119', 'city': 'TAMPA', 'countryCode': 'USA', 'state': 'FL'}</td>\n",
       "      <td>{'city': {'code': '71000', 'name': 'Tampa'}, 'state': {'code': 'FL', 'name': 'Florida'}, 'zip': '33621', 'country': {'code': 'USA', 'name': 'UNITED STATES'}}</td>\n",
       "      <td>NaN</td>\n",
       "      <td>https://beta.sam.gov/opp/006816da72d442aeac1bc7efe0afe201/view</td>\n",
       "      <td>[{'rel': 'self', 'href': 'https://api.sam.gov/prod/opportunities/v1/search?noticeid=006816da72d442aeac1bc7efe0afe201&amp;limit=1'}]</td>\n",
       "      <td>['https://beta.sam.gov/api/prod/opps/v3/opportunities/resources/files/ce64a7a886014b0996bea5ca8bec53dc/download?api_key=null&amp;token=']</td>\n",
       "      <td>Preventative Maintenance Emergency Repair Of Eaton Uninterruptible Power Supply System</td>\n",
       "      <td>2020-06-03</td>\n",
       "    </tr>\n",
       "    <tr>\n",
       "      <th>55621</th>\n",
       "      <td>00624941e33545db91e5d132a10f7c8c</td>\n",
       "      <td>61--BATTERY,STORAGE</td>\n",
       "      <td>SPE7L720T4198</td>\n",
       "      <td>DEPT OF DEFENSE</td>\n",
       "      <td>DEFENSE LOGISTICS AGENCY (DLA)</td>\n",
       "      <td>DLA LAND AND MARITIME</td>\n",
       "      <td>2020-06-03</td>\n",
       "      <td>Combined Synopsis/Solicitation</td>\n",
       "      <td>Combined Synopsis/Solicitation</td>\n",
       "      <td>autocustom</td>\n",
       "      <td>2020-07-15</td>\n",
       "      <td>Historically Underutilized Business (HUBZone) Set-Aside (FAR 19.13)</td>\n",
       "      <td>HZC</td>\n",
       "      <td>2020-06-15</td>\n",
       "      <td>335999.0</td>\n",
       "      <td>61</td>\n",
       "      <td>Yes</td>\n",
       "      <td>{'awardee': {'location': {}}}</td>\n",
       "      <td>[{'fax': None, 'type': 'primary', 'email': 'DibbsBSM@dla.mil', 'phone': None, 'title': None, 'fullName': 'Questions regarding this solicitation should be emailed to the buyer listed in block 5 of the solicitation document which can be found under the Additional Information link.\\nIf the Additional Information link does not work, please go to https://www.dibbs.'}]</td>\n",
       "      <td>https://api.sam.gov/prod/opportunities/v1/noticedesc?noticeid=00624941e33545db91e5d132a10f7c8c</td>\n",
       "      <td>OFFICE</td>\n",
       "      <td>{'zipcode': '43218-3990', 'city': 'COLUMBUS', 'countryCode': 'USA', 'state': 'OH'}</td>\n",
       "      <td>{}</td>\n",
       "      <td>NaN</td>\n",
       "      <td>https://beta.sam.gov/opp/00624941e33545db91e5d132a10f7c8c/view</td>\n",
       "      <td>[{'rel': 'self', 'href': 'https://api.sam.gov/prod/opportunities/v1/search?noticeid=00624941e33545db91e5d132a10f7c8c&amp;limit=1'}]</td>\n",
       "      <td>NaN</td>\n",
       "      <td>Battery Storage</td>\n",
       "      <td>2020-06-03</td>\n",
       "    </tr>\n",
       "    <tr>\n",
       "      <th>55622</th>\n",
       "      <td>0053c3932ac049aca98baac97e9e4b7c</td>\n",
       "      <td>66--INDICATOR,COURSE</td>\n",
       "      <td>SPE4A620T23L8</td>\n",
       "      <td>DEPT OF DEFENSE</td>\n",
       "      <td>DEFENSE LOGISTICS AGENCY (DLA)</td>\n",
       "      <td>DLA AVIATION</td>\n",
       "      <td>2020-06-03</td>\n",
       "      <td>Combined Synopsis/Solicitation</td>\n",
       "      <td>Combined Synopsis/Solicitation</td>\n",
       "      <td>autocustom</td>\n",
       "      <td>2020-07-11</td>\n",
       "      <td>Service-Disabled Veteran-Owned Small Business (SDVOSB) Set-Aside (FAR 19.14)</td>\n",
       "      <td>SDVOSBC</td>\n",
       "      <td>2020-06-11</td>\n",
       "      <td>334511.0</td>\n",
       "      <td>66</td>\n",
       "      <td>Yes</td>\n",
       "      <td>{'awardee': {'location': {}}}</td>\n",
       "      <td>[{'fax': None, 'type': 'primary', 'email': 'DibbsBSM@dla.mil', 'phone': None, 'title': None, 'fullName': 'Questions regarding this solicitation should be emailed to the buyer listed in block 5 of the solicitation document which can be found under the Additional Information link.\\nIf the Additional Information link does not work, please go to https://www.dibbs.'}]</td>\n",
       "      <td>https://api.sam.gov/prod/opportunities/v1/noticedesc?noticeid=0053c3932ac049aca98baac97e9e4b7c</td>\n",
       "      <td>OFFICE</td>\n",
       "      <td>{'zipcode': '23297', 'city': 'RICHMOND', 'countryCode': 'USA', 'state': 'VA'}</td>\n",
       "      <td>{}</td>\n",
       "      <td>NaN</td>\n",
       "      <td>https://beta.sam.gov/opp/0053c3932ac049aca98baac97e9e4b7c/view</td>\n",
       "      <td>[{'rel': 'self', 'href': 'https://api.sam.gov/prod/opportunities/v1/search?noticeid=0053c3932ac049aca98baac97e9e4b7c&amp;limit=1'}]</td>\n",
       "      <td>NaN</td>\n",
       "      <td>Indicator Course</td>\n",
       "      <td>2020-06-03</td>\n",
       "    </tr>\n",
       "    <tr>\n",
       "      <th>55623</th>\n",
       "      <td>00159f16f3c94b84af124e5ceacbd914</td>\n",
       "      <td>70--READER,MAGNETIC-CON</td>\n",
       "      <td>SPE8EN20T3243</td>\n",
       "      <td>DEPT OF DEFENSE</td>\n",
       "      <td>DEFENSE LOGISTICS AGENCY (DLA)</td>\n",
       "      <td>DLA TROOP SUPPORT</td>\n",
       "      <td>2020-06-03</td>\n",
       "      <td>Combined Synopsis/Solicitation</td>\n",
       "      <td>Combined Synopsis/Solicitation</td>\n",
       "      <td>autocustom</td>\n",
       "      <td>2020-07-15</td>\n",
       "      <td>Service-Disabled Veteran-Owned Small Business (SDVOSB) Set-Aside (FAR 19.14)</td>\n",
       "      <td>SDVOSBC</td>\n",
       "      <td>2020-06-15</td>\n",
       "      <td>334614.0</td>\n",
       "      <td>70</td>\n",
       "      <td>Yes</td>\n",
       "      <td>{'awardee': {'location': {}}}</td>\n",
       "      <td>[{'fax': None, 'type': 'primary', 'email': 'DibbsBSM@dla.mil', 'phone': None, 'title': None, 'fullName': 'Questions regarding this solicitation should be emailed to the buyer listed in block 5 of the solicitation document which can be found under the Additional Information link.\\nIf the Additional Information link does not work, please go to https://www.dibbs.'}]</td>\n",
       "      <td>https://api.sam.gov/prod/opportunities/v1/noticedesc?noticeid=00159f16f3c94b84af124e5ceacbd914</td>\n",
       "      <td>OFFICE</td>\n",
       "      <td>{'zipcode': '19111-5096', 'city': 'PHILADELPHIA', 'countryCode': 'USA', 'state': 'PA'}</td>\n",
       "      <td>{}</td>\n",
       "      <td>NaN</td>\n",
       "      <td>https://beta.sam.gov/opp/00159f16f3c94b84af124e5ceacbd914/view</td>\n",
       "      <td>[{'rel': 'self', 'href': 'https://api.sam.gov/prod/opportunities/v1/search?noticeid=00159f16f3c94b84af124e5ceacbd914&amp;limit=1'}]</td>\n",
       "      <td>NaN</td>\n",
       "      <td>Reader Magnetic Con</td>\n",
       "      <td>2020-06-03</td>\n",
       "    </tr>\n",
       "    <tr>\n",
       "      <th>55624</th>\n",
       "      <td>00124f67277e493ab43ad3658aa2fd41</td>\n",
       "      <td>99--PLATE SET,IDENTIFIC</td>\n",
       "      <td>SPE8E620T3832</td>\n",
       "      <td>DEPT OF DEFENSE</td>\n",
       "      <td>DEFENSE LOGISTICS AGENCY (DLA)</td>\n",
       "      <td>DLA TROOP SUPPORT</td>\n",
       "      <td>2020-06-03</td>\n",
       "      <td>Combined Synopsis/Solicitation</td>\n",
       "      <td>Combined Synopsis/Solicitation</td>\n",
       "      <td>autocustom</td>\n",
       "      <td>2020-07-15</td>\n",
       "      <td>NaN</td>\n",
       "      <td>NaN</td>\n",
       "      <td>2020-06-15</td>\n",
       "      <td>541890.0</td>\n",
       "      <td>99</td>\n",
       "      <td>Yes</td>\n",
       "      <td>{'awardee': {'location': {}}}</td>\n",
       "      <td>[{'fax': None, 'type': 'primary', 'email': 'DibbsBSM@dla.mil', 'phone': None, 'title': None, 'fullName': 'Questions regarding this solicitation should be emailed to the buyer listed in block 5 of the solicitation document which can be found under the Additional Information link.\\nIf the Additional Information link does not work, please go to https://www.dibbs.'}]</td>\n",
       "      <td>https://api.sam.gov/prod/opportunities/v1/noticedesc?noticeid=00124f67277e493ab43ad3658aa2fd41</td>\n",
       "      <td>OFFICE</td>\n",
       "      <td>{'zipcode': '19111-5096', 'city': 'PHILADELPHIA', 'countryCode': 'USA', 'state': 'PA'}</td>\n",
       "      <td>{}</td>\n",
       "      <td>NaN</td>\n",
       "      <td>https://beta.sam.gov/opp/00124f67277e493ab43ad3658aa2fd41/view</td>\n",
       "      <td>[{'rel': 'self', 'href': 'https://api.sam.gov/prod/opportunities/v1/search?noticeid=00124f67277e493ab43ad3658aa2fd41&amp;limit=1'}]</td>\n",
       "      <td>NaN</td>\n",
       "      <td>Plate Set Identific</td>\n",
       "      <td>2020-06-03</td>\n",
       "    </tr>\n",
       "  </tbody>\n",
       "</table>\n",
       "</div>"
      ],
      "text/plain": [
       "                               noticeId  \\\n",
       "55620  006816da72d442aeac1bc7efe0afe201   \n",
       "55621  00624941e33545db91e5d132a10f7c8c   \n",
       "55622  0053c3932ac049aca98baac97e9e4b7c   \n",
       "55623  00159f16f3c94b84af124e5ceacbd914   \n",
       "55624  00124f67277e493ab43ad3658aa2fd41   \n",
       "\n",
       "                                                                                        title  \\\n",
       "55620  Preventative Maintenance Emergency Repair of Eaton Uninterruptible Power Supply System   \n",
       "55621                                                                     61--BATTERY,STORAGE   \n",
       "55622                                                                    66--INDICATOR,COURSE   \n",
       "55623                                                                 70--READER,MAGNETIC-CON   \n",
       "55624                                                                 99--PLATE SET,IDENTIFIC   \n",
       "\n",
       "      solicitationNumber       department                         subTier  \\\n",
       "55620      FA481420P0042  DEPT OF DEFENSE           DEPT OF THE AIR FORCE   \n",
       "55621      SPE7L720T4198  DEPT OF DEFENSE  DEFENSE LOGISTICS AGENCY (DLA)   \n",
       "55622      SPE4A620T23L8  DEPT OF DEFENSE  DEFENSE LOGISTICS AGENCY (DLA)   \n",
       "55623      SPE8EN20T3243  DEPT OF DEFENSE  DEFENSE LOGISTICS AGENCY (DLA)   \n",
       "55624      SPE8E620T3832  DEPT OF DEFENSE  DEFENSE LOGISTICS AGENCY (DLA)   \n",
       "\n",
       "                      office  postedDate                            type  \\\n",
       "55620       FA4814 6 CONS PK  2020-06-03                   Justification   \n",
       "55621  DLA LAND AND MARITIME  2020-06-03  Combined Synopsis/Solicitation   \n",
       "55622           DLA AVIATION  2020-06-03  Combined Synopsis/Solicitation   \n",
       "55623      DLA TROOP SUPPORT  2020-06-03  Combined Synopsis/Solicitation   \n",
       "55624      DLA TROOP SUPPORT  2020-06-03  Combined Synopsis/Solicitation   \n",
       "\n",
       "                             baseType archiveType archiveDate  \\\n",
       "55620                   Justification      auto30  2020-07-03   \n",
       "55621  Combined Synopsis/Solicitation  autocustom  2020-07-15   \n",
       "55622  Combined Synopsis/Solicitation  autocustom  2020-07-11   \n",
       "55623  Combined Synopsis/Solicitation  autocustom  2020-07-15   \n",
       "55624  Combined Synopsis/Solicitation  autocustom  2020-07-15   \n",
       "\n",
       "                                                          typeOfSetAsideDescription  \\\n",
       "55620                                                                           NaN   \n",
       "55621           Historically Underutilized Business (HUBZone) Set-Aside (FAR 19.13)   \n",
       "55622  Service-Disabled Veteran-Owned Small Business (SDVOSB) Set-Aside (FAR 19.14)   \n",
       "55623  Service-Disabled Veteran-Owned Small Business (SDVOSB) Set-Aside (FAR 19.14)   \n",
       "55624                                                                           NaN   \n",
       "\n",
       "      typeOfSetAside responseDeadLine  naicsCode classificationCode active  \\\n",
       "55620            NaN              NaN   811219.0               J061    Yes   \n",
       "55621            HZC       2020-06-15   335999.0                 61    Yes   \n",
       "55622        SDVOSBC       2020-06-11   334511.0                 66    Yes   \n",
       "55623        SDVOSBC       2020-06-15   334614.0                 70    Yes   \n",
       "55624            NaN       2020-06-15   541890.0                 99    Yes   \n",
       "\n",
       "                                                   award  \\\n",
       "55620  {'date': '2020-05-22', 'number': 'FA481420P0042'}   \n",
       "55621                      {'awardee': {'location': {}}}   \n",
       "55622                      {'awardee': {'location': {}}}   \n",
       "55623                      {'awardee': {'location': {}}}   \n",
       "55624                      {'awardee': {'location': {}}}   \n",
       "\n",
       "                                                                                                                                                                                                                                                                                                                                                                      pointOfContact  \\\n",
       "55620                                                                                                                                                                                                                                          [{'fax': '', 'type': 'primary', 'email': 'tricia.keene@us.af.mil', 'phone': '8138280485', 'title': None, 'fullName': 'Tricia Keene'}]   \n",
       "55621  [{'fax': None, 'type': 'primary', 'email': 'DibbsBSM@dla.mil', 'phone': None, 'title': None, 'fullName': 'Questions regarding this solicitation should be emailed to the buyer listed in block 5 of the solicitation document which can be found under the Additional Information link.\\nIf the Additional Information link does not work, please go to https://www.dibbs.'}]   \n",
       "55622  [{'fax': None, 'type': 'primary', 'email': 'DibbsBSM@dla.mil', 'phone': None, 'title': None, 'fullName': 'Questions regarding this solicitation should be emailed to the buyer listed in block 5 of the solicitation document which can be found under the Additional Information link.\\nIf the Additional Information link does not work, please go to https://www.dibbs.'}]   \n",
       "55623  [{'fax': None, 'type': 'primary', 'email': 'DibbsBSM@dla.mil', 'phone': None, 'title': None, 'fullName': 'Questions regarding this solicitation should be emailed to the buyer listed in block 5 of the solicitation document which can be found under the Additional Information link.\\nIf the Additional Information link does not work, please go to https://www.dibbs.'}]   \n",
       "55624  [{'fax': None, 'type': 'primary', 'email': 'DibbsBSM@dla.mil', 'phone': None, 'title': None, 'fullName': 'Questions regarding this solicitation should be emailed to the buyer listed in block 5 of the solicitation document which can be found under the Additional Information link.\\nIf the Additional Information link does not work, please go to https://www.dibbs.'}]   \n",
       "\n",
       "                                                                                          description  \\\n",
       "55620  https://api.sam.gov/prod/opportunities/v1/noticedesc?noticeid=006816da72d442aeac1bc7efe0afe201   \n",
       "55621  https://api.sam.gov/prod/opportunities/v1/noticedesc?noticeid=00624941e33545db91e5d132a10f7c8c   \n",
       "55622  https://api.sam.gov/prod/opportunities/v1/noticedesc?noticeid=0053c3932ac049aca98baac97e9e4b7c   \n",
       "55623  https://api.sam.gov/prod/opportunities/v1/noticedesc?noticeid=00159f16f3c94b84af124e5ceacbd914   \n",
       "55624  https://api.sam.gov/prod/opportunities/v1/noticedesc?noticeid=00124f67277e493ab43ad3658aa2fd41   \n",
       "\n",
       "      organizationType  \\\n",
       "55620           OFFICE   \n",
       "55621           OFFICE   \n",
       "55622           OFFICE   \n",
       "55623           OFFICE   \n",
       "55624           OFFICE   \n",
       "\n",
       "                                                                                officeAddress  \\\n",
       "55620         {'zipcode': '33621-5119', 'city': 'TAMPA', 'countryCode': 'USA', 'state': 'FL'}   \n",
       "55621      {'zipcode': '43218-3990', 'city': 'COLUMBUS', 'countryCode': 'USA', 'state': 'OH'}   \n",
       "55622           {'zipcode': '23297', 'city': 'RICHMOND', 'countryCode': 'USA', 'state': 'VA'}   \n",
       "55623  {'zipcode': '19111-5096', 'city': 'PHILADELPHIA', 'countryCode': 'USA', 'state': 'PA'}   \n",
       "55624  {'zipcode': '19111-5096', 'city': 'PHILADELPHIA', 'countryCode': 'USA', 'state': 'PA'}   \n",
       "\n",
       "                                                                                                                                                  placeOfPerformance  \\\n",
       "55620  {'city': {'code': '71000', 'name': 'Tampa'}, 'state': {'code': 'FL', 'name': 'Florida'}, 'zip': '33621', 'country': {'code': 'USA', 'name': 'UNITED STATES'}}   \n",
       "55621                                                                                                                                                             {}   \n",
       "55622                                                                                                                                                             {}   \n",
       "55623                                                                                                                                                             {}   \n",
       "55624                                                                                                                                                             {}   \n",
       "\n",
       "       additionalInfoLink  \\\n",
       "55620                 NaN   \n",
       "55621                 NaN   \n",
       "55622                 NaN   \n",
       "55623                 NaN   \n",
       "55624                 NaN   \n",
       "\n",
       "                                                               uiLink  \\\n",
       "55620  https://beta.sam.gov/opp/006816da72d442aeac1bc7efe0afe201/view   \n",
       "55621  https://beta.sam.gov/opp/00624941e33545db91e5d132a10f7c8c/view   \n",
       "55622  https://beta.sam.gov/opp/0053c3932ac049aca98baac97e9e4b7c/view   \n",
       "55623  https://beta.sam.gov/opp/00159f16f3c94b84af124e5ceacbd914/view   \n",
       "55624  https://beta.sam.gov/opp/00124f67277e493ab43ad3658aa2fd41/view   \n",
       "\n",
       "                                                                                                                                 links  \\\n",
       "55620  [{'rel': 'self', 'href': 'https://api.sam.gov/prod/opportunities/v1/search?noticeid=006816da72d442aeac1bc7efe0afe201&limit=1'}]   \n",
       "55621  [{'rel': 'self', 'href': 'https://api.sam.gov/prod/opportunities/v1/search?noticeid=00624941e33545db91e5d132a10f7c8c&limit=1'}]   \n",
       "55622  [{'rel': 'self', 'href': 'https://api.sam.gov/prod/opportunities/v1/search?noticeid=0053c3932ac049aca98baac97e9e4b7c&limit=1'}]   \n",
       "55623  [{'rel': 'self', 'href': 'https://api.sam.gov/prod/opportunities/v1/search?noticeid=00159f16f3c94b84af124e5ceacbd914&limit=1'}]   \n",
       "55624  [{'rel': 'self', 'href': 'https://api.sam.gov/prod/opportunities/v1/search?noticeid=00124f67277e493ab43ad3658aa2fd41&limit=1'}]   \n",
       "\n",
       "                                                                                                                               resourceLinks  \\\n",
       "55620  ['https://beta.sam.gov/api/prod/opps/v3/opportunities/resources/files/ce64a7a886014b0996bea5ca8bec53dc/download?api_key=null&token=']   \n",
       "55621                                                                                                                                    NaN   \n",
       "55622                                                                                                                                    NaN   \n",
       "55623                                                                                                                                    NaN   \n",
       "55624                                                                                                                                    NaN   \n",
       "\n",
       "                                                                               cleaned_titles  \\\n",
       "55620  Preventative Maintenance Emergency Repair Of Eaton Uninterruptible Power Supply System   \n",
       "55621                                                                         Battery Storage   \n",
       "55622                                                                        Indicator Course   \n",
       "55623                                                                     Reader Magnetic Con   \n",
       "55624                                                                     Plate Set Identific   \n",
       "\n",
       "      date_posted  \n",
       "55620  2020-06-03  \n",
       "55621  2020-06-03  \n",
       "55622  2020-06-03  \n",
       "55623  2020-06-03  \n",
       "55624  2020-06-03  "
      ]
     },
     "execution_count": 6,
     "metadata": {},
     "output_type": "execute_result"
    }
   ],
   "source": [
    "df.tail()"
   ]
  },
  {
   "cell_type": "code",
   "execution_count": 7,
   "metadata": {
    "scrolled": true
   },
   "outputs": [
    {
     "name": "stdout",
     "output_type": "stream",
     "text": [
      "Number of duplicated rows: 4703\n"
     ]
    }
   ],
   "source": [
    "# find and drop duplicates\n",
    "print('Number of duplicated rows:', df.loc[df.duplicated()].shape[0])"
   ]
  },
  {
   "cell_type": "code",
   "execution_count": 8,
   "metadata": {},
   "outputs": [],
   "source": [
    "# drop duplicates\n",
    "df = df.drop_duplicates()"
   ]
  },
  {
   "cell_type": "code",
   "execution_count": 9,
   "metadata": {
    "scrolled": true
   },
   "outputs": [
    {
     "name": "stdout",
     "output_type": "stream",
     "text": [
      "Number of rows after removing duplicates: 50922\n"
     ]
    }
   ],
   "source": [
    "# check number of rows after removing duplicates\n",
    "\n",
    "print('Number of rows after removing duplicates:', df.shape[0])"
   ]
  },
  {
   "cell_type": "code",
   "execution_count": 10,
   "metadata": {},
   "outputs": [],
   "source": [
    "# export dataframe into csv file\n",
    "\n",
    "df.to_csv('./data/combined.csv', index=False)"
   ]
  },
  {
   "cell_type": "markdown",
   "metadata": {},
   "source": [
    "## EDA"
   ]
  },
  {
   "cell_type": "code",
   "execution_count": 11,
   "metadata": {},
   "outputs": [
    {
     "name": "stdout",
     "output_type": "stream",
     "text": [
      "<class 'pandas.core.frame.DataFrame'>\n",
      "Int64Index: 50922 entries, 0 to 55599\n",
      "Data columns (total 29 columns):\n",
      " #   Column                     Non-Null Count  Dtype  \n",
      "---  ------                     --------------  -----  \n",
      " 0   noticeId                   50922 non-null  object \n",
      " 1   title                      50922 non-null  object \n",
      " 2   solicitationNumber         50530 non-null  object \n",
      " 3   department                 50883 non-null  object \n",
      " 4   subTier                    50807 non-null  object \n",
      " 5   office                     50881 non-null  object \n",
      " 6   postedDate                 50922 non-null  object \n",
      " 7   type                       50922 non-null  object \n",
      " 8   baseType                   50922 non-null  object \n",
      " 9   archiveType                50922 non-null  object \n",
      " 10  archiveDate                50922 non-null  object \n",
      " 11  typeOfSetAsideDescription  18501 non-null  object \n",
      " 12  typeOfSetAside             18501 non-null  object \n",
      " 13  responseDeadLine           41722 non-null  object \n",
      " 14  naicsCode                  47255 non-null  float64\n",
      " 15  classificationCode         49426 non-null  object \n",
      " 16  active                     50922 non-null  object \n",
      " 17  award                      30754 non-null  object \n",
      " 18  pointOfContact             50477 non-null  object \n",
      " 19  description                50922 non-null  object \n",
      " 20  organizationType           50883 non-null  object \n",
      " 21  officeAddress              50577 non-null  object \n",
      " 22  placeOfPerformance         44001 non-null  object \n",
      " 23  additionalInfoLink         0 non-null      float64\n",
      " 24  uiLink                     50922 non-null  object \n",
      " 25  links                      50922 non-null  object \n",
      " 26  resourceLinks              16714 non-null  object \n",
      " 27  cleaned_titles             50903 non-null  object \n",
      " 28  date_posted                50922 non-null  object \n",
      "dtypes: float64(2), object(27)\n",
      "memory usage: 11.7+ MB\n"
     ]
    }
   ],
   "source": [
    "# inspect data\n",
    "# inspect data\n",
    "\n",
    "df.info()"
   ]
  },
  {
   "cell_type": "markdown",
   "metadata": {},
   "source": [
    "#### Missing Data"
   ]
  },
  {
   "cell_type": "code",
   "execution_count": 12,
   "metadata": {},
   "outputs": [],
   "source": [
    "import matplotlib.pyplot as plt"
   ]
  },
  {
   "cell_type": "code",
   "execution_count": 13,
   "metadata": {},
   "outputs": [
    {
     "data": {
      "image/png": "[encoded data removed]",
      "text/plain": [
       "<Figure size 1008x504 with 1 Axes>"
      ]
     },
     "metadata": {
      "needs_background": "light"
     },
     "output_type": "display_data"
    }
   ],
   "source": [
    "# create a plot that shows columns with missing values\n",
    "\n",
    "# columns with missing values\n",
    "cols_w_missings = df.loc[:, df.isna().sum() > 0]\n",
    "\n",
    "# plot missing data\n",
    "# set figsize\n",
    "plt.figure(figsize=(14, 7))\n",
    "# set title\n",
    "plt.title('Missing Values by Columns')   \n",
    "# plot the number of missing values in each column\n",
    "cols_w_missings.isna().sum().plot(kind='bar');"
   ]
  },
  {
   "cell_type": "code",
   "execution_count": 14,
   "metadata": {},
   "outputs": [
    {
     "name": "stdout",
     "output_type": "stream",
     "text": [
      "Number of observations: 50922\n",
      "\n",
      "Number of missing values:\n",
      "    solicitationNumber column    = 392\n",
      "    department column    = 39\n",
      "    subTier column    = 115\n",
      "    office column    = 41\n",
      "    typeOfSetAsideDescription column    = 32421\n",
      "    typeOfSetAside column    = 32421\n",
      "    responseDeadLine column    = 9200\n",
      "    naicsCode column    = 3667\n",
      "    classificationCode column    = 1496\n",
      "    award column    = 20168\n",
      "    pointOfContact column    = 445\n",
      "    organizationType column    = 39\n",
      "    officeAddress column    = 345\n",
      "    placeOfPerformance column    = 6921\n",
      "    additionalInfoLink column    = 50922\n",
      "    resourceLinks column    = 34208\n",
      "    cleaned_titles column    = 19\n"
     ]
    }
   ],
   "source": [
    "# prints\n",
    "print(f'Number of observations: {df.shape[0]}')\n",
    "print('')\n",
    "print('Number of missing values:')\n",
    "for i in range(len(cols_w_missings.columns)):\n",
    "    print(f'    {cols_w_missings.columns[i]} column\\\n",
    "    = {cols_w_missings[cols_w_missings.columns[i]].isna().sum()}')"
   ]
  },
  {
   "cell_type": "code",
   "execution_count": 15,
   "metadata": {},
   "outputs": [],
   "source": [
    "# additionalInfoLink column has no values\n",
    "# drop additionalInfoLink column\n",
    "df.drop('additionalInfoLink', axis=1, inplace=True)"
   ]
  },
  {
   "cell_type": "markdown",
   "metadata": {},
   "source": [
    "**Explore the Type of Award Notices**"
   ]
  },
  {
   "cell_type": "code",
   "execution_count": 16,
   "metadata": {},
   "outputs": [
    {
     "data": {
      "text/plain": [
       "Combined Synopsis/Solicitation    0.402793\n",
       "Solicitation                      0.160304\n",
       "Presolicitation                   0.144574\n",
       "Award Notice                      0.127195\n",
       "Sources Sought                    0.084305\n",
       "Special Notice                    0.057794\n",
       "Justification                     0.022230\n",
       "Sale of Surplus Property          0.000786\n",
       "Intent to Bundle Requirements     0.000020\n",
       "Name: type, dtype: float64"
      ]
     },
     "execution_count": 16,
     "metadata": {},
     "output_type": "execute_result"
    }
   ],
   "source": [
    "# find count unique values of df['type']\n",
    "df['type'].value_counts(normalize=True)"
   ]
  },
  {
   "cell_type": "code",
   "execution_count": 18,
   "metadata": {},
   "outputs": [
    {
     "data": {
      "image/png": "[encoded data removed]",
      "text/plain": [
       "<Figure size 864x576 with 1 Axes>"
      ]
     },
     "metadata": {
      "needs_background": "light"
     },
     "output_type": "display_data"
    }
   ],
   "source": [
    "# find count unique values of df['type']\n",
    "\n",
    "fig = plt.figure(figsize=(12, 8))\n",
    "plt.title('Award Notice Categories')\n",
    "plt.xticks(rotation=20, ha='right')\n",
    "plt.ylabel('Percent of all Notices')\n",
    "plt.bar(df['type'].value_counts().index, df['type'].value_counts(normalize=True));\n",
    "\n",
    "# save figure\n",
    "plt.savefig('./images/notice_categories.png', dpi=300, bbox_inches='tight')\n",
    "\n",
    "# xticks rotation source: https://kite.com/python/answers/how-to-rotate-date-ticks-using-matplotlib-in-python\n",
    "# xticks alignment source: https://stackoverflow.com/questions/14852821/aligning-rotated-xticklabels-with-their-respective-xticks"
   ]
  },
  {
   "cell_type": "code",
   "execution_count": 32,
   "metadata": {},
   "outputs": [],
   "source": [
    "# create a column for combined notification types\n",
    "df['combined_type'] = df['type'].map({'Combined Synopsis/Solicitation': 'Solicitation',\n",
    "                                      'Solicitation': 'Solicitation',\n",
    "                                      'Presolicitation': 'Presolicitation',\n",
    "                                      'Award Notice': 'Award Notice',\n",
    "                                      'Sources Sought': 'Presolicitation',\n",
    "                                      'Special Notice': 'Other',\n",
    "                                      'Justification': 'Other',\n",
    "                                      'Sale of Surplus Property': 'Other',\n",
    "                                      'Intent to Bundle Requirements': 'Other'})"
   ]
  },
  {
   "cell_type": "code",
   "execution_count": 33,
   "metadata": {},
   "outputs": [
    {
     "data": {
      "text/plain": [
       "Solicitation       0.563097\n",
       "Presolicitation    0.228879\n",
       "Award Notice       0.127195\n",
       "Other              0.080830\n",
       "Name: combined_type, dtype: float64"
      ]
     },
     "execution_count": 33,
     "metadata": {},
     "output_type": "execute_result"
    }
   ],
   "source": [
    "df['combined_type'].value_counts(normalize=True)"
   ]
  },
  {
   "cell_type": "code",
   "execution_count": 34,
   "metadata": {},
   "outputs": [
    {
     "data": {
      "image/png": "[encoded data removed]",
      "text/plain": [
       "<Figure size 864x576 with 1 Axes>"
      ]
     },
     "metadata": {
      "needs_background": "light"
     },
     "output_type": "display_data"
    }
   ],
   "source": [
    "# find count unique values of df['combined_type']\n",
    "\n",
    "fig = plt.figure(figsize=(12, 8))\n",
    "plt.title('Notification Categories')\n",
    "plt.xticks(rotation=20, ha='right')\n",
    "plt.ylabel('Percent of all Notifications')\n",
    "plt.bar(df['combined_type'].value_counts().index, df['combined_type'].value_counts(normalize=True));\n",
    "\n",
    "# save figure\n",
    "plt.savefig('./images/notice_categories_combined.png', dpi=300, bbox_inches='tight')\n",
    "\n",
    "# xticks rotation source: https://kite.com/python/answers/how-to-rotate-date-ticks-using-matplotlib-in-python\n",
    "# xticks alignment source: https://stackoverflow.com/questions/14852821/aligning-rotated-xticklabels-with-their-respective-xticks"
   ]
  },
  {
   "cell_type": "code",
   "execution_count": 51,
   "metadata": {},
   "outputs": [
    {
     "name": "stdout",
     "output_type": "stream",
     "text": [
      "Percent of all soliciation notices: 0.5621\n"
     ]
    }
   ],
   "source": [
    "# combine solicitation notices with combined synopsis and soliciation notices\n",
    "# this gives back the percent of notices that solicit applications for award\n",
    "\n",
    "print(f\"Percent of all soliciation notices: \\\n",
    "{round(df['type'].value_counts(normalize=True)['Combined Synopsis/Solicitation'] + df['type'].value_counts(normalize=True)['Solicitation'], 4)}\\\n",
    "\")"
   ]
  },
  {
   "cell_type": "markdown",
   "metadata": {},
   "source": [
    "*Observation:* combined synopsis and solicitation is about 56% of all Notices. When we combine all types of solicitations, 58.7% of all notices is soliciting for a submission. \n",
    "\n",
    "*Note:* Special Notice may contain combined sysnopsis and soliciation, and presolicitation may be sources sought. "
   ]
  },
  {
   "cell_type": "markdown",
   "metadata": {},
   "source": [
    "**Eplore Notices by Departments**"
   ]
  },
  {
   "cell_type": "code",
   "execution_count": 19,
   "metadata": {
    "scrolled": true
   },
   "outputs": [
    {
     "data": {
      "text/plain": [
       "DEPT OF DEFENSE                                                          0.741643\n",
       "VETERANS AFFAIRS, DEPARTMENT OF                                          0.077236\n",
       "INTERIOR, DEPARTMENT OF THE                                              0.033096\n",
       "HOMELAND SECURITY, DEPARTMENT OF                                         0.023367\n",
       "AGRICULTURE, DEPARTMENT OF                                               0.022424\n",
       "                                                                           ...   \n",
       "FEDERAL DEPOSIT INSURANCE CORPORATION                                    0.000039\n",
       "COMMITTEE FOR PURCHASE FROM PEOPLE WHO ARE BLIND OR SEVERELY DISABLED    0.000039\n",
       "FEDERAL RETIREMENT THRIFT INVESTMENT BOARD                               0.000020\n",
       "FEDERAL HOUSING FINANCE AGENCY                                           0.000020\n",
       "RAILROAD RETIREMENT BOARD                                                0.000020\n",
       "Name: department, Length: 62, dtype: float64"
      ]
     },
     "execution_count": 19,
     "metadata": {},
     "output_type": "execute_result"
    }
   ],
   "source": [
    "df['department'].value_counts(normalize=True)"
   ]
  },
  {
   "cell_type": "code",
   "execution_count": 20,
   "metadata": {},
   "outputs": [
    {
     "data": {
      "image/png": "[encoded data removed]",
      "text/plain": [
       "<Figure size 576x1152 with 1 Axes>"
      ]
     },
     "metadata": {
      "needs_background": "light"
     },
     "output_type": "display_data"
    }
   ],
   "source": [
    "# majority of the notices originated from the Department of Defense\n",
    "# plot\n",
    "fig = plt.figure(figsize=(8, 16))\n",
    "plt.title('Department of Origin')\n",
    "plt.xlabel('Percent of Notices')\n",
    "plt.barh(df['department'].value_counts().sort_values().index, \n",
    "         df['department'].value_counts(normalize=True).sort_values());\n"
   ]
  },
  {
   "cell_type": "markdown",
   "metadata": {},
   "source": [
    "The Department of Defense has far the most award notices. Let's look at what subtiers are active in award solicitation."
   ]
  },
  {
   "cell_type": "code",
   "execution_count": 21,
   "metadata": {
    "scrolled": true
   },
   "outputs": [
    {
     "data": {
      "text/plain": [
       "DEFENSE LOGISTICS AGENCY (DLA)                                   0.527192\n",
       "DEPT OF THE NAVY                                                 0.189282\n",
       "DEPT OF THE ARMY                                                 0.171870\n",
       "DEPT OF THE AIR FORCE                                            0.066893\n",
       "DEFENSE INFORMATION SYSTEMS AGENCY (DISA)                        0.029869\n",
       "US SPECIAL OPERATIONS COMMAND (USSOCOM)                          0.001829\n",
       "DEFENSE COMMISSARY AGENCY  (DECA)                                0.001802\n",
       "DEPT OF DEFENSE EDUCATION ACTIVITY (DODEA)                       0.001617\n",
       "DEFENSE ADVANCED RESEARCH PROJECTS AGENCY  (DARPA)               0.001617\n",
       "WASHINGTON HEADQUARTERS SERVICES (WHS)                           0.001405\n",
       "US TRANSPORTATION COMMAND (USTRANSCOM)                           0.001193\n",
       "NATIONAL GEOSPATIAL-INTELLIGENCE AGENCY (NGA)                    0.000928\n",
       "DEFENSE HEALTH AGENCY (DHA)                                      0.000875\n",
       "MISSILE DEFENSE AGENCY (MDA)                                     0.000716\n",
       "DEFENSE THREAT REDUCTION AGENCY (DTRA)                           0.000583\n",
       "DEFENSE INTELLIGENCE AGENCY (DIA)                                0.000424\n",
       "DEFENSE FINANCE AND ACCOUNTING SERVICE (DFAS)                    0.000345\n",
       "UNIFORMED SERVICES UNIVERSITY OF THE HEALTH SCIENCES  (USUHS)    0.000292\n",
       "DEFENSE MEDIA ACTIVITY (DMA)                                     0.000239\n",
       "DEFENSE MICROELECTRONICS ACTIVITY (DMEA)                         0.000212\n",
       "SPACE DEVELOPMENT AGENCY (SDA)                                   0.000212\n",
       "DEFENSE COUNTERINTELLIGENCE AND SECURITY AGENCY (DCSA)           0.000159\n",
       "DEFENSE HUMAN RESOURCES ACTIVITY                                 0.000159\n",
       "DEFENSE CONTRACT MANAGEMENT AGENCY (DCMA)                        0.000159\n",
       "DEPT OF DEFENSE                                                  0.000106\n",
       "ACCTG DISB STA NR 525700                                         0.000027\n",
       "Name: subTier, dtype: float64"
      ]
     },
     "execution_count": 21,
     "metadata": {},
     "output_type": "execute_result"
    }
   ],
   "source": [
    "# isolate the Department of Defense notices - and break it down by subtiers\n",
    "df.loc[df['department'] == 'DEPT OF DEFENSE']['subTier'].value_counts(normalize=True)"
   ]
  },
  {
   "cell_type": "code",
   "execution_count": 22,
   "metadata": {},
   "outputs": [
    {
     "name": "stdout",
     "output_type": "stream",
     "text": [
      "What are the most common types of contract notices coming from the Department of Defense?\n"
     ]
    },
    {
     "data": {
      "text/plain": [
       "Combined Synopsis/Solicitation    0.457032\n",
       "Solicitation                      0.150091\n",
       "Presolicitation                   0.136921\n",
       "Award Notice                      0.130429\n",
       "Sources Sought                    0.065029\n",
       "Special Notice                    0.040279\n",
       "Justification                     0.019132\n",
       "Sale of Surplus Property          0.001060\n",
       "Intent to Bundle Requirements     0.000026\n",
       "Name: type, dtype: float64"
      ]
     },
     "execution_count": 22,
     "metadata": {},
     "output_type": "execute_result"
    }
   ],
   "source": [
    "# what type of notices are the most common for the Department of Defense\n",
    "print('What are the most common types of contract notices coming from the Department of Defense?')\n",
    "df.loc[df['department'] == 'DEPT OF DEFENSE']['type'].value_counts(normalize=True)"
   ]
  },
  {
   "cell_type": "code",
   "execution_count": 23,
   "metadata": {
    "scrolled": true
   },
   "outputs": [
    {
     "name": "stdout",
     "output_type": "stream",
     "text": [
      "Which department has most often published contract solicitations between March 1 and May 22?\n"
     ]
    },
    {
     "data": {
      "text/plain": [
       "DEPT OF DEFENSE                                                0.799156\n",
       "VETERANS AFFAIRS, DEPARTMENT OF                                0.042624\n",
       "INTERIOR, DEPARTMENT OF THE                                    0.033067\n",
       "HOMELAND SECURITY, DEPARTMENT OF                               0.025044\n",
       "AGRICULTURE, DEPARTMENT OF                                     0.021801\n",
       "JUSTICE, DEPARTMENT OF                                         0.018801\n",
       "HEALTH AND HUMAN SERVICES, DEPARTMENT OF                       0.013011\n",
       "STATE, DEPARTMENT OF                                           0.006139\n",
       "GENERAL SERVICES ADMINISTRATION                                0.005895\n",
       "TRANSPORTATION, DEPARTMENT OF                                  0.005581\n",
       "COMMERCE, DEPARTMENT OF                                        0.005162\n",
       "AGENCY FOR INTERNATIONAL DEVELOPMENT                           0.004848\n",
       "ENERGY, DEPARTMENT OF                                          0.003802\n",
       "NATIONAL AERONAUTICS AND SPACE ADMINISTRATION                  0.003139\n",
       "ENVIRONMENTAL PROTECTION AGENCY                                0.001535\n",
       "SOCIAL SECURITY ADMINISTRATION                                 0.001186\n",
       "TREASURY, DEPARTMENT OF THE                                    0.001186\n",
       "UNITED STATES GOVERNMENT PUBLISHING OFFICE                     0.001046\n",
       "LIBRARY OF CONGRESS                                            0.000907\n",
       "INTERNATIONAL BOUNDARY AND WATER COMMISSION: US-MEXICO         0.000663\n",
       "MILLENNIUM CHALLENGE CORPORATION                               0.000628\n",
       "LABOR, DEPARTMENT OF                                           0.000558\n",
       "FEDERAL COMMUNICATIONS COMMISSION                              0.000419\n",
       "POSTAL SERVICE                                                 0.000349\n",
       "UNITED STATES AGENCY FOR GLOBAL MEDIA, BBG                     0.000314\n",
       "HOUSING AND URBAN DEVELOPMENT, DEPARTMENT OF                   0.000314\n",
       "NUCLEAR REGULATORY COMMISSION                                  0.000244\n",
       "ARCHITECT OF THE CAPITOL                                       0.000244\n",
       "COURT SERVICES AND OFFENDER SUPERVISION AGENCY                 0.000209\n",
       "OFFICE OF PERSONNEL MANAGEMENT                                 0.000174\n",
       "SMITHSONIAN INSTITUTION                                        0.000140\n",
       "OFFICE OF THE DIRECTOR OF NATIONAL INTELLIGENCE                0.000140\n",
       "NATIONAL ARCHIVES AND RECORDS ADMINISTRATION                   0.000140\n",
       "ADMINISTRATIVE OFFICE OF THE US COURTS                         0.000140\n",
       "SMALL BUSINESS ADMINISTRATION                                  0.000140\n",
       "CORPORATION FOR NATIONAL AND COMMUNITY SERVICE                 0.000105\n",
       "GOVERNMENT ACCOUNTABILITY OFFICE                               0.000105\n",
       "CONSUMER PRODUCT SAFETY COMMISSION                             0.000105\n",
       "HOUSE OF REPRESENTATIVES, THE                                  0.000105\n",
       "COMMODITY FUTURES TRADING COMMISSION                           0.000105\n",
       "EDUCATION, DEPARTMENT OF                                       0.000070\n",
       "UNITED STATES INTERNATIONAL DEVELOPMENT FINANCE CORPORATION    0.000070\n",
       "PENSION BENEFIT GUARANTY CORPORATION                           0.000070\n",
       "INTERNATIONAL TRADE COMMISSION                                 0.000070\n",
       "EXECUTIVE OFFICE OF THE PRESIDENT                              0.000070\n",
       "UNITED STATES HOLOCAUST MEMORIAL MUSEUM                        0.000070\n",
       "UNITED STATES TRADE AND DEVELOPMENT AGENCY                     0.000070\n",
       "SECURITIES AND EXCHANGE COMMISSION                             0.000070\n",
       "SENATE, THE                                                    0.000035\n",
       "NATIONAL LABOR RELATIONS BOARD                                 0.000035\n",
       "EXPORT-IMPORT BANK OF THE US                                   0.000035\n",
       "NATIONAL SCIENCE FOUNDATION                                    0.000035\n",
       "CONSUMER FINANCIAL PROTECTION BUREAU                           0.000035\n",
       "Name: department, dtype: float64"
      ]
     },
     "execution_count": 23,
     "metadata": {},
     "output_type": "execute_result"
    }
   ],
   "source": [
    "# find all the combined synopsis/ solicitation notices and the solicitation notices\n",
    "# output the departments that are soliciting for submission\n",
    "print('Which department has most often published contract solicitations between March 1 and May 22?')\n",
    "df.loc[(df['type'] == 'Combined Synopsis/Solicitation') | (df['type'] == 'Solicitation')]['department']\\\n",
    ".value_counts(normalize=True)"
   ]
  },
  {
   "cell_type": "code",
   "execution_count": 24,
   "metadata": {},
   "outputs": [
    {
     "name": "stdout",
     "output_type": "stream",
     "text": [
      "Which subtier has most often published contract solicitations between March 1 and May 22?\n"
     ]
    },
    {
     "data": {
      "text/plain": [
       "DEFENSE LOGISTICS AGENCY (DLA)                                   0.489832\n",
       "DEPT OF THE ARMY                                                 0.120862\n",
       "DEPT OF THE NAVY                                                 0.119537\n",
       "VETERANS AFFAIRS, DEPARTMENT OF                                  0.042624\n",
       "DEPT OF THE AIR FORCE                                            0.037288\n",
       "                                                                   ...   \n",
       "SAINT LAWRENCE SEAWAY DEVELOPMENT CORPORATION                    0.000035\n",
       "UNIFORMED SERVICES UNIVERSITY OF THE HEALTH SCIENCES  (USUHS)    0.000035\n",
       "NATIONAL TELECOMMUNICATIONS AND INFORMATION ADMINISTRATION       0.000035\n",
       "FEDERAL TRANSIT ADMINISTRATION                                   0.000035\n",
       "NATIONAL SCIENCE FOUNDATION                                      0.000035\n",
       "Name: subTier, Length: 134, dtype: float64"
      ]
     },
     "execution_count": 24,
     "metadata": {},
     "output_type": "execute_result"
    }
   ],
   "source": [
    "# # find all the combined synopsis/ solicitation notices and the solicitation notices\n",
    "# output the subtiers within departments that are soliciting for submission\n",
    "print('Which subtier has most often published contract solicitations between March 1 and May 22?')\n",
    "df.loc[(df['type'] == 'Combined Synopsis/Solicitation') | (df['type'] == 'Solicitation')]['subTier']\\\n",
    ".value_counts(normalize=True)"
   ]
  },
  {
   "cell_type": "code",
   "execution_count": 25,
   "metadata": {
    "scrolled": true
   },
   "outputs": [
    {
     "name": "stdout",
     "output_type": "stream",
     "text": [
      "Which department published the most award notice during this year?\n"
     ]
    },
    {
     "data": {
      "text/plain": [
       "DEPT OF DEFENSE                                  0.763101\n",
       "VETERANS AFFAIRS, DEPARTMENT OF                  0.068992\n",
       "INTERIOR, DEPARTMENT OF THE                      0.033023\n",
       "JUSTICE, DEPARTMENT OF                           0.029922\n",
       "GENERAL SERVICES ADMINISTRATION                  0.028062\n",
       "AGRICULTURE, DEPARTMENT OF                       0.024031\n",
       "HOMELAND SECURITY, DEPARTMENT OF                 0.024031\n",
       "HEALTH AND HUMAN SERVICES, DEPARTMENT OF         0.009922\n",
       "COMMERCE, DEPARTMENT OF                          0.004651\n",
       "STATE, DEPARTMENT OF                             0.003876\n",
       "NATIONAL AERONAUTICS AND SPACE ADMINISTRATION    0.002171\n",
       "TRANSPORTATION, DEPARTMENT OF                    0.001550\n",
       "ENVIRONMENTAL PROTECTION AGENCY                  0.001550\n",
       "ENERGY, DEPARTMENT OF                            0.001240\n",
       "LIBRARY OF CONGRESS                              0.000775\n",
       "UNITED STATES GOVERNMENT PUBLISHING OFFICE       0.000620\n",
       "AGENCY FOR INTERNATIONAL DEVELOPMENT             0.000620\n",
       "LABOR, DEPARTMENT OF                             0.000310\n",
       "NUCLEAR REGULATORY COMMISSION                    0.000310\n",
       "FEDERAL HOUSING FINANCE AGENCY                   0.000155\n",
       "TREASURY, DEPARTMENT OF THE                      0.000155\n",
       "SMALL BUSINESS ADMINISTRATION                    0.000155\n",
       "SOCIAL SECURITY ADMINISTRATION                   0.000155\n",
       "SECURITIES AND EXCHANGE COMMISSION               0.000155\n",
       "NATIONAL TRANSPORTATION SAFETY BOARD             0.000155\n",
       "POSTAL SERVICE                                   0.000155\n",
       "UNITED STATES HOLOCAUST MEMORIAL MUSEUM          0.000155\n",
       "Name: department, dtype: float64"
      ]
     },
     "execution_count": 25,
     "metadata": {},
     "output_type": "execute_result"
    }
   ],
   "source": [
    "# find all award notices\n",
    "# output frequency by deparments\n",
    "print('Which department published the most award notice during this year?')\n",
    "df.loc[df['type'] == 'Award Notice']['department'].value_counts(normalize=True)"
   ]
  },
  {
   "cell_type": "code",
   "execution_count": 27,
   "metadata": {
    "scrolled": true
   },
   "outputs": [
    {
     "name": "stdout",
     "output_type": "stream",
     "text": [
      "Which department published the most \"solicitation for interest\" during this year?\n"
     ]
    },
    {
     "data": {
      "text/plain": [
       "DEPT OF DEFENSE                                   0.572295\n",
       "VETERANS AFFAIRS, DEPARTMENT OF                   0.205224\n",
       "HEALTH AND HUMAN SERVICES, DEPARTMENT OF          0.035681\n",
       "GENERAL SERVICES ADMINISTRATION                   0.033582\n",
       "INTERIOR, DEPARTMENT OF THE                       0.029851\n",
       "HOMELAND SECURITY, DEPARTMENT OF                  0.023321\n",
       "AGRICULTURE, DEPARTMENT OF                        0.014692\n",
       "TRANSPORTATION, DEPARTMENT OF                     0.014226\n",
       "COMMERCE, DEPARTMENT OF                           0.013526\n",
       "JUSTICE, DEPARTMENT OF                            0.010728\n",
       "NATIONAL AERONAUTICS AND SPACE ADMINISTRATION     0.010261\n",
       "ENERGY, DEPARTMENT OF                             0.008629\n",
       "STATE, DEPARTMENT OF                              0.005830\n",
       "TREASURY, DEPARTMENT OF THE                       0.005131\n",
       "LABOR, DEPARTMENT OF                              0.003265\n",
       "AGENCY FOR INTERNATIONAL DEVELOPMENT              0.003032\n",
       "SENATE, THE                                       0.002799\n",
       "ENVIRONMENTAL PROTECTION AGENCY                   0.001399\n",
       "POSTAL SERVICE                                    0.001166\n",
       "HOUSING AND URBAN DEVELOPMENT, DEPARTMENT OF      0.000933\n",
       "OFFICE OF PERSONNEL MANAGEMENT                    0.000466\n",
       "THE LEGISLATIVE BRANCH                            0.000466\n",
       "NATIONAL TRANSPORTATION SAFETY BOARD              0.000466\n",
       "CORPORATION FOR NATIONAL AND COMMUNITY SERVICE    0.000466\n",
       "LIBRARY OF CONGRESS                               0.000233\n",
       "GOVERNMENT ACCOUNTABILITY OFFICE                  0.000233\n",
       "UNITED STATES AGENCY FOR GLOBAL MEDIA, BBG        0.000233\n",
       "PEACE CORPS                                       0.000233\n",
       "SOCIAL SECURITY ADMINISTRATION                    0.000233\n",
       "COMMODITY FUTURES TRADING COMMISSION              0.000233\n",
       "SECURITIES AND EXCHANGE COMMISSION                0.000233\n",
       "NUCLEAR REGULATORY COMMISSION                     0.000233\n",
       "UNITED STATES GOVERNMENT PUBLISHING OFFICE        0.000233\n",
       "FEDERAL DEPOSIT INSURANCE CORPORATION             0.000233\n",
       "SMALL BUSINESS ADMINISTRATION                     0.000233\n",
       "Name: department, dtype: float64"
      ]
     },
     "execution_count": 27,
     "metadata": {},
     "output_type": "execute_result"
    }
   ],
   "source": [
    "# find all Sources Sought notices\n",
    "# output frequency by deparments\n",
    "print('Which department published the most \"solicitation for interest\" during this year?')\n",
    "df.loc[df['type'] == 'Sources Sought']['department'].value_counts(normalize=True)"
   ]
  },
  {
   "cell_type": "code",
   "execution_count": null,
   "metadata": {},
   "outputs": [],
   "source": []
  }
 ],
 "metadata": {
  "kernelspec": {
   "display_name": "Python 3",
   "language": "python",
   "name": "python3"
  },
  "language_info": {
   "codemirror_mode": {
    "name": "ipython",
    "version": 3
   },
   "file_extension": ".py",
   "mimetype": "text/x-python",
   "name": "python",
   "nbconvert_exporter": "python",
   "pygments_lexer": "ipython3",
   "version": "3.7.6"
  }
 },
 "nbformat": 4,
 "nbformat_minor": 4
}
