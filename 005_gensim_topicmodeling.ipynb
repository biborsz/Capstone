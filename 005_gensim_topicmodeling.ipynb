{
 "cells": [
  {
   "cell_type": "code",
   "execution_count": 1,
   "metadata": {},
   "outputs": [],
   "source": [
    "import pandas as pd\n",
    "import numpy as np\n",
    "from gensim import corpora\n",
    "from nltk.tokenize import RegexpTokenizer\n",
    "# from nltk.corpus import stopwords"
   ]
  },
  {
   "cell_type": "code",
   "execution_count": 2,
   "metadata": {},
   "outputs": [],
   "source": [
    "# read in file\n",
    "df = pd.read_csv('./data/combined.csv')"
   ]
  },
  {
   "cell_type": "code",
   "execution_count": 3,
   "metadata": {},
   "outputs": [],
   "source": [
    "# I want to be able to see the entire title of a notice \n",
    "# set display options to full column widths\n",
    "pd.set_option('display.max_colwidth', None)"
   ]
  },
  {
   "cell_type": "code",
   "execution_count": 4,
   "metadata": {
    "scrolled": true
   },
   "outputs": [
    {
     "data": {
      "text/html": [
       "<div>\n",
       "<style scoped>\n",
       "    .dataframe tbody tr th:only-of-type {\n",
       "        vertical-align: middle;\n",
       "    }\n",
       "\n",
       "    .dataframe tbody tr th {\n",
       "        vertical-align: top;\n",
       "    }\n",
       "\n",
       "    .dataframe thead th {\n",
       "        text-align: right;\n",
       "    }\n",
       "</style>\n",
       "<table border=\"1\" class=\"dataframe\">\n",
       "  <thead>\n",
       "    <tr style=\"text-align: right;\">\n",
       "      <th></th>\n",
       "      <th>noticeId</th>\n",
       "      <th>title</th>\n",
       "      <th>solicitationNumber</th>\n",
       "      <th>department</th>\n",
       "      <th>subTier</th>\n",
       "      <th>office</th>\n",
       "      <th>postedDate</th>\n",
       "      <th>type</th>\n",
       "      <th>baseType</th>\n",
       "      <th>archiveType</th>\n",
       "      <th>...</th>\n",
       "      <th>award</th>\n",
       "      <th>pointOfContact</th>\n",
       "      <th>description</th>\n",
       "      <th>organizationType</th>\n",
       "      <th>officeAddress</th>\n",
       "      <th>placeOfPerformance</th>\n",
       "      <th>additionalInfoLink</th>\n",
       "      <th>uiLink</th>\n",
       "      <th>links</th>\n",
       "      <th>resourceLinks</th>\n",
       "    </tr>\n",
       "  </thead>\n",
       "  <tbody>\n",
       "    <tr>\n",
       "      <th>0</th>\n",
       "      <td>ffe3c07bab8b4a7d9be583fd4dd96c4a</td>\n",
       "      <td>REQUEST FOR INFORMATION - NEW DESIGN BOOKLET DIE CUTTING INSERT ASSEMBLY</td>\n",
       "      <td>RFI-042720</td>\n",
       "      <td>UNITED STATES GOVERNMENT PUBLISHING OFFICE</td>\n",
       "      <td>UNITED STATES GOVERNMENT PUBLISHING OFFICE</td>\n",
       "      <td>Acquisition Services</td>\n",
       "      <td>2020-04-27</td>\n",
       "      <td>Sources Sought</td>\n",
       "      <td>Sources Sought</td>\n",
       "      <td>auto15</td>\n",
       "      <td>...</td>\n",
       "      <td>NaN</td>\n",
       "      <td>[{'fax': '', 'type': 'primary', 'email': 'rgraham@gpo.gov', 'phone': '2025120032', 'title': None, 'fullName': 'Rosalyn Graham'}, {'fax': '', 'type': 'secondary', 'email': 'rortega@gpo.gov', 'phone': '2025120803', 'title': None, 'fullName': 'Ronald Ortega'}]</td>\n",
       "      <td>https://api.sam.gov/prod/opportunities/v1/noticedesc?noticeid=ffe3c07bab8b4a7d9be583fd4dd96c4a</td>\n",
       "      <td>OFFICE</td>\n",
       "      <td>{'zipcode': '20401', 'city': 'Washington', 'countryCode': 'USA', 'state': 'DC'}</td>\n",
       "      <td>{'state': {'code': 'DC', 'name': 'District of Columbia'}, 'zip': '20401', 'country': {'code': 'USA', 'name': 'UNITED STATES'}}</td>\n",
       "      <td>NaN</td>\n",
       "      <td>https://beta.sam.gov/opp/ffe3c07bab8b4a7d9be583fd4dd96c4a/view</td>\n",
       "      <td>[{'rel': 'self', 'href': 'https://api.sam.gov/prod/opportunities/v1/search?noticeid=ffe3c07bab8b4a7d9be583fd4dd96c4a&amp;limit=1', 'hreflang': None, 'media': None, 'title': None, 'type': None, 'deprecation': None}]</td>\n",
       "      <td>['https://beta.sam.gov/api/prod/opps/v3/opportunities/resources/files/bd2b3b5e86474278ae1ea1a163ccbfd7/download?api_key=null&amp;token=', 'https://beta.sam.gov/api/prod/opps/v3/opportunities/resources/files/774a16e89e4d431e85b0eba1a510a24c/download?api_key=null&amp;token=', 'https://beta.sam.gov/api/prod/opps/v3/opportunities/resources/files/b62d72d82537413f8537bb19160d49bd/download?api_key=null&amp;token=']</td>\n",
       "    </tr>\n",
       "    <tr>\n",
       "      <th>1</th>\n",
       "      <td>ff5e29951ed14b0386ea3291fa6c573f</td>\n",
       "      <td>Audiovisual Suite for Large Auditorium - Maxwell AFB</td>\n",
       "      <td>FA330020X0001</td>\n",
       "      <td>DEPT OF DEFENSE</td>\n",
       "      <td>DEPT OF THE AIR FORCE</td>\n",
       "      <td>FA3300  42 CONS CC</td>\n",
       "      <td>2020-04-27</td>\n",
       "      <td>Sources Sought</td>\n",
       "      <td>Sources Sought</td>\n",
       "      <td>auto15</td>\n",
       "      <td>...</td>\n",
       "      <td>NaN</td>\n",
       "      <td>[{'fax': '3349532198', 'type': 'primary', 'email': 'brandon.osborne.6@us.af.mil', 'phone': '3349537835', 'title': None, 'fullName': 'Brandon Osborne'}, {'fax': '3349532198', 'type': 'secondary', 'email': 'jeremy.kersey.1@us.af.mil', 'phone': '3349533526', 'title': None, 'fullName': 'Jeremy B. Kersey'}]</td>\n",
       "      <td>https://api.sam.gov/prod/opportunities/v1/noticedesc?noticeid=ff5e29951ed14b0386ea3291fa6c573f</td>\n",
       "      <td>OFFICE</td>\n",
       "      <td>{'zipcode': '36112-6334', 'city': 'MAXWELL AFB', 'countryCode': 'USA', 'state': 'AL'}</td>\n",
       "      <td>{'city': {'code': '51000', 'name': 'Montgomery'}, 'state': {'code': 'AL', 'name': 'Alabama'}, 'zip': '36112', 'country': {'code': 'USA', 'name': 'UNITED STATES'}}</td>\n",
       "      <td>NaN</td>\n",
       "      <td>https://beta.sam.gov/opp/ff5e29951ed14b0386ea3291fa6c573f/view</td>\n",
       "      <td>[{'rel': 'self', 'href': 'https://api.sam.gov/prod/opportunities/v1/search?noticeid=ff5e29951ed14b0386ea3291fa6c573f&amp;limit=1', 'hreflang': None, 'media': None, 'title': None, 'type': None, 'deprecation': None}]</td>\n",
       "      <td>['https://beta.sam.gov/api/prod/opps/v3/opportunities/resources/files/c2a6338838ed4ebfa7d70e91221ffc21/download?api_key=null&amp;token=']</td>\n",
       "    </tr>\n",
       "    <tr>\n",
       "      <th>2</th>\n",
       "      <td>ff2a16aad70246d1ba10e639c11456d4</td>\n",
       "      <td>Metrology Equipment Move</td>\n",
       "      <td>SP4703-20-Q-0045</td>\n",
       "      <td>DEPT OF DEFENSE</td>\n",
       "      <td>DEFENSE LOGISTICS AGENCY (DLA)</td>\n",
       "      <td>DCSO RICHMOND</td>\n",
       "      <td>2020-04-27</td>\n",
       "      <td>Combined Synopsis/Solicitation</td>\n",
       "      <td>Combined Synopsis/Solicitation</td>\n",
       "      <td>auto15</td>\n",
       "      <td>...</td>\n",
       "      <td>NaN</td>\n",
       "      <td>[{'fax': '', 'type': 'primary', 'email': 'Kiara.leslie@dla.mil', 'phone': '8042796566', 'title': None, 'fullName': 'Kiara Leslie'}, {'fax': '', 'type': 'secondary', 'email': 'mary.washington@dla.mil', 'phone': '8042795628', 'title': None, 'fullName': 'Mary A. Washington, Contracting Officer'}]</td>\n",
       "      <td>https://api.sam.gov/prod/opportunities/v1/noticedesc?noticeid=ff2a16aad70246d1ba10e639c11456d4</td>\n",
       "      <td>OFFICE</td>\n",
       "      <td>{'zipcode': '23297-5441', 'city': 'RICHMOND', 'countryCode': 'USA', 'state': 'VA'}</td>\n",
       "      <td>{'city': {'code': '67000', 'name': 'Richmond'}, 'state': {'code': 'VA', 'name': 'Virginia'}, 'zip': '23219', 'country': {'code': 'USA', 'name': 'UNITED STATES'}}</td>\n",
       "      <td>NaN</td>\n",
       "      <td>https://beta.sam.gov/opp/ff2a16aad70246d1ba10e639c11456d4/view</td>\n",
       "      <td>[{'rel': 'self', 'href': 'https://api.sam.gov/prod/opportunities/v1/search?noticeid=ff2a16aad70246d1ba10e639c11456d4&amp;limit=1', 'hreflang': None, 'media': None, 'title': None, 'type': None, 'deprecation': None}]</td>\n",
       "      <td>['https://beta.sam.gov/api/prod/opps/v3/opportunities/resources/files/18c139e819464ce2934b07f841d6b742/download?api_key=null&amp;token=', 'https://beta.sam.gov/api/prod/opps/v3/opportunities/resources/files/3254bee55b05422bb5a5638f85f5ad85/download?api_key=null&amp;token=', 'https://beta.sam.gov/api/prod/opps/v3/opportunities/resources/files/db5cf8928e394ca3bbccc489858e3613/download?api_key=null&amp;token=', 'https://beta.sam.gov/api/prod/opps/v3/opportunities/resources/files/7c5bdc22855046e0a7c5f1a9505f8cb7/download?api_key=null&amp;token=', 'https://beta.sam.gov/api/prod/opps/v3/opportunities/resources/files/5c967f7e9bae4dc297067066a8c326ea/download?api_key=null&amp;token=', 'https://beta.sam.gov/api/prod/opps/v3/opportunities/resources/files/db21fce9fd544d03a3e879c84e989b65/download?api_key=null&amp;token=', 'https://beta.sam.gov/api/prod/opps/v3/opportunities/resources/files/79b161ca6b7349779413df63e474a8e6/download?api_key=null&amp;token=']</td>\n",
       "    </tr>\n",
       "    <tr>\n",
       "      <th>3</th>\n",
       "      <td>fef5aeb716414feb8c12eec5e5063ff6</td>\n",
       "      <td>INNER INFLATABLE ASSY (LPU-36A/P)</td>\n",
       "      <td>PR1000092966</td>\n",
       "      <td>DEPT OF DEFENSE</td>\n",
       "      <td>DEFENSE LOGISTICS AGENCY (DLA)</td>\n",
       "      <td>DLA LAND AND MARITIME</td>\n",
       "      <td>2020-04-27</td>\n",
       "      <td>Sources Sought</td>\n",
       "      <td>Sources Sought</td>\n",
       "      <td>auto15</td>\n",
       "      <td>...</td>\n",
       "      <td>NaN</td>\n",
       "      <td>[{'fax': '', 'type': 'primary', 'email': 'mindy.messerly@dla.mil', 'phone': '', 'title': None, 'fullName': 'Mindy Messerly614-692-4874'}]</td>\n",
       "      <td>https://api.sam.gov/prod/opportunities/v1/noticedesc?noticeid=fef5aeb716414feb8c12eec5e5063ff6</td>\n",
       "      <td>OFFICE</td>\n",
       "      <td>{'zipcode': '43218-3990', 'city': 'COLUMBUS', 'countryCode': 'USA', 'state': 'OH'}</td>\n",
       "      <td>NaN</td>\n",
       "      <td>NaN</td>\n",
       "      <td>https://beta.sam.gov/opp/fef5aeb716414feb8c12eec5e5063ff6/view</td>\n",
       "      <td>[{'rel': 'self', 'href': 'https://api.sam.gov/prod/opportunities/v1/search?noticeid=fef5aeb716414feb8c12eec5e5063ff6&amp;limit=1', 'hreflang': None, 'media': None, 'title': None, 'type': None, 'deprecation': None}]</td>\n",
       "      <td>NaN</td>\n",
       "    </tr>\n",
       "    <tr>\n",
       "      <th>4</th>\n",
       "      <td>fed3bef7bd1e4ac389950ef7a087e578</td>\n",
       "      <td>17--CRADLE</td>\n",
       "      <td>SPE8EF20T1468</td>\n",
       "      <td>DEPT OF DEFENSE</td>\n",
       "      <td>DEFENSE LOGISTICS AGENCY (DLA)</td>\n",
       "      <td>DLA TROOP SUPPORT</td>\n",
       "      <td>2020-04-27</td>\n",
       "      <td>Combined Synopsis/Solicitation</td>\n",
       "      <td>Combined Synopsis/Solicitation</td>\n",
       "      <td>autocustom</td>\n",
       "      <td>...</td>\n",
       "      <td>{'awardee': {'location': {}}}</td>\n",
       "      <td>[{'fax': None, 'type': 'primary', 'email': 'DibbsBSM@dla.mil', 'phone': None, 'title': None, 'fullName': 'Questions regarding this solicitation should be emailed to the buyer listed in block 5 of the solicitation document which can be found under the Additional Information link.\\nIf the Additional Information link does not work, please go to https://www.dibbs.'}]</td>\n",
       "      <td>https://api.sam.gov/prod/opportunities/v1/noticedesc?noticeid=fed3bef7bd1e4ac389950ef7a087e578</td>\n",
       "      <td>OFFICE</td>\n",
       "      <td>{'zipcode': '19111-5096', 'city': 'PHILADELPHIA', 'countryCode': 'USA', 'state': 'PA'}</td>\n",
       "      <td>{}</td>\n",
       "      <td>NaN</td>\n",
       "      <td>https://beta.sam.gov/opp/fed3bef7bd1e4ac389950ef7a087e578/view</td>\n",
       "      <td>[{'rel': 'self', 'href': 'https://api.sam.gov/prod/opportunities/v1/search?noticeid=fed3bef7bd1e4ac389950ef7a087e578&amp;limit=1', 'hreflang': None, 'media': None, 'title': None, 'type': None, 'deprecation': None}]</td>\n",
       "      <td>NaN</td>\n",
       "    </tr>\n",
       "  </tbody>\n",
       "</table>\n",
       "<p>5 rows × 27 columns</p>\n",
       "</div>"
      ],
      "text/plain": [
       "                           noticeId  \\\n",
       "0  ffe3c07bab8b4a7d9be583fd4dd96c4a   \n",
       "1  ff5e29951ed14b0386ea3291fa6c573f   \n",
       "2  ff2a16aad70246d1ba10e639c11456d4   \n",
       "3  fef5aeb716414feb8c12eec5e5063ff6   \n",
       "4  fed3bef7bd1e4ac389950ef7a087e578   \n",
       "\n",
       "                                                                      title  \\\n",
       "0  REQUEST FOR INFORMATION - NEW DESIGN BOOKLET DIE CUTTING INSERT ASSEMBLY   \n",
       "1                      Audiovisual Suite for Large Auditorium - Maxwell AFB   \n",
       "2                                                  Metrology Equipment Move   \n",
       "3                                         INNER INFLATABLE ASSY (LPU-36A/P)   \n",
       "4                                                                17--CRADLE   \n",
       "\n",
       "  solicitationNumber                                  department  \\\n",
       "0         RFI-042720  UNITED STATES GOVERNMENT PUBLISHING OFFICE   \n",
       "1      FA330020X0001                             DEPT OF DEFENSE   \n",
       "2   SP4703-20-Q-0045                             DEPT OF DEFENSE   \n",
       "3       PR1000092966                             DEPT OF DEFENSE   \n",
       "4      SPE8EF20T1468                             DEPT OF DEFENSE   \n",
       "\n",
       "                                      subTier                 office  \\\n",
       "0  UNITED STATES GOVERNMENT PUBLISHING OFFICE   Acquisition Services   \n",
       "1                       DEPT OF THE AIR FORCE     FA3300  42 CONS CC   \n",
       "2              DEFENSE LOGISTICS AGENCY (DLA)          DCSO RICHMOND   \n",
       "3              DEFENSE LOGISTICS AGENCY (DLA)  DLA LAND AND MARITIME   \n",
       "4              DEFENSE LOGISTICS AGENCY (DLA)      DLA TROOP SUPPORT   \n",
       "\n",
       "   postedDate                            type                        baseType  \\\n",
       "0  2020-04-27                  Sources Sought                  Sources Sought   \n",
       "1  2020-04-27                  Sources Sought                  Sources Sought   \n",
       "2  2020-04-27  Combined Synopsis/Solicitation  Combined Synopsis/Solicitation   \n",
       "3  2020-04-27                  Sources Sought                  Sources Sought   \n",
       "4  2020-04-27  Combined Synopsis/Solicitation  Combined Synopsis/Solicitation   \n",
       "\n",
       "  archiveType  ...                          award  \\\n",
       "0      auto15  ...                            NaN   \n",
       "1      auto15  ...                            NaN   \n",
       "2      auto15  ...                            NaN   \n",
       "3      auto15  ...                            NaN   \n",
       "4  autocustom  ...  {'awardee': {'location': {}}}   \n",
       "\n",
       "                                                                                                                                                                                                                                                                                                                                                                  pointOfContact  \\\n",
       "0                                                                                                              [{'fax': '', 'type': 'primary', 'email': 'rgraham@gpo.gov', 'phone': '2025120032', 'title': None, 'fullName': 'Rosalyn Graham'}, {'fax': '', 'type': 'secondary', 'email': 'rortega@gpo.gov', 'phone': '2025120803', 'title': None, 'fullName': 'Ronald Ortega'}]   \n",
       "1                                                                [{'fax': '3349532198', 'type': 'primary', 'email': 'brandon.osborne.6@us.af.mil', 'phone': '3349537835', 'title': None, 'fullName': 'Brandon Osborne'}, {'fax': '3349532198', 'type': 'secondary', 'email': 'jeremy.kersey.1@us.af.mil', 'phone': '3349533526', 'title': None, 'fullName': 'Jeremy B. Kersey'}]   \n",
       "2                                                                         [{'fax': '', 'type': 'primary', 'email': 'Kiara.leslie@dla.mil', 'phone': '8042796566', 'title': None, 'fullName': 'Kiara Leslie'}, {'fax': '', 'type': 'secondary', 'email': 'mary.washington@dla.mil', 'phone': '8042795628', 'title': None, 'fullName': 'Mary A. Washington, Contracting Officer'}]   \n",
       "3                                                                                                                                                                                                                                      [{'fax': '', 'type': 'primary', 'email': 'mindy.messerly@dla.mil', 'phone': '', 'title': None, 'fullName': 'Mindy Messerly614-692-4874'}]   \n",
       "4  [{'fax': None, 'type': 'primary', 'email': 'DibbsBSM@dla.mil', 'phone': None, 'title': None, 'fullName': 'Questions regarding this solicitation should be emailed to the buyer listed in block 5 of the solicitation document which can be found under the Additional Information link.\\nIf the Additional Information link does not work, please go to https://www.dibbs.'}]   \n",
       "\n",
       "                                                                                      description  \\\n",
       "0  https://api.sam.gov/prod/opportunities/v1/noticedesc?noticeid=ffe3c07bab8b4a7d9be583fd4dd96c4a   \n",
       "1  https://api.sam.gov/prod/opportunities/v1/noticedesc?noticeid=ff5e29951ed14b0386ea3291fa6c573f   \n",
       "2  https://api.sam.gov/prod/opportunities/v1/noticedesc?noticeid=ff2a16aad70246d1ba10e639c11456d4   \n",
       "3  https://api.sam.gov/prod/opportunities/v1/noticedesc?noticeid=fef5aeb716414feb8c12eec5e5063ff6   \n",
       "4  https://api.sam.gov/prod/opportunities/v1/noticedesc?noticeid=fed3bef7bd1e4ac389950ef7a087e578   \n",
       "\n",
       "  organizationType  \\\n",
       "0           OFFICE   \n",
       "1           OFFICE   \n",
       "2           OFFICE   \n",
       "3           OFFICE   \n",
       "4           OFFICE   \n",
       "\n",
       "                                                                            officeAddress  \\\n",
       "0         {'zipcode': '20401', 'city': 'Washington', 'countryCode': 'USA', 'state': 'DC'}   \n",
       "1   {'zipcode': '36112-6334', 'city': 'MAXWELL AFB', 'countryCode': 'USA', 'state': 'AL'}   \n",
       "2      {'zipcode': '23297-5441', 'city': 'RICHMOND', 'countryCode': 'USA', 'state': 'VA'}   \n",
       "3      {'zipcode': '43218-3990', 'city': 'COLUMBUS', 'countryCode': 'USA', 'state': 'OH'}   \n",
       "4  {'zipcode': '19111-5096', 'city': 'PHILADELPHIA', 'countryCode': 'USA', 'state': 'PA'}   \n",
       "\n",
       "                                                                                                                                                   placeOfPerformance  \\\n",
       "0                                      {'state': {'code': 'DC', 'name': 'District of Columbia'}, 'zip': '20401', 'country': {'code': 'USA', 'name': 'UNITED STATES'}}   \n",
       "1  {'city': {'code': '51000', 'name': 'Montgomery'}, 'state': {'code': 'AL', 'name': 'Alabama'}, 'zip': '36112', 'country': {'code': 'USA', 'name': 'UNITED STATES'}}   \n",
       "2   {'city': {'code': '67000', 'name': 'Richmond'}, 'state': {'code': 'VA', 'name': 'Virginia'}, 'zip': '23219', 'country': {'code': 'USA', 'name': 'UNITED STATES'}}   \n",
       "3                                                                                                                                                                 NaN   \n",
       "4                                                                                                                                                                  {}   \n",
       "\n",
       "  additionalInfoLink  \\\n",
       "0                NaN   \n",
       "1                NaN   \n",
       "2                NaN   \n",
       "3                NaN   \n",
       "4                NaN   \n",
       "\n",
       "                                                           uiLink  \\\n",
       "0  https://beta.sam.gov/opp/ffe3c07bab8b4a7d9be583fd4dd96c4a/view   \n",
       "1  https://beta.sam.gov/opp/ff5e29951ed14b0386ea3291fa6c573f/view   \n",
       "2  https://beta.sam.gov/opp/ff2a16aad70246d1ba10e639c11456d4/view   \n",
       "3  https://beta.sam.gov/opp/fef5aeb716414feb8c12eec5e5063ff6/view   \n",
       "4  https://beta.sam.gov/opp/fed3bef7bd1e4ac389950ef7a087e578/view   \n",
       "\n",
       "                                                                                                                                                                                                                links  \\\n",
       "0  [{'rel': 'self', 'href': 'https://api.sam.gov/prod/opportunities/v1/search?noticeid=ffe3c07bab8b4a7d9be583fd4dd96c4a&limit=1', 'hreflang': None, 'media': None, 'title': None, 'type': None, 'deprecation': None}]   \n",
       "1  [{'rel': 'self', 'href': 'https://api.sam.gov/prod/opportunities/v1/search?noticeid=ff5e29951ed14b0386ea3291fa6c573f&limit=1', 'hreflang': None, 'media': None, 'title': None, 'type': None, 'deprecation': None}]   \n",
       "2  [{'rel': 'self', 'href': 'https://api.sam.gov/prod/opportunities/v1/search?noticeid=ff2a16aad70246d1ba10e639c11456d4&limit=1', 'hreflang': None, 'media': None, 'title': None, 'type': None, 'deprecation': None}]   \n",
       "3  [{'rel': 'self', 'href': 'https://api.sam.gov/prod/opportunities/v1/search?noticeid=fef5aeb716414feb8c12eec5e5063ff6&limit=1', 'hreflang': None, 'media': None, 'title': None, 'type': None, 'deprecation': None}]   \n",
       "4  [{'rel': 'self', 'href': 'https://api.sam.gov/prod/opportunities/v1/search?noticeid=fed3bef7bd1e4ac389950ef7a087e578&limit=1', 'hreflang': None, 'media': None, 'title': None, 'type': None, 'deprecation': None}]   \n",
       "\n",
       "                                                                                                                                                                                                                                                                                                                                                                                                                                                                                                                                                                                                                                                                                                                                                                                                                                                                                                                                                         resourceLinks  \n",
       "0                                                                                                                                                                                                                                                                                                                                                                                                                                                                                                                                                      ['https://beta.sam.gov/api/prod/opps/v3/opportunities/resources/files/bd2b3b5e86474278ae1ea1a163ccbfd7/download?api_key=null&token=', 'https://beta.sam.gov/api/prod/opps/v3/opportunities/resources/files/774a16e89e4d431e85b0eba1a510a24c/download?api_key=null&token=', 'https://beta.sam.gov/api/prod/opps/v3/opportunities/resources/files/b62d72d82537413f8537bb19160d49bd/download?api_key=null&token=']  \n",
       "1                                                                                                                                                                                                                                                                                                                                                                                                                                                                                                                                                                                                                                                                                                                                                                                                                                ['https://beta.sam.gov/api/prod/opps/v3/opportunities/resources/files/c2a6338838ed4ebfa7d70e91221ffc21/download?api_key=null&token=']  \n",
       "2  ['https://beta.sam.gov/api/prod/opps/v3/opportunities/resources/files/18c139e819464ce2934b07f841d6b742/download?api_key=null&token=', 'https://beta.sam.gov/api/prod/opps/v3/opportunities/resources/files/3254bee55b05422bb5a5638f85f5ad85/download?api_key=null&token=', 'https://beta.sam.gov/api/prod/opps/v3/opportunities/resources/files/db5cf8928e394ca3bbccc489858e3613/download?api_key=null&token=', 'https://beta.sam.gov/api/prod/opps/v3/opportunities/resources/files/7c5bdc22855046e0a7c5f1a9505f8cb7/download?api_key=null&token=', 'https://beta.sam.gov/api/prod/opps/v3/opportunities/resources/files/5c967f7e9bae4dc297067066a8c326ea/download?api_key=null&token=', 'https://beta.sam.gov/api/prod/opps/v3/opportunities/resources/files/db21fce9fd544d03a3e879c84e989b65/download?api_key=null&token=', 'https://beta.sam.gov/api/prod/opps/v3/opportunities/resources/files/79b161ca6b7349779413df63e474a8e6/download?api_key=null&token=']  \n",
       "3                                                                                                                                                                                                                                                                                                                                                                                                                                                                                                                                                                                                                                                                                                                                                                                                                                                                                                                                                                  NaN  \n",
       "4                                                                                                                                                                                                                                                                                                                                                                                                                                                                                                                                                                                                                                                                                                                                                                                                                                                                                                                                                                  NaN  \n",
       "\n",
       "[5 rows x 27 columns]"
      ]
     },
     "execution_count": 4,
     "metadata": {},
     "output_type": "execute_result"
    }
   ],
   "source": [
    "df.head()"
   ]
  },
  {
   "cell_type": "markdown",
   "metadata": {},
   "source": [
    "#### Create the Corpus\n",
    "\n",
    "The recommender is built on the text contained in the 'title' column of the dataframe."
   ]
  },
  {
   "cell_type": "markdown",
   "metadata": {},
   "source": [
    "**Inspect the type and base type of all notifications to decide if all types should be included in the dictionary.**"
   ]
  },
  {
   "cell_type": "code",
   "execution_count": 22,
   "metadata": {},
   "outputs": [
    {
     "data": {
      "text/plain": [
       "Combined Synopsis/Solicitation    18831\n",
       "Solicitation                       7705\n",
       "Presolicitation                    7043\n",
       "Award Notice                       6106\n",
       "Sources Sought                     4091\n",
       "Special Notice                     2843\n",
       "Justification                      1077\n",
       "Sale of Surplus Property             43\n",
       "Intent to Bundle Requirements         2\n",
       "Name: type, dtype: int64"
      ]
     },
     "execution_count": 22,
     "metadata": {},
     "output_type": "execute_result"
    }
   ],
   "source": [
    "# list types of notices in the contract opportunities dataframe\n",
    "df['type'].value_counts()"
   ]
  },
  {
   "cell_type": "code",
   "execution_count": 23,
   "metadata": {},
   "outputs": [
    {
     "data": {
      "text/plain": [
       "Combined Synopsis/Solicitation      20057\n",
       "Presolicitation                      7828\n",
       "Solicitation                         7336\n",
       "Sources Sought                       4803\n",
       "Award Notice                         3978\n",
       "Special Notice                       2836\n",
       "Justification                         855\n",
       "Sale of Surplus Property               43\n",
       "Justification and Approval (J&A)        5\n",
       "Name: baseType, dtype: int64"
      ]
     },
     "execution_count": 23,
     "metadata": {},
     "output_type": "execute_result"
    }
   ],
   "source": [
    "# list base types of notices in the contract opportunities dataframe\n",
    "df['baseType'].value_counts()"
   ]
  },
  {
   "cell_type": "markdown",
   "metadata": {},
   "source": [
    "\n",
    "Since the title of all types of contract opportunities may contain pertinent information to find similarities and dissimilarities between different documents, the complete dataset will serve as the basis for the dictionary.\n",
    "\n",
    "---"
   ]
  },
  {
   "cell_type": "markdown",
   "metadata": {},
   "source": [
    "#### Isolate Titles for NLP"
   ]
  },
  {
   "cell_type": "code",
   "execution_count": 24,
   "metadata": {},
   "outputs": [],
   "source": [
    "titles = df['title']"
   ]
  },
  {
   "cell_type": "markdown",
   "metadata": {},
   "source": [
    "Because of the specific, succinct nature of the titles of notifications we are working with, to enrich context **the department columns were combined with the text of the title.** "
   ]
  },
  {
   "cell_type": "code",
   "execution_count": 25,
   "metadata": {},
   "outputs": [],
   "source": [
    "# fill NaN with empty string\n",
    "df['department'] = df['department'].fillna(value='')\n",
    "df['subTier'] = df['subTier'].fillna(value='')"
   ]
  },
  {
   "cell_type": "code",
   "execution_count": 26,
   "metadata": {},
   "outputs": [],
   "source": [
    "# add department and subTier column to title column\n",
    "df['combined'] = df['title'] + ' ' + df['department'] + ' ' + df['subTier']"
   ]
  },
  {
   "cell_type": "code",
   "execution_count": 27,
   "metadata": {},
   "outputs": [
    {
     "data": {
      "text/plain": [
       "0"
      ]
     },
     "execution_count": 27,
     "metadata": {},
     "output_type": "execute_result"
    }
   ],
   "source": [
    "df['combined'].isna().sum()"
   ]
  },
  {
   "cell_type": "code",
   "execution_count": 28,
   "metadata": {},
   "outputs": [
    {
     "data": {
      "text/plain": [
       "(47741,)"
      ]
     },
     "execution_count": 28,
     "metadata": {},
     "output_type": "execute_result"
    }
   ],
   "source": [
    "# isolate corpus of interest\n",
    "combined = df['combined']\n",
    "combined.shape"
   ]
  },
  {
   "cell_type": "code",
   "execution_count": 29,
   "metadata": {
    "scrolled": true
   },
   "outputs": [
    {
     "data": {
      "text/plain": [
       "24268                                                                                                                                                                                                 53--O-RING DEPT OF DEFENSE DEFENSE LOGISTICS AGENCY (DLA)\n",
       "18350                                                                                                                                                                                        Computer Test Data Component DEPT OF DEFENSE DEPT OF THE AIR FORCE\n",
       "2315                                                                                                                                                             6515--COVID-19 PPE N95 SDC     VETERANS AFFAIRS, DEPARTMENT OF VETERANS AFFAIRS, DEPARTMENT OF\n",
       "8421                                                                                                                                                                                       42--EXTINGUISHER,FIRE DEPT OF DEFENSE DEFENSE LOGISTICS AGENCY (DLA)\n",
       "5442                                                                                                                     X1AA--VISN 8 ORM and OGC Succeeding Lease, St. Petersburg, Florida     VETERANS AFFAIRS, DEPARTMENT OF VETERANS AFFAIRS, DEPARTMENT OF\n",
       "25285                                                                                                                                                                                    59--CAPACITOR,FIXED,ELE DEPT OF DEFENSE DEFENSE LOGISTICS AGENCY (DLA)\n",
       "31233                                                                                                                                                F--BLM-CO-SWD - West Fork Dry Creek Tamarisk Removal INTERIOR, DEPARTMENT OF THE BUREAU OF LAND MANAGEMENT\n",
       "20044                                                                                                                                                                                    43--CYLINDER HEAD,COMPR DEPT OF DEFENSE DEFENSE LOGISTICS AGENCY (DLA)\n",
       "2830                                                                                                                                                                                71--Spacesaver Upgrade Enhancement Package DEPT OF DEFENSE DEPT OF THE ARMY\n",
       "35609                                                                                                                                                                                                     KC-46 Borescope DEPT OF DEFENSE DEPT OF THE AIR FORCE\n",
       "36969                                                                                                                                                                                         48--VALVE,SOLENOID DEPT OF DEFENSE DEFENSE LOGISTICS AGENCY (DLA)\n",
       "6884                                                                                                                                                                                     48--GEAR OPERATOR,VALVE DEPT OF DEFENSE DEFENSE LOGISTICS AGENCY (DLA)\n",
       "21113    Maintenance Services for Ventilation System, Building Automation, Air Conditioner System, Air Handling Unit, Heating Pump, Geothermal Heating/Climate Control System, Building Full Electrical/(RCD) Circuit Breakers DEPT OF DEFENSE DEPT OF THE ARMY\n",
       "979                                                                                                                              J059--Elevator Maintenance & Repair Services  Amendment 0002   VETERANS AFFAIRS, DEPARTMENT OF VETERANS AFFAIRS, DEPARTMENT OF\n",
       "37394                                                                                                                  Request for Proposal (RFP) for the USCG POLAR STAR Service Life Extension Project (SLEP) HOMELAND SECURITY, DEPARTMENT OF US COAST GUARD\n",
       "31171                                                                                                                                                   J065--Carl Zeiss Microscope Maintenance VETERANS AFFAIRS, DEPARTMENT OF VETERANS AFFAIRS, DEPARTMENT OF\n",
       "43509                                                                                                                                          Notice of Award to Miracorp Inc (via a Limited Source Justification) ENERGY, DEPARTMENT OF ENERGY, DEPARTMENT OF\n",
       "38180                                                                                                                                                            Software Licenses for Coinbase Supplies JUSTICE, DEPARTMENT OF DRUG ENFORCEMENT ADMINISTRATION\n",
       "45281                                                                                 Accelerating Change and Transformation in Organizations and Networks (ACTION) IV IDIQ HEALTH AND HUMAN SERVICES, DEPARTMENT OF AGENCY FOR HEALTHCARE RESEARCH AND QUALITY\n",
       "34059                                                                                                                                                                                             53--TURNBUCKLE DEPT OF DEFENSE DEFENSE LOGISTICS AGENCY (DLA)\n",
       "21021                                                                                                                                                                                    12--ADAPTER,DRIVE MOTOR DEPT OF DEFENSE DEFENSE LOGISTICS AGENCY (DLA)\n",
       "15648                                                                                                                                                           J--PERKIN ELMER MAINTENANCE SERVICE AGREEMENT INTERIOR, DEPARTMENT OF THE BUREAU OF RECLAMATION\n",
       "6276                                                                                                                                                                                       61--CONTROL BOX,POWER DEPT OF DEFENSE DEFENSE LOGISTICS AGENCY (DLA)\n",
       "11756                                                                                                                                                                                    48--SERVOVALVE,HYDRAULI DEPT OF DEFENSE DEFENSE LOGISTICS AGENCY (DLA)\n",
       "30917                                                                                                                                                                                                  53--SCR,HXSK,CTSK,S-LKG DEPT OF DEFENSE DEPT OF THE NAVY\n",
       "Name: combined, dtype: object"
      ]
     },
     "execution_count": 29,
     "metadata": {},
     "output_type": "execute_result"
    }
   ],
   "source": [
    "combined.sample(25)"
   ]
  },
  {
   "cell_type": "code",
   "execution_count": 12,
   "metadata": {
    "scrolled": true
   },
   "outputs": [
    {
     "data": {
      "text/plain": [
       "43449                                                                            PAD, RUBBER DEPT OF DEFENSE DEPT OF THE NAVY\n",
       "43450                                        Cabling Services VETERANS AFFAIRS, DEPARTMENT OF VETERANS AFFAIRS, DEPARTMENT OF\n",
       "43451    J041--Ice Machines and Retherm Unit Service Contract VETERANS AFFAIRS, DEPARTMENT OF VETERANS AFFAIRS, DEPARTMENT OF\n",
       "43452                                                  70--OPTICAL READER,DATA DEPT OF DEFENSE DEFENSE LOGISTICS AGENCY (DLA)\n",
       "43453                 Joint Light Tactical Vehicle (JLTV) Family of Vehicles (FoV) Follow-On DEPT OF DEFENSE DEPT OF THE ARMY\n",
       "Name: combined, dtype: object"
      ]
     },
     "execution_count": 12,
     "metadata": {},
     "output_type": "execute_result"
    }
   ],
   "source": [
    "combined.tail()"
   ]
  },
  {
   "cell_type": "markdown",
   "metadata": {},
   "source": [
    "#### Clean and tokenize text\n"
   ]
  },
  {
   "cell_type": "markdown",
   "metadata": {},
   "source": [
    "I tried tagging entities with spaCy for the sake of easily removing dates, numbers and addresses. However, since entity tagging looks for capitalizations and this dataset uses capital letters inconsistently, it did not work well. "
   ]
  },
  {
   "cell_type": "code",
   "execution_count": 3,
   "metadata": {},
   "outputs": [],
   "source": [
    "# define function to tokenize a column\n",
    "\n",
    "def tokenizer_function(column):\n",
    "    \"\"\"\n",
    "    Takes in a text column\n",
    "        tokenizes the text in each row\n",
    "        using pattern [[a-zA-Z]\\w+]\n",
    "        which matches every lowercase and upperase character between a-z that are word characters\n",
    "    Returns list of strings\n",
    "    \"\"\"\n",
    "    \n",
    "    # instantiate empty list of tokenized text\n",
    "    texts = []\n",
    "    \n",
    "    # define tokenizer pattern\n",
    "    pattern = '[a-zA-Z]\\w+'\n",
    "    # instantiate tokenizer\n",
    "    tokenizer = RegexpTokenizer(pattern=pattern)\n",
    "    \n",
    "    # create for loop to tokenize each row and add the list of tokens to texts\n",
    "    for text in column:\n",
    "        tokens = tokenizer.tokenize(text)\n",
    "        \n",
    "        # transform tokens into lower case strings\n",
    "        tokens = [token.lower() for token in tokens]\n",
    "        texts.append(tokens)\n",
    "    return texts"
   ]
  },
  {
   "cell_type": "code",
   "execution_count": 31,
   "metadata": {},
   "outputs": [],
   "source": [
    "# tokenize combined documents\n",
    "tokenized_combined = tokenizer_function(combined)"
   ]
  },
  {
   "cell_type": "code",
   "execution_count": 32,
   "metadata": {},
   "outputs": [],
   "source": [
    "# save tokenized combined documents for future use\n",
    "tokenized_combined.to_csv('./data/tokenized_combined.csv', index=False)"
   ]
  },
  {
   "cell_type": "code",
   "execution_count": 10,
   "metadata": {
    "scrolled": true
   },
   "outputs": [],
   "source": [
    "# tokenize titles\n",
    "tokenized_titles = tokenizer_function(df['title'])"
   ]
  },
  {
   "cell_type": "code",
   "execution_count": 8,
   "metadata": {},
   "outputs": [],
   "source": [
    "# # save tokenized titles\n",
    "# tokenized_titles.to_csv('./data/tokenized_titles.csv', index=False)"
   ]
  },
  {
   "cell_type": "code",
   "execution_count": 9,
   "metadata": {},
   "outputs": [
    {
     "name": "stderr",
     "output_type": "stream",
     "text": [
      "/Users/bibor/opt/anaconda3/lib/python3.7/site-packages/IPython/core/interactiveshell.py:3063: DtypeWarning: Columns (37,38,39,40,41,42) have mixed types.Specify dtype option on import or set low_memory=False.\n",
      "  interactivity=interactivity, compiler=compiler, result=result)\n"
     ]
    },
    {
     "data": {
      "text/html": [
       "<div>\n",
       "<style scoped>\n",
       "    .dataframe tbody tr th:only-of-type {\n",
       "        vertical-align: middle;\n",
       "    }\n",
       "\n",
       "    .dataframe tbody tr th {\n",
       "        vertical-align: top;\n",
       "    }\n",
       "\n",
       "    .dataframe thead th {\n",
       "        text-align: right;\n",
       "    }\n",
       "</style>\n",
       "<table border=\"1\" class=\"dataframe\">\n",
       "  <thead>\n",
       "    <tr style=\"text-align: right;\">\n",
       "      <th></th>\n",
       "      <th>0</th>\n",
       "      <th>1</th>\n",
       "      <th>2</th>\n",
       "      <th>3</th>\n",
       "      <th>4</th>\n",
       "      <th>5</th>\n",
       "      <th>6</th>\n",
       "      <th>7</th>\n",
       "      <th>8</th>\n",
       "      <th>9</th>\n",
       "      <th>...</th>\n",
       "      <th>33</th>\n",
       "      <th>34</th>\n",
       "      <th>35</th>\n",
       "      <th>36</th>\n",
       "      <th>37</th>\n",
       "      <th>38</th>\n",
       "      <th>39</th>\n",
       "      <th>40</th>\n",
       "      <th>41</th>\n",
       "      <th>42</th>\n",
       "    </tr>\n",
       "  </thead>\n",
       "  <tbody>\n",
       "    <tr>\n",
       "      <th>0</th>\n",
       "      <td>request</td>\n",
       "      <td>for</td>\n",
       "      <td>information</td>\n",
       "      <td>new</td>\n",
       "      <td>design</td>\n",
       "      <td>booklet</td>\n",
       "      <td>die</td>\n",
       "      <td>cutting</td>\n",
       "      <td>insert</td>\n",
       "      <td>assembly</td>\n",
       "      <td>...</td>\n",
       "      <td>NaN</td>\n",
       "      <td>NaN</td>\n",
       "      <td>NaN</td>\n",
       "      <td>NaN</td>\n",
       "      <td>NaN</td>\n",
       "      <td>NaN</td>\n",
       "      <td>NaN</td>\n",
       "      <td>NaN</td>\n",
       "      <td>NaN</td>\n",
       "      <td>NaN</td>\n",
       "    </tr>\n",
       "    <tr>\n",
       "      <th>1</th>\n",
       "      <td>audiovisual</td>\n",
       "      <td>suite</td>\n",
       "      <td>for</td>\n",
       "      <td>large</td>\n",
       "      <td>auditorium</td>\n",
       "      <td>maxwell</td>\n",
       "      <td>afb</td>\n",
       "      <td>NaN</td>\n",
       "      <td>NaN</td>\n",
       "      <td>NaN</td>\n",
       "      <td>...</td>\n",
       "      <td>NaN</td>\n",
       "      <td>NaN</td>\n",
       "      <td>NaN</td>\n",
       "      <td>NaN</td>\n",
       "      <td>NaN</td>\n",
       "      <td>NaN</td>\n",
       "      <td>NaN</td>\n",
       "      <td>NaN</td>\n",
       "      <td>NaN</td>\n",
       "      <td>NaN</td>\n",
       "    </tr>\n",
       "    <tr>\n",
       "      <th>2</th>\n",
       "      <td>metrology</td>\n",
       "      <td>equipment</td>\n",
       "      <td>move</td>\n",
       "      <td>NaN</td>\n",
       "      <td>NaN</td>\n",
       "      <td>NaN</td>\n",
       "      <td>NaN</td>\n",
       "      <td>NaN</td>\n",
       "      <td>NaN</td>\n",
       "      <td>NaN</td>\n",
       "      <td>...</td>\n",
       "      <td>NaN</td>\n",
       "      <td>NaN</td>\n",
       "      <td>NaN</td>\n",
       "      <td>NaN</td>\n",
       "      <td>NaN</td>\n",
       "      <td>NaN</td>\n",
       "      <td>NaN</td>\n",
       "      <td>NaN</td>\n",
       "      <td>NaN</td>\n",
       "      <td>NaN</td>\n",
       "    </tr>\n",
       "    <tr>\n",
       "      <th>3</th>\n",
       "      <td>inner</td>\n",
       "      <td>inflatable</td>\n",
       "      <td>assy</td>\n",
       "      <td>lpu</td>\n",
       "      <td>NaN</td>\n",
       "      <td>NaN</td>\n",
       "      <td>NaN</td>\n",
       "      <td>NaN</td>\n",
       "      <td>NaN</td>\n",
       "      <td>NaN</td>\n",
       "      <td>...</td>\n",
       "      <td>NaN</td>\n",
       "      <td>NaN</td>\n",
       "      <td>NaN</td>\n",
       "      <td>NaN</td>\n",
       "      <td>NaN</td>\n",
       "      <td>NaN</td>\n",
       "      <td>NaN</td>\n",
       "      <td>NaN</td>\n",
       "      <td>NaN</td>\n",
       "      <td>NaN</td>\n",
       "    </tr>\n",
       "    <tr>\n",
       "      <th>4</th>\n",
       "      <td>cradle</td>\n",
       "      <td>NaN</td>\n",
       "      <td>NaN</td>\n",
       "      <td>NaN</td>\n",
       "      <td>NaN</td>\n",
       "      <td>NaN</td>\n",
       "      <td>NaN</td>\n",
       "      <td>NaN</td>\n",
       "      <td>NaN</td>\n",
       "      <td>NaN</td>\n",
       "      <td>...</td>\n",
       "      <td>NaN</td>\n",
       "      <td>NaN</td>\n",
       "      <td>NaN</td>\n",
       "      <td>NaN</td>\n",
       "      <td>NaN</td>\n",
       "      <td>NaN</td>\n",
       "      <td>NaN</td>\n",
       "      <td>NaN</td>\n",
       "      <td>NaN</td>\n",
       "      <td>NaN</td>\n",
       "    </tr>\n",
       "  </tbody>\n",
       "</table>\n",
       "<p>5 rows × 43 columns</p>\n",
       "</div>"
      ],
      "text/plain": [
       "             0           1            2      3           4        5    6  \\\n",
       "0      request         for  information    new      design  booklet  die   \n",
       "1  audiovisual       suite          for  large  auditorium  maxwell  afb   \n",
       "2    metrology   equipment         move    NaN         NaN      NaN  NaN   \n",
       "3        inner  inflatable         assy    lpu         NaN      NaN  NaN   \n",
       "4       cradle         NaN          NaN    NaN         NaN      NaN  NaN   \n",
       "\n",
       "         7       8         9  ...   33   34   35   36   37   38   39   40  \\\n",
       "0  cutting  insert  assembly  ...  NaN  NaN  NaN  NaN  NaN  NaN  NaN  NaN   \n",
       "1      NaN     NaN       NaN  ...  NaN  NaN  NaN  NaN  NaN  NaN  NaN  NaN   \n",
       "2      NaN     NaN       NaN  ...  NaN  NaN  NaN  NaN  NaN  NaN  NaN  NaN   \n",
       "3      NaN     NaN       NaN  ...  NaN  NaN  NaN  NaN  NaN  NaN  NaN  NaN   \n",
       "4      NaN     NaN       NaN  ...  NaN  NaN  NaN  NaN  NaN  NaN  NaN  NaN   \n",
       "\n",
       "    41   42  \n",
       "0  NaN  NaN  \n",
       "1  NaN  NaN  \n",
       "2  NaN  NaN  \n",
       "3  NaN  NaN  \n",
       "4  NaN  NaN  \n",
       "\n",
       "[5 rows x 43 columns]"
      ]
     },
     "execution_count": 9,
     "metadata": {},
     "output_type": "execute_result"
    }
   ],
   "source": [
    "# data = pd.read_csv('./data/tokenized_titles.csv')\n",
    "# data.head()"
   ]
  },
  {
   "cell_type": "code",
   "execution_count": 46,
   "metadata": {},
   "outputs": [],
   "source": [
    "# write tokenized_titles into a file\n",
    "\n",
    "# with open('tokenized_titles.txt', 'w') as f:\n",
    "#     for item in tokenized_titles:\n",
    "#         f.write(str(item))\n",
    "        \n",
    "# source: https://stackoverflow.com/questions/33686747/save-a-list-to-a-txt-file"
   ]
  },
  {
   "cell_type": "code",
   "execution_count": null,
   "metadata": {},
   "outputs": [],
   "source": [
    "# remove stop words"
   ]
  },
  {
   "cell_type": "code",
   "execution_count": 22,
   "metadata": {},
   "outputs": [
    {
     "data": {
      "text/plain": [
       "(100,)"
      ]
     },
     "execution_count": 22,
     "metadata": {},
     "output_type": "execute_result"
    }
   ],
   "source": [
    "# subset of text documents to try out different nlp methods\n",
    "titles_100 = titles.iloc[:100]\n",
    "titles_100.shape"
   ]
  },
  {
   "cell_type": "code",
   "execution_count": 13,
   "metadata": {},
   "outputs": [],
   "source": [
    "# create gensin dictionary where every word has a unique numeric ID"
   ]
  },
  {
   "cell_type": "markdown",
   "metadata": {},
   "source": [
    "### Word2Vec Model - CBOW"
   ]
  },
  {
   "cell_type": "code",
   "execution_count": 67,
   "metadata": {},
   "outputs": [],
   "source": [
    "# source: https://radimrehurek.com/gensim/auto_examples/tutorials/run_word2vec.html#sphx-glr-auto-examples-tutorials-run-word2vec-py\n",
    "import gensim.models"
   ]
  },
  {
   "cell_type": "code",
   "execution_count": 68,
   "metadata": {},
   "outputs": [],
   "source": [
    "model = gensim.models.Word2Vec(sentences=tokenized_titles,\n",
    "                               sg=0, # CBOW training algorithm\n",
    "                               seed=1977,\n",
    "                               iter=10\n",
    "                              )"
   ]
  },
  {
   "cell_type": "code",
   "execution_count": null,
   "metadata": {},
   "outputs": [],
   "source": [
    "# add new downloads to trained model"
   ]
  },
  {
   "cell_type": "code",
   "execution_count": null,
   "metadata": {},
   "outputs": [],
   "source": [
    "# save trained model"
   ]
  },
  {
   "cell_type": "code",
   "execution_count": null,
   "metadata": {},
   "outputs": [],
   "source": [
    "# similar word vectors\n"
   ]
  },
  {
   "cell_type": "markdown",
   "metadata": {},
   "source": [
    "### Word2Vec Model - Skip-Grams"
   ]
  },
  {
   "cell_type": "markdown",
   "metadata": {},
   "source": []
  },
  {
   "cell_type": "code",
   "execution_count": null,
   "metadata": {},
   "outputs": [],
   "source": []
  }
 ],
 "metadata": {
  "kernelspec": {
   "display_name": "Python 3",
   "language": "python",
   "name": "python3"
  },
  "language_info": {
   "codemirror_mode": {
    "name": "ipython",
    "version": 3
   },
   "file_extension": ".py",
   "mimetype": "text/x-python",
   "name": "python",
   "nbconvert_exporter": "python",
   "pygments_lexer": "ipython3",
   "version": "3.7.6"
  }
 },
 "nbformat": 4,
 "nbformat_minor": 4
}
