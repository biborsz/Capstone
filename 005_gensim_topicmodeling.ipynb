{
 "cells": [
  {
   "cell_type": "code",
   "execution_count": 1,
   "metadata": {},
   "outputs": [],
   "source": [
    "import pandas as pd\n",
    "import numpy as np\n",
    "from gensim import corpora\n",
    "from nltk.tokenize import RegexpTokenizer\n",
    "# from nltk.corpus import stopwords"
   ]
  },
  {
   "cell_type": "code",
   "execution_count": 2,
   "metadata": {},
   "outputs": [],
   "source": [
    "# read in file\n",
    "df = pd.read_csv('./data/combined.csv')"
   ]
  },
  {
   "cell_type": "code",
   "execution_count": 3,
   "metadata": {},
   "outputs": [],
   "source": [
    "# I want to be able to see the entire title of a notice \n",
    "# set display options to full column widths\n",
    "pd.set_option('display.max_colwidth', None)"
   ]
  },
  {
   "cell_type": "code",
   "execution_count": 4,
   "metadata": {
    "scrolled": true
   },
   "outputs": [
    {
     "data": {
      "text/html": [
       "<div>\n",
       "<style scoped>\n",
       "    .dataframe tbody tr th:only-of-type {\n",
       "        vertical-align: middle;\n",
       "    }\n",
       "\n",
       "    .dataframe tbody tr th {\n",
       "        vertical-align: top;\n",
       "    }\n",
       "\n",
       "    .dataframe thead th {\n",
       "        text-align: right;\n",
       "    }\n",
       "</style>\n",
       "<table border=\"1\" class=\"dataframe\">\n",
       "  <thead>\n",
       "    <tr style=\"text-align: right;\">\n",
       "      <th></th>\n",
       "      <th>noticeId</th>\n",
       "      <th>title</th>\n",
       "      <th>solicitationNumber</th>\n",
       "      <th>department</th>\n",
       "      <th>subTier</th>\n",
       "      <th>office</th>\n",
       "      <th>postedDate</th>\n",
       "      <th>type</th>\n",
       "      <th>baseType</th>\n",
       "      <th>archiveType</th>\n",
       "      <th>...</th>\n",
       "      <th>award</th>\n",
       "      <th>pointOfContact</th>\n",
       "      <th>description</th>\n",
       "      <th>organizationType</th>\n",
       "      <th>officeAddress</th>\n",
       "      <th>placeOfPerformance</th>\n",
       "      <th>additionalInfoLink</th>\n",
       "      <th>uiLink</th>\n",
       "      <th>links</th>\n",
       "      <th>resourceLinks</th>\n",
       "    </tr>\n",
       "  </thead>\n",
       "  <tbody>\n",
       "    <tr>\n",
       "      <th>0</th>\n",
       "      <td>ffe3c07bab8b4a7d9be583fd4dd96c4a</td>\n",
       "      <td>REQUEST FOR INFORMATION - NEW DESIGN BOOKLET DIE CUTTING INSERT ASSEMBLY</td>\n",
       "      <td>RFI-042720</td>\n",
       "      <td>UNITED STATES GOVERNMENT PUBLISHING OFFICE</td>\n",
       "      <td>UNITED STATES GOVERNMENT PUBLISHING OFFICE</td>\n",
       "      <td>Acquisition Services</td>\n",
       "      <td>2020-04-27</td>\n",
       "      <td>Sources Sought</td>\n",
       "      <td>Sources Sought</td>\n",
       "      <td>auto15</td>\n",
       "      <td>...</td>\n",
       "      <td>NaN</td>\n",
       "      <td>[{'fax': '', 'type': 'primary', 'email': 'rgraham@gpo.gov', 'phone': '2025120032', 'title': None, 'fullName': 'Rosalyn Graham'}, {'fax': '', 'type': 'secondary', 'email': 'rortega@gpo.gov', 'phone': '2025120803', 'title': None, 'fullName': 'Ronald Ortega'}]</td>\n",
       "      <td>https://api.sam.gov/prod/opportunities/v1/noticedesc?noticeid=ffe3c07bab8b4a7d9be583fd4dd96c4a</td>\n",
       "      <td>OFFICE</td>\n",
       "      <td>{'zipcode': '20401', 'city': 'Washington', 'countryCode': 'USA', 'state': 'DC'}</td>\n",
       "      <td>{'state': {'code': 'DC', 'name': 'District of Columbia'}, 'zip': '20401', 'country': {'code': 'USA', 'name': 'UNITED STATES'}}</td>\n",
       "      <td>NaN</td>\n",
       "      <td>https://beta.sam.gov/opp/ffe3c07bab8b4a7d9be583fd4dd96c4a/view</td>\n",
       "      <td>[{'rel': 'self', 'href': 'https://api.sam.gov/prod/opportunities/v1/search?noticeid=ffe3c07bab8b4a7d9be583fd4dd96c4a&amp;limit=1', 'hreflang': None, 'media': None, 'title': None, 'type': None, 'deprecation': None}]</td>\n",
       "      <td>['https://beta.sam.gov/api/prod/opps/v3/opportunities/resources/files/bd2b3b5e86474278ae1ea1a163ccbfd7/download?api_key=null&amp;token=', 'https://beta.sam.gov/api/prod/opps/v3/opportunities/resources/files/774a16e89e4d431e85b0eba1a510a24c/download?api_key=null&amp;token=', 'https://beta.sam.gov/api/prod/opps/v3/opportunities/resources/files/b62d72d82537413f8537bb19160d49bd/download?api_key=null&amp;token=']</td>\n",
       "    </tr>\n",
       "    <tr>\n",
       "      <th>1</th>\n",
       "      <td>ff5e29951ed14b0386ea3291fa6c573f</td>\n",
       "      <td>Audiovisual Suite for Large Auditorium - Maxwell AFB</td>\n",
       "      <td>FA330020X0001</td>\n",
       "      <td>DEPT OF DEFENSE</td>\n",
       "      <td>DEPT OF THE AIR FORCE</td>\n",
       "      <td>FA3300  42 CONS CC</td>\n",
       "      <td>2020-04-27</td>\n",
       "      <td>Sources Sought</td>\n",
       "      <td>Sources Sought</td>\n",
       "      <td>auto15</td>\n",
       "      <td>...</td>\n",
       "      <td>NaN</td>\n",
       "      <td>[{'fax': '3349532198', 'type': 'primary', 'email': 'brandon.osborne.6@us.af.mil', 'phone': '3349537835', 'title': None, 'fullName': 'Brandon Osborne'}, {'fax': '3349532198', 'type': 'secondary', 'email': 'jeremy.kersey.1@us.af.mil', 'phone': '3349533526', 'title': None, 'fullName': 'Jeremy B. Kersey'}]</td>\n",
       "      <td>https://api.sam.gov/prod/opportunities/v1/noticedesc?noticeid=ff5e29951ed14b0386ea3291fa6c573f</td>\n",
       "      <td>OFFICE</td>\n",
       "      <td>{'zipcode': '36112-6334', 'city': 'MAXWELL AFB', 'countryCode': 'USA', 'state': 'AL'}</td>\n",
       "      <td>{'city': {'code': '51000', 'name': 'Montgomery'}, 'state': {'code': 'AL', 'name': 'Alabama'}, 'zip': '36112', 'country': {'code': 'USA', 'name': 'UNITED STATES'}}</td>\n",
       "      <td>NaN</td>\n",
       "      <td>https://beta.sam.gov/opp/ff5e29951ed14b0386ea3291fa6c573f/view</td>\n",
       "      <td>[{'rel': 'self', 'href': 'https://api.sam.gov/prod/opportunities/v1/search?noticeid=ff5e29951ed14b0386ea3291fa6c573f&amp;limit=1', 'hreflang': None, 'media': None, 'title': None, 'type': None, 'deprecation': None}]</td>\n",
       "      <td>['https://beta.sam.gov/api/prod/opps/v3/opportunities/resources/files/c2a6338838ed4ebfa7d70e91221ffc21/download?api_key=null&amp;token=']</td>\n",
       "    </tr>\n",
       "    <tr>\n",
       "      <th>2</th>\n",
       "      <td>ff2a16aad70246d1ba10e639c11456d4</td>\n",
       "      <td>Metrology Equipment Move</td>\n",
       "      <td>SP4703-20-Q-0045</td>\n",
       "      <td>DEPT OF DEFENSE</td>\n",
       "      <td>DEFENSE LOGISTICS AGENCY (DLA)</td>\n",
       "      <td>DCSO RICHMOND</td>\n",
       "      <td>2020-04-27</td>\n",
       "      <td>Combined Synopsis/Solicitation</td>\n",
       "      <td>Combined Synopsis/Solicitation</td>\n",
       "      <td>auto15</td>\n",
       "      <td>...</td>\n",
       "      <td>NaN</td>\n",
       "      <td>[{'fax': '', 'type': 'primary', 'email': 'Kiara.leslie@dla.mil', 'phone': '8042796566', 'title': None, 'fullName': 'Kiara Leslie'}, {'fax': '', 'type': 'secondary', 'email': 'mary.washington@dla.mil', 'phone': '8042795628', 'title': None, 'fullName': 'Mary A. Washington, Contracting Officer'}]</td>\n",
       "      <td>https://api.sam.gov/prod/opportunities/v1/noticedesc?noticeid=ff2a16aad70246d1ba10e639c11456d4</td>\n",
       "      <td>OFFICE</td>\n",
       "      <td>{'zipcode': '23297-5441', 'city': 'RICHMOND', 'countryCode': 'USA', 'state': 'VA'}</td>\n",
       "      <td>{'city': {'code': '67000', 'name': 'Richmond'}, 'state': {'code': 'VA', 'name': 'Virginia'}, 'zip': '23219', 'country': {'code': 'USA', 'name': 'UNITED STATES'}}</td>\n",
       "      <td>NaN</td>\n",
       "      <td>https://beta.sam.gov/opp/ff2a16aad70246d1ba10e639c11456d4/view</td>\n",
       "      <td>[{'rel': 'self', 'href': 'https://api.sam.gov/prod/opportunities/v1/search?noticeid=ff2a16aad70246d1ba10e639c11456d4&amp;limit=1', 'hreflang': None, 'media': None, 'title': None, 'type': None, 'deprecation': None}]</td>\n",
       "      <td>['https://beta.sam.gov/api/prod/opps/v3/opportunities/resources/files/18c139e819464ce2934b07f841d6b742/download?api_key=null&amp;token=', 'https://beta.sam.gov/api/prod/opps/v3/opportunities/resources/files/3254bee55b05422bb5a5638f85f5ad85/download?api_key=null&amp;token=', 'https://beta.sam.gov/api/prod/opps/v3/opportunities/resources/files/db5cf8928e394ca3bbccc489858e3613/download?api_key=null&amp;token=', 'https://beta.sam.gov/api/prod/opps/v3/opportunities/resources/files/7c5bdc22855046e0a7c5f1a9505f8cb7/download?api_key=null&amp;token=', 'https://beta.sam.gov/api/prod/opps/v3/opportunities/resources/files/5c967f7e9bae4dc297067066a8c326ea/download?api_key=null&amp;token=', 'https://beta.sam.gov/api/prod/opps/v3/opportunities/resources/files/db21fce9fd544d03a3e879c84e989b65/download?api_key=null&amp;token=', 'https://beta.sam.gov/api/prod/opps/v3/opportunities/resources/files/79b161ca6b7349779413df63e474a8e6/download?api_key=null&amp;token=']</td>\n",
       "    </tr>\n",
       "    <tr>\n",
       "      <th>3</th>\n",
       "      <td>fef5aeb716414feb8c12eec5e5063ff6</td>\n",
       "      <td>INNER INFLATABLE ASSY (LPU-36A/P)</td>\n",
       "      <td>PR1000092966</td>\n",
       "      <td>DEPT OF DEFENSE</td>\n",
       "      <td>DEFENSE LOGISTICS AGENCY (DLA)</td>\n",
       "      <td>DLA LAND AND MARITIME</td>\n",
       "      <td>2020-04-27</td>\n",
       "      <td>Sources Sought</td>\n",
       "      <td>Sources Sought</td>\n",
       "      <td>auto15</td>\n",
       "      <td>...</td>\n",
       "      <td>NaN</td>\n",
       "      <td>[{'fax': '', 'type': 'primary', 'email': 'mindy.messerly@dla.mil', 'phone': '', 'title': None, 'fullName': 'Mindy Messerly614-692-4874'}]</td>\n",
       "      <td>https://api.sam.gov/prod/opportunities/v1/noticedesc?noticeid=fef5aeb716414feb8c12eec5e5063ff6</td>\n",
       "      <td>OFFICE</td>\n",
       "      <td>{'zipcode': '43218-3990', 'city': 'COLUMBUS', 'countryCode': 'USA', 'state': 'OH'}</td>\n",
       "      <td>NaN</td>\n",
       "      <td>NaN</td>\n",
       "      <td>https://beta.sam.gov/opp/fef5aeb716414feb8c12eec5e5063ff6/view</td>\n",
       "      <td>[{'rel': 'self', 'href': 'https://api.sam.gov/prod/opportunities/v1/search?noticeid=fef5aeb716414feb8c12eec5e5063ff6&amp;limit=1', 'hreflang': None, 'media': None, 'title': None, 'type': None, 'deprecation': None}]</td>\n",
       "      <td>NaN</td>\n",
       "    </tr>\n",
       "    <tr>\n",
       "      <th>4</th>\n",
       "      <td>fed3bef7bd1e4ac389950ef7a087e578</td>\n",
       "      <td>17--CRADLE</td>\n",
       "      <td>SPE8EF20T1468</td>\n",
       "      <td>DEPT OF DEFENSE</td>\n",
       "      <td>DEFENSE LOGISTICS AGENCY (DLA)</td>\n",
       "      <td>DLA TROOP SUPPORT</td>\n",
       "      <td>2020-04-27</td>\n",
       "      <td>Combined Synopsis/Solicitation</td>\n",
       "      <td>Combined Synopsis/Solicitation</td>\n",
       "      <td>autocustom</td>\n",
       "      <td>...</td>\n",
       "      <td>{'awardee': {'location': {}}}</td>\n",
       "      <td>[{'fax': None, 'type': 'primary', 'email': 'DibbsBSM@dla.mil', 'phone': None, 'title': None, 'fullName': 'Questions regarding this solicitation should be emailed to the buyer listed in block 5 of the solicitation document which can be found under the Additional Information link.\\nIf the Additional Information link does not work, please go to https://www.dibbs.'}]</td>\n",
       "      <td>https://api.sam.gov/prod/opportunities/v1/noticedesc?noticeid=fed3bef7bd1e4ac389950ef7a087e578</td>\n",
       "      <td>OFFICE</td>\n",
       "      <td>{'zipcode': '19111-5096', 'city': 'PHILADELPHIA', 'countryCode': 'USA', 'state': 'PA'}</td>\n",
       "      <td>{}</td>\n",
       "      <td>NaN</td>\n",
       "      <td>https://beta.sam.gov/opp/fed3bef7bd1e4ac389950ef7a087e578/view</td>\n",
       "      <td>[{'rel': 'self', 'href': 'https://api.sam.gov/prod/opportunities/v1/search?noticeid=fed3bef7bd1e4ac389950ef7a087e578&amp;limit=1', 'hreflang': None, 'media': None, 'title': None, 'type': None, 'deprecation': None}]</td>\n",
       "      <td>NaN</td>\n",
       "    </tr>\n",
       "  </tbody>\n",
       "</table>\n",
       "<p>5 rows × 27 columns</p>\n",
       "</div>"
      ],
      "text/plain": [
       "                           noticeId  \\\n",
       "0  ffe3c07bab8b4a7d9be583fd4dd96c4a   \n",
       "1  ff5e29951ed14b0386ea3291fa6c573f   \n",
       "2  ff2a16aad70246d1ba10e639c11456d4   \n",
       "3  fef5aeb716414feb8c12eec5e5063ff6   \n",
       "4  fed3bef7bd1e4ac389950ef7a087e578   \n",
       "\n",
       "                                                                      title  \\\n",
       "0  REQUEST FOR INFORMATION - NEW DESIGN BOOKLET DIE CUTTING INSERT ASSEMBLY   \n",
       "1                      Audiovisual Suite for Large Auditorium - Maxwell AFB   \n",
       "2                                                  Metrology Equipment Move   \n",
       "3                                         INNER INFLATABLE ASSY (LPU-36A/P)   \n",
       "4                                                                17--CRADLE   \n",
       "\n",
       "  solicitationNumber                                  department  \\\n",
       "0         RFI-042720  UNITED STATES GOVERNMENT PUBLISHING OFFICE   \n",
       "1      FA330020X0001                             DEPT OF DEFENSE   \n",
       "2   SP4703-20-Q-0045                             DEPT OF DEFENSE   \n",
       "3       PR1000092966                             DEPT OF DEFENSE   \n",
       "4      SPE8EF20T1468                             DEPT OF DEFENSE   \n",
       "\n",
       "                                      subTier                 office  \\\n",
       "0  UNITED STATES GOVERNMENT PUBLISHING OFFICE   Acquisition Services   \n",
       "1                       DEPT OF THE AIR FORCE     FA3300  42 CONS CC   \n",
       "2              DEFENSE LOGISTICS AGENCY (DLA)          DCSO RICHMOND   \n",
       "3              DEFENSE LOGISTICS AGENCY (DLA)  DLA LAND AND MARITIME   \n",
       "4              DEFENSE LOGISTICS AGENCY (DLA)      DLA TROOP SUPPORT   \n",
       "\n",
       "   postedDate                            type                        baseType  \\\n",
       "0  2020-04-27                  Sources Sought                  Sources Sought   \n",
       "1  2020-04-27                  Sources Sought                  Sources Sought   \n",
       "2  2020-04-27  Combined Synopsis/Solicitation  Combined Synopsis/Solicitation   \n",
       "3  2020-04-27                  Sources Sought                  Sources Sought   \n",
       "4  2020-04-27  Combined Synopsis/Solicitation  Combined Synopsis/Solicitation   \n",
       "\n",
       "  archiveType  ...                          award  \\\n",
       "0      auto15  ...                            NaN   \n",
       "1      auto15  ...                            NaN   \n",
       "2      auto15  ...                            NaN   \n",
       "3      auto15  ...                            NaN   \n",
       "4  autocustom  ...  {'awardee': {'location': {}}}   \n",
       "\n",
       "                                                                                                                                                                                                                                                                                                                                                                  pointOfContact  \\\n",
       "0                                                                                                              [{'fax': '', 'type': 'primary', 'email': 'rgraham@gpo.gov', 'phone': '2025120032', 'title': None, 'fullName': 'Rosalyn Graham'}, {'fax': '', 'type': 'secondary', 'email': 'rortega@gpo.gov', 'phone': '2025120803', 'title': None, 'fullName': 'Ronald Ortega'}]   \n",
       "1                                                                [{'fax': '3349532198', 'type': 'primary', 'email': 'brandon.osborne.6@us.af.mil', 'phone': '3349537835', 'title': None, 'fullName': 'Brandon Osborne'}, {'fax': '3349532198', 'type': 'secondary', 'email': 'jeremy.kersey.1@us.af.mil', 'phone': '3349533526', 'title': None, 'fullName': 'Jeremy B. Kersey'}]   \n",
       "2                                                                         [{'fax': '', 'type': 'primary', 'email': 'Kiara.leslie@dla.mil', 'phone': '8042796566', 'title': None, 'fullName': 'Kiara Leslie'}, {'fax': '', 'type': 'secondary', 'email': 'mary.washington@dla.mil', 'phone': '8042795628', 'title': None, 'fullName': 'Mary A. Washington, Contracting Officer'}]   \n",
       "3                                                                                                                                                                                                                                      [{'fax': '', 'type': 'primary', 'email': 'mindy.messerly@dla.mil', 'phone': '', 'title': None, 'fullName': 'Mindy Messerly614-692-4874'}]   \n",
       "4  [{'fax': None, 'type': 'primary', 'email': 'DibbsBSM@dla.mil', 'phone': None, 'title': None, 'fullName': 'Questions regarding this solicitation should be emailed to the buyer listed in block 5 of the solicitation document which can be found under the Additional Information link.\\nIf the Additional Information link does not work, please go to https://www.dibbs.'}]   \n",
       "\n",
       "                                                                                      description  \\\n",
       "0  https://api.sam.gov/prod/opportunities/v1/noticedesc?noticeid=ffe3c07bab8b4a7d9be583fd4dd96c4a   \n",
       "1  https://api.sam.gov/prod/opportunities/v1/noticedesc?noticeid=ff5e29951ed14b0386ea3291fa6c573f   \n",
       "2  https://api.sam.gov/prod/opportunities/v1/noticedesc?noticeid=ff2a16aad70246d1ba10e639c11456d4   \n",
       "3  https://api.sam.gov/prod/opportunities/v1/noticedesc?noticeid=fef5aeb716414feb8c12eec5e5063ff6   \n",
       "4  https://api.sam.gov/prod/opportunities/v1/noticedesc?noticeid=fed3bef7bd1e4ac389950ef7a087e578   \n",
       "\n",
       "  organizationType  \\\n",
       "0           OFFICE   \n",
       "1           OFFICE   \n",
       "2           OFFICE   \n",
       "3           OFFICE   \n",
       "4           OFFICE   \n",
       "\n",
       "                                                                            officeAddress  \\\n",
       "0         {'zipcode': '20401', 'city': 'Washington', 'countryCode': 'USA', 'state': 'DC'}   \n",
       "1   {'zipcode': '36112-6334', 'city': 'MAXWELL AFB', 'countryCode': 'USA', 'state': 'AL'}   \n",
       "2      {'zipcode': '23297-5441', 'city': 'RICHMOND', 'countryCode': 'USA', 'state': 'VA'}   \n",
       "3      {'zipcode': '43218-3990', 'city': 'COLUMBUS', 'countryCode': 'USA', 'state': 'OH'}   \n",
       "4  {'zipcode': '19111-5096', 'city': 'PHILADELPHIA', 'countryCode': 'USA', 'state': 'PA'}   \n",
       "\n",
       "                                                                                                                                                   placeOfPerformance  \\\n",
       "0                                      {'state': {'code': 'DC', 'name': 'District of Columbia'}, 'zip': '20401', 'country': {'code': 'USA', 'name': 'UNITED STATES'}}   \n",
       "1  {'city': {'code': '51000', 'name': 'Montgomery'}, 'state': {'code': 'AL', 'name': 'Alabama'}, 'zip': '36112', 'country': {'code': 'USA', 'name': 'UNITED STATES'}}   \n",
       "2   {'city': {'code': '67000', 'name': 'Richmond'}, 'state': {'code': 'VA', 'name': 'Virginia'}, 'zip': '23219', 'country': {'code': 'USA', 'name': 'UNITED STATES'}}   \n",
       "3                                                                                                                                                                 NaN   \n",
       "4                                                                                                                                                                  {}   \n",
       "\n",
       "  additionalInfoLink  \\\n",
       "0                NaN   \n",
       "1                NaN   \n",
       "2                NaN   \n",
       "3                NaN   \n",
       "4                NaN   \n",
       "\n",
       "                                                           uiLink  \\\n",
       "0  https://beta.sam.gov/opp/ffe3c07bab8b4a7d9be583fd4dd96c4a/view   \n",
       "1  https://beta.sam.gov/opp/ff5e29951ed14b0386ea3291fa6c573f/view   \n",
       "2  https://beta.sam.gov/opp/ff2a16aad70246d1ba10e639c11456d4/view   \n",
       "3  https://beta.sam.gov/opp/fef5aeb716414feb8c12eec5e5063ff6/view   \n",
       "4  https://beta.sam.gov/opp/fed3bef7bd1e4ac389950ef7a087e578/view   \n",
       "\n",
       "                                                                                                                                                                                                                links  \\\n",
       "0  [{'rel': 'self', 'href': 'https://api.sam.gov/prod/opportunities/v1/search?noticeid=ffe3c07bab8b4a7d9be583fd4dd96c4a&limit=1', 'hreflang': None, 'media': None, 'title': None, 'type': None, 'deprecation': None}]   \n",
       "1  [{'rel': 'self', 'href': 'https://api.sam.gov/prod/opportunities/v1/search?noticeid=ff5e29951ed14b0386ea3291fa6c573f&limit=1', 'hreflang': None, 'media': None, 'title': None, 'type': None, 'deprecation': None}]   \n",
       "2  [{'rel': 'self', 'href': 'https://api.sam.gov/prod/opportunities/v1/search?noticeid=ff2a16aad70246d1ba10e639c11456d4&limit=1', 'hreflang': None, 'media': None, 'title': None, 'type': None, 'deprecation': None}]   \n",
       "3  [{'rel': 'self', 'href': 'https://api.sam.gov/prod/opportunities/v1/search?noticeid=fef5aeb716414feb8c12eec5e5063ff6&limit=1', 'hreflang': None, 'media': None, 'title': None, 'type': None, 'deprecation': None}]   \n",
       "4  [{'rel': 'self', 'href': 'https://api.sam.gov/prod/opportunities/v1/search?noticeid=fed3bef7bd1e4ac389950ef7a087e578&limit=1', 'hreflang': None, 'media': None, 'title': None, 'type': None, 'deprecation': None}]   \n",
       "\n",
       "                                                                                                                                                                                                                                                                                                                                                                                                                                                                                                                                                                                                                                                                                                                                                                                                                                                                                                                                                         resourceLinks  \n",
       "0                                                                                                                                                                                                                                                                                                                                                                                                                                                                                                                                                      ['https://beta.sam.gov/api/prod/opps/v3/opportunities/resources/files/bd2b3b5e86474278ae1ea1a163ccbfd7/download?api_key=null&token=', 'https://beta.sam.gov/api/prod/opps/v3/opportunities/resources/files/774a16e89e4d431e85b0eba1a510a24c/download?api_key=null&token=', 'https://beta.sam.gov/api/prod/opps/v3/opportunities/resources/files/b62d72d82537413f8537bb19160d49bd/download?api_key=null&token=']  \n",
       "1                                                                                                                                                                                                                                                                                                                                                                                                                                                                                                                                                                                                                                                                                                                                                                                                                                ['https://beta.sam.gov/api/prod/opps/v3/opportunities/resources/files/c2a6338838ed4ebfa7d70e91221ffc21/download?api_key=null&token=']  \n",
       "2  ['https://beta.sam.gov/api/prod/opps/v3/opportunities/resources/files/18c139e819464ce2934b07f841d6b742/download?api_key=null&token=', 'https://beta.sam.gov/api/prod/opps/v3/opportunities/resources/files/3254bee55b05422bb5a5638f85f5ad85/download?api_key=null&token=', 'https://beta.sam.gov/api/prod/opps/v3/opportunities/resources/files/db5cf8928e394ca3bbccc489858e3613/download?api_key=null&token=', 'https://beta.sam.gov/api/prod/opps/v3/opportunities/resources/files/7c5bdc22855046e0a7c5f1a9505f8cb7/download?api_key=null&token=', 'https://beta.sam.gov/api/prod/opps/v3/opportunities/resources/files/5c967f7e9bae4dc297067066a8c326ea/download?api_key=null&token=', 'https://beta.sam.gov/api/prod/opps/v3/opportunities/resources/files/db21fce9fd544d03a3e879c84e989b65/download?api_key=null&token=', 'https://beta.sam.gov/api/prod/opps/v3/opportunities/resources/files/79b161ca6b7349779413df63e474a8e6/download?api_key=null&token=']  \n",
       "3                                                                                                                                                                                                                                                                                                                                                                                                                                                                                                                                                                                                                                                                                                                                                                                                                                                                                                                                                                  NaN  \n",
       "4                                                                                                                                                                                                                                                                                                                                                                                                                                                                                                                                                                                                                                                                                                                                                                                                                                                                                                                                                                  NaN  \n",
       "\n",
       "[5 rows x 27 columns]"
      ]
     },
     "execution_count": 4,
     "metadata": {},
     "output_type": "execute_result"
    }
   ],
   "source": [
    "df.head()"
   ]
  },
  {
   "cell_type": "markdown",
   "metadata": {},
   "source": [
    "#### Create the Corpus\n",
    "\n",
    "The recommender is built on the text contained in the 'title' column of the dataframe."
   ]
  },
  {
   "cell_type": "markdown",
   "metadata": {},
   "source": [
    "**Inspect the type and base type of all notifications to decide if all types should be included in the dictionary.**"
   ]
  },
  {
   "cell_type": "code",
   "execution_count": 5,
   "metadata": {},
   "outputs": [
    {
     "data": {
      "text/plain": [
       "Combined Synopsis/Solicitation    17417\n",
       "Solicitation                       6881\n",
       "Presolicitation                    6429\n",
       "Award Notice                       5390\n",
       "Sources Sought                     3689\n",
       "Special Notice                     2616\n",
       "Justification                       991\n",
       "Sale of Surplus Property             40\n",
       "Intent to Bundle Requirements         1\n",
       "Name: type, dtype: int64"
      ]
     },
     "execution_count": 5,
     "metadata": {},
     "output_type": "execute_result"
    }
   ],
   "source": [
    "# list types of notices in the contract opportunities dataframe\n",
    "df['type'].value_counts()"
   ]
  },
  {
   "cell_type": "code",
   "execution_count": 6,
   "metadata": {},
   "outputs": [
    {
     "data": {
      "text/plain": [
       "Combined Synopsis/Solicitation      18544\n",
       "Presolicitation                      7110\n",
       "Solicitation                         6553\n",
       "Sources Sought                       4332\n",
       "Award Notice                         3487\n",
       "Special Notice                       2600\n",
       "Justification                         783\n",
       "Sale of Surplus Property               40\n",
       "Justification and Approval (J&A)        5\n",
       "Name: baseType, dtype: int64"
      ]
     },
     "execution_count": 6,
     "metadata": {},
     "output_type": "execute_result"
    }
   ],
   "source": [
    "# list base types of notices in the contract opportunities dataframe\n",
    "df['baseType'].value_counts()"
   ]
  },
  {
   "cell_type": "markdown",
   "metadata": {},
   "source": [
    "\n",
    "Since the title of all types of contract opportunities may contain pertinent information to find similarities and dissimilarities between different documents, the complete dataset will serve as the basis for the dictionary.\n",
    "\n",
    "---"
   ]
  },
  {
   "cell_type": "markdown",
   "metadata": {},
   "source": [
    "Because of the specific, succinct nature of the titles of notifications we are working with, to enrich context **the department columns were combined with the text of the title.** "
   ]
  },
  {
   "cell_type": "code",
   "execution_count": 50,
   "metadata": {},
   "outputs": [],
   "source": [
    "# fill NaN with empty string\n",
    "df['department'] = df['department'].fillna(value='')\n",
    "df['subTier'] = df['subTier'].fillna(value='')"
   ]
  },
  {
   "cell_type": "code",
   "execution_count": 54,
   "metadata": {},
   "outputs": [],
   "source": [
    "# add department and subTier column to title column\n",
    "df['combined'] = df['title'] + ' ' + df['department'] + ' ' + df['subTier']"
   ]
  },
  {
   "cell_type": "code",
   "execution_count": 55,
   "metadata": {},
   "outputs": [
    {
     "data": {
      "text/plain": [
       "0"
      ]
     },
     "execution_count": 55,
     "metadata": {},
     "output_type": "execute_result"
    }
   ],
   "source": [
    "df['combined'].isna().sum()"
   ]
  },
  {
   "cell_type": "code",
   "execution_count": 56,
   "metadata": {},
   "outputs": [
    {
     "data": {
      "text/plain": [
       "(43454,)"
      ]
     },
     "execution_count": 56,
     "metadata": {},
     "output_type": "execute_result"
    }
   ],
   "source": [
    "# isolate corpus of interest\n",
    "titles = df['combined']\n",
    "titles.shape"
   ]
  },
  {
   "cell_type": "code",
   "execution_count": 57,
   "metadata": {
    "scrolled": true
   },
   "outputs": [
    {
     "data": {
      "text/plain": [
       "15380                                                                                                                                                                                                                     Dry Eye Devise DEPT OF DEFENSE DEPT OF THE ARMY\n",
       "15230                                                                                                                                                                                                   15--LOCK,INDICATOR DEPT OF DEFENSE DEFENSE LOGISTICS AGENCY (DLA)\n",
       "32530                                                                                                                                                                                              28--HOUSING,SEAL,PUMP H DEPT OF DEFENSE DEFENSE LOGISTICS AGENCY (DLA)\n",
       "1947                                                                                                                                                                                                             48--VLV,PRESS RED,3/4IN DEPT OF DEFENSE DEPT OF THE NAVY\n",
       "10087                                                                                                                                                               ROD,PISTON, LINEAR ACTUATING CYLINDER 3040-01-522-4830 DEPT OF DEFENSE DEFENSE LOGISTICS AGENCY (DLA)\n",
       "31430                                                                                                                                                      Regrade Del Bac-Tucson Right of Way  Between Structure 6/3 and 6/4 ENERGY, DEPARTMENT OF ENERGY, DEPARTMENT OF\n",
       "30897                                                                                                       AWARD - REAWARD A MEASURED BUSINESS LINE (3KHZ VOICE) IN SUPPORT OF A RADIO SYSTEM IN THURMONT, MD. DEPT OF DEFENSE DEFENSE INFORMATION SYSTEMS AGENCY (DISA)\n",
       "39137                                                                                                                                                                                                           53--O-RING DEPT OF DEFENSE DEFENSE LOGISTICS AGENCY (DLA)\n",
       "17440                                                                                                                                                                     Large Vehicle Inspection Point Facility, Buckley AFB, Colorado DEPT OF DEFENSE DEPT OF THE ARMY\n",
       "16415                                                                                                                                                                                         62--DISPLAY, EL, IN REPAIR/MODIFICATION OF DEPT OF DEFENSE DEPT OF THE NAVY\n",
       "31495                                                                                                                                                                                Rapid Acquisition of Threat Simulator (RATS) 2 DEPT OF DEFENSE DEPT OF THE AIR FORCE\n",
       "9215                                                                                                                                                                                 Dental Solicitation: SPE2DE-20-R-0007 DEPT OF DEFENSE DEFENSE LOGISTICS AGENCY (DLA)\n",
       "17827                                                                                                                                                                                                    71--STOOL,FOLDING DEPT OF DEFENSE DEFENSE LOGISTICS AGENCY (DLA)\n",
       "37642                                                                                                                                                                                                           53--O-RING DEPT OF DEFENSE DEFENSE LOGISTICS AGENCY (DLA)\n",
       "33826                                                                                                                                                                                                   16--PAD,CUSHIONING DEPT OF DEFENSE DEFENSE LOGISTICS AGENCY (DLA)\n",
       "15283                                                                                                                                                                Sources Sought for the Repair of the CH-47 Transmission, Mechanical DEPT OF DEFENSE DEPT OF THE ARMY\n",
       "30267                                                                                                                                                                                                               Compressed Gases BPA DEPT OF DEFENSE DEPT OF THE ARMY\n",
       "43342                                                                                                                                                                                           5 AXIS CNC 240 TON HYDRAULIC BRAKE PRESS DEPT OF DEFENSE DEPT OF THE ARMY\n",
       "13408                                                                                                                                           G099--Substance Use Disorder Services (SUDS)  Housing     VETERANS AFFAIRS, DEPARTMENT OF VETERANS AFFAIRS, DEPARTMENT OF\n",
       "8159                                                                                                                                                                                                    F-16 Electron Tube DEPT OF DEFENSE DEFENSE LOGISTICS AGENCY (DLA)\n",
       "13031                                                                                                                                                                                     Catered Meals, 10MAY20-05AUG20, Camp Bowie, TX DEPT OF DEFENSE DEPT OF THE ARMY\n",
       "13975                                                                                                                                                                                               25--BEADLOCK,PNEUMATIC DEPT OF DEFENSE DEFENSE LOGISTICS AGENCY (DLA)\n",
       "16691                                                                                                                                                                                                     SPMYM2-20-Q-2004 DEPT OF DEFENSE DEFENSE LOGISTICS AGENCY (DLA)\n",
       "29427                                                                                                                                                                                                                              MR002 DEPT OF DEFENSE DEPT OF THE NAVY\n",
       "29449    PROVIDE, INSTALL, AND MAINTAIN A 1GB NIPRNET CIRCUIT FROM (BLDG) 400; (RM) 1184; (FL) 1; 400 GIGLING ROAD; SEASIDE, CA, 93955 TO BLDG 700, ROOM 155, TELCO ROOM, 730 AIRPORT ROAD, MONTEREY, CA 93943. DEPT OF DEFENSE DEFENSE INFORMATION SYSTEMS AGENCY (DISA)\n",
       "Name: combined, dtype: object"
      ]
     },
     "execution_count": 57,
     "metadata": {},
     "output_type": "execute_result"
    }
   ],
   "source": [
    "titles.sample(25)"
   ]
  },
  {
   "cell_type": "code",
   "execution_count": 58,
   "metadata": {
    "scrolled": true
   },
   "outputs": [
    {
     "data": {
      "text/plain": [
       "43449                                                                            PAD, RUBBER DEPT OF DEFENSE DEPT OF THE NAVY\n",
       "43450                                        Cabling Services VETERANS AFFAIRS, DEPARTMENT OF VETERANS AFFAIRS, DEPARTMENT OF\n",
       "43451    J041--Ice Machines and Retherm Unit Service Contract VETERANS AFFAIRS, DEPARTMENT OF VETERANS AFFAIRS, DEPARTMENT OF\n",
       "43452                                                  70--OPTICAL READER,DATA DEPT OF DEFENSE DEFENSE LOGISTICS AGENCY (DLA)\n",
       "43453                 Joint Light Tactical Vehicle (JLTV) Family of Vehicles (FoV) Follow-On DEPT OF DEFENSE DEPT OF THE ARMY\n",
       "Name: combined, dtype: object"
      ]
     },
     "execution_count": 58,
     "metadata": {},
     "output_type": "execute_result"
    }
   ],
   "source": [
    "titles.tail()"
   ]
  },
  {
   "cell_type": "markdown",
   "metadata": {},
   "source": [
    "#### Clean and tokenize text\n"
   ]
  },
  {
   "cell_type": "markdown",
   "metadata": {},
   "source": [
    "Tagging entities with spaCy for the sake of easily removing dates, numbers and addresses did not work well on this particular text. "
   ]
  },
  {
   "cell_type": "code",
   "execution_count": 78,
   "metadata": {},
   "outputs": [],
   "source": [
    "# define function to tokenize a column\n",
    "\n",
    "def tokenizer_function(column):\n",
    "    \"\"\"\n",
    "    Takes in a text column\n",
    "        tokenizes the text in each row\n",
    "        using pattern [[a-zA-Z]\\w+]\n",
    "        which matches every lowercase and upperase character between a-z that are word characters\n",
    "    Returns list of strings\n",
    "    \"\"\"\n",
    "    \n",
    "    # instantiate empty list of tokenized text\n",
    "    texts = []\n",
    "    \n",
    "    # define tokenizer pattern\n",
    "    pattern = '[a-zA-Z]\\w+'\n",
    "    # instantiate tokenizer\n",
    "    tokenizer = RegexpTokenizer(pattern=pattern)\n",
    "    \n",
    "    # create for loop to tokenize each row and add the list of tokens to texts\n",
    "    for text in column:\n",
    "#         print(type(text))\n",
    "        tokens = tokenizer.tokenize(text)\n",
    "        \n",
    "        # transform tokens into lower case strings\n",
    "        tokens = [token.lower() for token in tokens]\n",
    "        texts.append(tokens)\n",
    "    return pd.Series(texts)"
   ]
  },
  {
   "cell_type": "code",
   "execution_count": 79,
   "metadata": {},
   "outputs": [],
   "source": [
    "titles_2 = titles[:2]"
   ]
  },
  {
   "cell_type": "code",
   "execution_count": 80,
   "metadata": {},
   "outputs": [
    {
     "data": {
      "text/plain": [
       "0    [request, for, information, new, design, booklet, die, cutting, insert, assembly, united, states, government, publishing, office, united, states, government, publishing, office]\n",
       "1                                                                             [audiovisual, suite, for, large, auditorium, maxwell, afb, dept, of, defense, dept, of, the, air, force]\n",
       "dtype: object"
      ]
     },
     "execution_count": 80,
     "metadata": {},
     "output_type": "execute_result"
    }
   ],
   "source": [
    "tokenizer_function(titles_2)"
   ]
  },
  {
   "cell_type": "code",
   "execution_count": 83,
   "metadata": {
    "scrolled": true
   },
   "outputs": [],
   "source": [
    "tokenized_titles = tokenizer_function(titles)"
   ]
  },
  {
   "cell_type": "code",
   "execution_count": 82,
   "metadata": {},
   "outputs": [],
   "source": [
    "# tokenized_series = pd.Series(tokenized_titles)"
   ]
  },
  {
   "cell_type": "code",
   "execution_count": 85,
   "metadata": {},
   "outputs": [],
   "source": [
    "tokenized_titles.to_csv('./data/tokenized_titles.csv', index=False)"
   ]
  },
  {
   "cell_type": "code",
   "execution_count": null,
   "metadata": {},
   "outputs": [],
   "source": [
    "# remove stop words"
   ]
  },
  {
   "cell_type": "code",
   "execution_count": 22,
   "metadata": {},
   "outputs": [
    {
     "data": {
      "text/plain": [
       "(100,)"
      ]
     },
     "execution_count": 22,
     "metadata": {},
     "output_type": "execute_result"
    }
   ],
   "source": [
    "# subset of text documents to try out different nlp methods\n",
    "titles_100 = titles.iloc[:100]\n",
    "titles_100.shape"
   ]
  },
  {
   "cell_type": "code",
   "execution_count": 13,
   "metadata": {},
   "outputs": [],
   "source": [
    "# create gensin dictionary where every word has a unique numeric ID"
   ]
  },
  {
   "cell_type": "markdown",
   "metadata": {},
   "source": [
    "### Word2Vec Model - CBOW"
   ]
  },
  {
   "cell_type": "code",
   "execution_count": 67,
   "metadata": {},
   "outputs": [],
   "source": [
    "# source: https://radimrehurek.com/gensim/auto_examples/tutorials/run_word2vec.html#sphx-glr-auto-examples-tutorials-run-word2vec-py\n",
    "import gensim.models"
   ]
  },
  {
   "cell_type": "code",
   "execution_count": 68,
   "metadata": {},
   "outputs": [],
   "source": [
    "model = gensim.models.Word2Vec(sentences=tokenized_titles,\n",
    "                               sg=0, # CBOW training algorithm\n",
    "                               seed=1977,\n",
    "                               iter=10\n",
    "                              )"
   ]
  },
  {
   "cell_type": "code",
   "execution_count": null,
   "metadata": {},
   "outputs": [],
   "source": [
    "# add new downloads to trained model"
   ]
  },
  {
   "cell_type": "code",
   "execution_count": null,
   "metadata": {},
   "outputs": [],
   "source": [
    "# save trained model"
   ]
  },
  {
   "cell_type": "code",
   "execution_count": null,
   "metadata": {},
   "outputs": [],
   "source": [
    "# similar word vectors\n"
   ]
  },
  {
   "cell_type": "markdown",
   "metadata": {},
   "source": [
    "### Word2Vec Model - Skip-Grams"
   ]
  },
  {
   "cell_type": "markdown",
   "metadata": {},
   "source": [
    "# Capstone Project\n",
    "\n",
    "## Problem Statement\n",
    "\n",
    "Fedbizopps.gov used to be a website where small businesses could search for federal contract opportunities. While the collection of soliciations and award notifications was searchable based on key terms, finding opportunities of interest based on similarity, rather than key term search, as far as I know, was not available. As a result, looking for contract opportunities took a considerable time, which could potentially put a strain on lightly staffed small businesses. The successor of Fedbizopps.gov, Beta.SAM.gov, although not yet fully operational, provides a wide array of filtering options besides the search by key terms and the browsing function. Those new to the system would benefit, however, from an application that recommends opportunities of interest based on topic and/or wording similarity. \n",
    "\n",
    "## Executive Summary\n",
    "\n",
    "#### The purpose of this project:\n",
    "1. Stretching the limits of natural language processing, build an application that, based on user up- or downvote would recommend contract notifications of interest.\n",
    "2. Observe how well a content based recommender system is capable of finding not only similar but also relevant notifications.\n",
    "\n",
    "#### Data:"
   ]
  },
  {
   "cell_type": "code",
   "execution_count": null,
   "metadata": {},
   "outputs": [],
   "source": []
  }
 ],
 "metadata": {
  "kernelspec": {
   "display_name": "Python 3",
   "language": "python",
   "name": "python3"
  },
  "language_info": {
   "codemirror_mode": {
    "name": "ipython",
    "version": 3
   },
   "file_extension": ".py",
   "mimetype": "text/x-python",
   "name": "python",
   "nbconvert_exporter": "python",
   "pygments_lexer": "ipython3",
   "version": "3.7.6"
  }
 },
 "nbformat": 4,
 "nbformat_minor": 4
}
