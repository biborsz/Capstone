{
 "cells": [
  {
   "cell_type": "code",
   "execution_count": 54,
   "metadata": {},
   "outputs": [],
   "source": [
    "# imports\n",
    "import pandas as pd\n",
    "import requests\n",
    "import time\n",
    "import datetime"
   ]
  },
  {
   "cell_type": "code",
   "execution_count": 55,
   "metadata": {},
   "outputs": [],
   "source": [
    "# set display options \n",
    "pd.set_option('display.max_columns', 50)\n",
    "pd.set_option('display.max_colwidth', None)"
   ]
  },
  {
   "cell_type": "code",
   "execution_count": 56,
   "metadata": {},
   "outputs": [],
   "source": [
    "# read in combined csv file\n",
    "df = pd.read_csv('./data/combined.csv')"
   ]
  },
  {
   "cell_type": "code",
   "execution_count": 57,
   "metadata": {},
   "outputs": [
    {
     "data": {
      "text/plain": [
       "(31913, 27)"
      ]
     },
     "execution_count": 57,
     "metadata": {},
     "output_type": "execute_result"
    }
   ],
   "source": [
    "df.shape"
   ]
  },
  {
   "cell_type": "code",
   "execution_count": 58,
   "metadata": {
    "scrolled": true
   },
   "outputs": [
    {
     "data": {
      "text/html": [
       "<div>\n",
       "<style scoped>\n",
       "    .dataframe tbody tr th:only-of-type {\n",
       "        vertical-align: middle;\n",
       "    }\n",
       "\n",
       "    .dataframe tbody tr th {\n",
       "        vertical-align: top;\n",
       "    }\n",
       "\n",
       "    .dataframe thead th {\n",
       "        text-align: right;\n",
       "    }\n",
       "</style>\n",
       "<table border=\"1\" class=\"dataframe\">\n",
       "  <thead>\n",
       "    <tr style=\"text-align: right;\">\n",
       "      <th></th>\n",
       "      <th>noticeId</th>\n",
       "      <th>title</th>\n",
       "      <th>solicitationNumber</th>\n",
       "      <th>department</th>\n",
       "      <th>subTier</th>\n",
       "      <th>office</th>\n",
       "      <th>postedDate</th>\n",
       "      <th>type</th>\n",
       "      <th>baseType</th>\n",
       "      <th>archiveType</th>\n",
       "      <th>archiveDate</th>\n",
       "      <th>typeOfSetAsideDescription</th>\n",
       "      <th>typeOfSetAside</th>\n",
       "      <th>responseDeadLine</th>\n",
       "      <th>naicsCode</th>\n",
       "      <th>classificationCode</th>\n",
       "      <th>active</th>\n",
       "      <th>award</th>\n",
       "      <th>pointOfContact</th>\n",
       "      <th>description</th>\n",
       "      <th>organizationType</th>\n",
       "      <th>officeAddress</th>\n",
       "      <th>placeOfPerformance</th>\n",
       "      <th>additionalInfoLink</th>\n",
       "      <th>uiLink</th>\n",
       "      <th>links</th>\n",
       "      <th>resourceLinks</th>\n",
       "    </tr>\n",
       "  </thead>\n",
       "  <tbody>\n",
       "    <tr>\n",
       "      <th>0</th>\n",
       "      <td>ffe3c07bab8b4a7d9be583fd4dd96c4a</td>\n",
       "      <td>REQUEST FOR INFORMATION - NEW DESIGN BOOKLET DIE CUTTING INSERT ASSEMBLY</td>\n",
       "      <td>RFI-042720</td>\n",
       "      <td>UNITED STATES GOVERNMENT PUBLISHING OFFICE</td>\n",
       "      <td>UNITED STATES GOVERNMENT PUBLISHING OFFICE</td>\n",
       "      <td>Acquisition Services</td>\n",
       "      <td>2020-04-27</td>\n",
       "      <td>Sources Sought</td>\n",
       "      <td>Sources Sought</td>\n",
       "      <td>auto15</td>\n",
       "      <td>2020-05-27</td>\n",
       "      <td>NaN</td>\n",
       "      <td>NaN</td>\n",
       "      <td>2020-05-12T14:00:00-04:00</td>\n",
       "      <td>333244.0</td>\n",
       "      <td>3610</td>\n",
       "      <td>Yes</td>\n",
       "      <td>NaN</td>\n",
       "      <td>[{'fax': '', 'type': 'primary', 'email': 'rgraham@gpo.gov', 'phone': '2025120032', 'title': None, 'fullName': 'Rosalyn Graham'}, {'fax': '', 'type': 'secondary', 'email': 'rortega@gpo.gov', 'phone': '2025120803', 'title': None, 'fullName': 'Ronald Ortega'}]</td>\n",
       "      <td>https://api.sam.gov/prod/opportunities/v1/noticedesc?noticeid=ffe3c07bab8b4a7d9be583fd4dd96c4a</td>\n",
       "      <td>OFFICE</td>\n",
       "      <td>{'zipcode': '20401', 'city': 'Washington', 'countryCode': 'USA', 'state': 'DC'}</td>\n",
       "      <td>{'state': {'code': 'DC', 'name': 'District of Columbia'}, 'zip': '20401', 'country': {'code': 'USA', 'name': 'UNITED STATES'}}</td>\n",
       "      <td>NaN</td>\n",
       "      <td>https://beta.sam.gov/opp/ffe3c07bab8b4a7d9be583fd4dd96c4a/view</td>\n",
       "      <td>[{'rel': 'self', 'href': 'https://api.sam.gov/prod/opportunities/v1/search?noticeid=ffe3c07bab8b4a7d9be583fd4dd96c4a&amp;limit=1', 'hreflang': None, 'media': None, 'title': None, 'type': None, 'deprecation': None}]</td>\n",
       "      <td>['https://beta.sam.gov/api/prod/opps/v3/opportunities/resources/files/bd2b3b5e86474278ae1ea1a163ccbfd7/download?api_key=null&amp;token=', 'https://beta.sam.gov/api/prod/opps/v3/opportunities/resources/files/774a16e89e4d431e85b0eba1a510a24c/download?api_key=null&amp;token=', 'https://beta.sam.gov/api/prod/opps/v3/opportunities/resources/files/b62d72d82537413f8537bb19160d49bd/download?api_key=null&amp;token=']</td>\n",
       "    </tr>\n",
       "    <tr>\n",
       "      <th>1</th>\n",
       "      <td>ff5e29951ed14b0386ea3291fa6c573f</td>\n",
       "      <td>Audiovisual Suite for Large Auditorium - Maxwell AFB</td>\n",
       "      <td>FA330020X0001</td>\n",
       "      <td>DEPT OF DEFENSE</td>\n",
       "      <td>DEPT OF THE AIR FORCE</td>\n",
       "      <td>FA3300  42 CONS CC</td>\n",
       "      <td>2020-04-27</td>\n",
       "      <td>Sources Sought</td>\n",
       "      <td>Sources Sought</td>\n",
       "      <td>auto15</td>\n",
       "      <td>2020-05-20</td>\n",
       "      <td>NaN</td>\n",
       "      <td>NaN</td>\n",
       "      <td>2020-05-05T12:00:00-05:00</td>\n",
       "      <td>334310.0</td>\n",
       "      <td>5836</td>\n",
       "      <td>Yes</td>\n",
       "      <td>NaN</td>\n",
       "      <td>[{'fax': '3349532198', 'type': 'primary', 'email': 'brandon.osborne.6@us.af.mil', 'phone': '3349537835', 'title': None, 'fullName': 'Brandon Osborne'}, {'fax': '3349532198', 'type': 'secondary', 'email': 'jeremy.kersey.1@us.af.mil', 'phone': '3349533526', 'title': None, 'fullName': 'Jeremy B. Kersey'}]</td>\n",
       "      <td>https://api.sam.gov/prod/opportunities/v1/noticedesc?noticeid=ff5e29951ed14b0386ea3291fa6c573f</td>\n",
       "      <td>OFFICE</td>\n",
       "      <td>{'zipcode': '36112-6334', 'city': 'MAXWELL AFB', 'countryCode': 'USA', 'state': 'AL'}</td>\n",
       "      <td>{'city': {'code': '51000', 'name': 'Montgomery'}, 'state': {'code': 'AL', 'name': 'Alabama'}, 'zip': '36112', 'country': {'code': 'USA', 'name': 'UNITED STATES'}}</td>\n",
       "      <td>NaN</td>\n",
       "      <td>https://beta.sam.gov/opp/ff5e29951ed14b0386ea3291fa6c573f/view</td>\n",
       "      <td>[{'rel': 'self', 'href': 'https://api.sam.gov/prod/opportunities/v1/search?noticeid=ff5e29951ed14b0386ea3291fa6c573f&amp;limit=1', 'hreflang': None, 'media': None, 'title': None, 'type': None, 'deprecation': None}]</td>\n",
       "      <td>['https://beta.sam.gov/api/prod/opps/v3/opportunities/resources/files/c2a6338838ed4ebfa7d70e91221ffc21/download?api_key=null&amp;token=']</td>\n",
       "    </tr>\n",
       "    <tr>\n",
       "      <th>2</th>\n",
       "      <td>ff2a16aad70246d1ba10e639c11456d4</td>\n",
       "      <td>Metrology Equipment Move</td>\n",
       "      <td>SP4703-20-Q-0045</td>\n",
       "      <td>DEPT OF DEFENSE</td>\n",
       "      <td>DEFENSE LOGISTICS AGENCY (DLA)</td>\n",
       "      <td>DCSO RICHMOND</td>\n",
       "      <td>2020-04-27</td>\n",
       "      <td>Combined Synopsis/Solicitation</td>\n",
       "      <td>Combined Synopsis/Solicitation</td>\n",
       "      <td>auto15</td>\n",
       "      <td>2020-05-19</td>\n",
       "      <td>Total Small Business Set-Aside (FAR 19.5)</td>\n",
       "      <td>SBA</td>\n",
       "      <td>2020-05-04T15:00:00-04:00</td>\n",
       "      <td>238990.0</td>\n",
       "      <td>Z1PZ</td>\n",
       "      <td>Yes</td>\n",
       "      <td>NaN</td>\n",
       "      <td>[{'fax': '', 'type': 'primary', 'email': 'Kiara.leslie@dla.mil', 'phone': '8042796566', 'title': None, 'fullName': 'Kiara Leslie'}, {'fax': '', 'type': 'secondary', 'email': 'mary.washington@dla.mil', 'phone': '8042795628', 'title': None, 'fullName': 'Mary A. Washington, Contracting Officer'}]</td>\n",
       "      <td>https://api.sam.gov/prod/opportunities/v1/noticedesc?noticeid=ff2a16aad70246d1ba10e639c11456d4</td>\n",
       "      <td>OFFICE</td>\n",
       "      <td>{'zipcode': '23297-5441', 'city': 'RICHMOND', 'countryCode': 'USA', 'state': 'VA'}</td>\n",
       "      <td>{'city': {'code': '67000', 'name': 'Richmond'}, 'state': {'code': 'VA', 'name': 'Virginia'}, 'zip': '23219', 'country': {'code': 'USA', 'name': 'UNITED STATES'}}</td>\n",
       "      <td>NaN</td>\n",
       "      <td>https://beta.sam.gov/opp/ff2a16aad70246d1ba10e639c11456d4/view</td>\n",
       "      <td>[{'rel': 'self', 'href': 'https://api.sam.gov/prod/opportunities/v1/search?noticeid=ff2a16aad70246d1ba10e639c11456d4&amp;limit=1', 'hreflang': None, 'media': None, 'title': None, 'type': None, 'deprecation': None}]</td>\n",
       "      <td>['https://beta.sam.gov/api/prod/opps/v3/opportunities/resources/files/18c139e819464ce2934b07f841d6b742/download?api_key=null&amp;token=', 'https://beta.sam.gov/api/prod/opps/v3/opportunities/resources/files/3254bee55b05422bb5a5638f85f5ad85/download?api_key=null&amp;token=', 'https://beta.sam.gov/api/prod/opps/v3/opportunities/resources/files/db5cf8928e394ca3bbccc489858e3613/download?api_key=null&amp;token=', 'https://beta.sam.gov/api/prod/opps/v3/opportunities/resources/files/7c5bdc22855046e0a7c5f1a9505f8cb7/download?api_key=null&amp;token=', 'https://beta.sam.gov/api/prod/opps/v3/opportunities/resources/files/5c967f7e9bae4dc297067066a8c326ea/download?api_key=null&amp;token=', 'https://beta.sam.gov/api/prod/opps/v3/opportunities/resources/files/db21fce9fd544d03a3e879c84e989b65/download?api_key=null&amp;token=', 'https://beta.sam.gov/api/prod/opps/v3/opportunities/resources/files/79b161ca6b7349779413df63e474a8e6/download?api_key=null&amp;token=']</td>\n",
       "    </tr>\n",
       "    <tr>\n",
       "      <th>3</th>\n",
       "      <td>fef5aeb716414feb8c12eec5e5063ff6</td>\n",
       "      <td>INNER INFLATABLE ASSY (LPU-36A/P)</td>\n",
       "      <td>PR1000092966</td>\n",
       "      <td>DEPT OF DEFENSE</td>\n",
       "      <td>DEFENSE LOGISTICS AGENCY (DLA)</td>\n",
       "      <td>DLA LAND AND MARITIME</td>\n",
       "      <td>2020-04-27</td>\n",
       "      <td>Sources Sought</td>\n",
       "      <td>Sources Sought</td>\n",
       "      <td>auto15</td>\n",
       "      <td>2020-05-19</td>\n",
       "      <td>NaN</td>\n",
       "      <td>NaN</td>\n",
       "      <td>2020-05-04T09:00:00-04:00</td>\n",
       "      <td>NaN</td>\n",
       "      <td>4220</td>\n",
       "      <td>Yes</td>\n",
       "      <td>NaN</td>\n",
       "      <td>[{'fax': '', 'type': 'primary', 'email': 'mindy.messerly@dla.mil', 'phone': '', 'title': None, 'fullName': 'Mindy Messerly614-692-4874'}]</td>\n",
       "      <td>https://api.sam.gov/prod/opportunities/v1/noticedesc?noticeid=fef5aeb716414feb8c12eec5e5063ff6</td>\n",
       "      <td>OFFICE</td>\n",
       "      <td>{'zipcode': '43218-3990', 'city': 'COLUMBUS', 'countryCode': 'USA', 'state': 'OH'}</td>\n",
       "      <td>NaN</td>\n",
       "      <td>NaN</td>\n",
       "      <td>https://beta.sam.gov/opp/fef5aeb716414feb8c12eec5e5063ff6/view</td>\n",
       "      <td>[{'rel': 'self', 'href': 'https://api.sam.gov/prod/opportunities/v1/search?noticeid=fef5aeb716414feb8c12eec5e5063ff6&amp;limit=1', 'hreflang': None, 'media': None, 'title': None, 'type': None, 'deprecation': None}]</td>\n",
       "      <td>NaN</td>\n",
       "    </tr>\n",
       "    <tr>\n",
       "      <th>4</th>\n",
       "      <td>fed3bef7bd1e4ac389950ef7a087e578</td>\n",
       "      <td>17--CRADLE</td>\n",
       "      <td>SPE8EF20T1468</td>\n",
       "      <td>DEPT OF DEFENSE</td>\n",
       "      <td>DEFENSE LOGISTICS AGENCY (DLA)</td>\n",
       "      <td>DLA TROOP SUPPORT</td>\n",
       "      <td>2020-04-27</td>\n",
       "      <td>Combined Synopsis/Solicitation</td>\n",
       "      <td>Combined Synopsis/Solicitation</td>\n",
       "      <td>autocustom</td>\n",
       "      <td>2020-06-07</td>\n",
       "      <td>Total Small Business Set-Aside (FAR 19.5)</td>\n",
       "      <td>SBA</td>\n",
       "      <td>2020-05-08</td>\n",
       "      <td>336413.0</td>\n",
       "      <td>17</td>\n",
       "      <td>Yes</td>\n",
       "      <td>{'awardee': {'location': {}}}</td>\n",
       "      <td>[{'fax': None, 'type': 'primary', 'email': 'DibbsBSM@dla.mil', 'phone': None, 'title': None, 'fullName': 'Questions regarding this solicitation should be emailed to the buyer listed in block 5 of the solicitation document which can be found under the Additional Information link.\\nIf the Additional Information link does not work, please go to https://www.dibbs.'}]</td>\n",
       "      <td>https://api.sam.gov/prod/opportunities/v1/noticedesc?noticeid=fed3bef7bd1e4ac389950ef7a087e578</td>\n",
       "      <td>OFFICE</td>\n",
       "      <td>{'zipcode': '19111-5096', 'city': 'PHILADELPHIA', 'countryCode': 'USA', 'state': 'PA'}</td>\n",
       "      <td>{}</td>\n",
       "      <td>NaN</td>\n",
       "      <td>https://beta.sam.gov/opp/fed3bef7bd1e4ac389950ef7a087e578/view</td>\n",
       "      <td>[{'rel': 'self', 'href': 'https://api.sam.gov/prod/opportunities/v1/search?noticeid=fed3bef7bd1e4ac389950ef7a087e578&amp;limit=1', 'hreflang': None, 'media': None, 'title': None, 'type': None, 'deprecation': None}]</td>\n",
       "      <td>NaN</td>\n",
       "    </tr>\n",
       "  </tbody>\n",
       "</table>\n",
       "</div>"
      ],
      "text/plain": [
       "                           noticeId  \\\n",
       "0  ffe3c07bab8b4a7d9be583fd4dd96c4a   \n",
       "1  ff5e29951ed14b0386ea3291fa6c573f   \n",
       "2  ff2a16aad70246d1ba10e639c11456d4   \n",
       "3  fef5aeb716414feb8c12eec5e5063ff6   \n",
       "4  fed3bef7bd1e4ac389950ef7a087e578   \n",
       "\n",
       "                                                                      title  \\\n",
       "0  REQUEST FOR INFORMATION - NEW DESIGN BOOKLET DIE CUTTING INSERT ASSEMBLY   \n",
       "1                      Audiovisual Suite for Large Auditorium - Maxwell AFB   \n",
       "2                                                  Metrology Equipment Move   \n",
       "3                                         INNER INFLATABLE ASSY (LPU-36A/P)   \n",
       "4                                                                17--CRADLE   \n",
       "\n",
       "  solicitationNumber                                  department  \\\n",
       "0         RFI-042720  UNITED STATES GOVERNMENT PUBLISHING OFFICE   \n",
       "1      FA330020X0001                             DEPT OF DEFENSE   \n",
       "2   SP4703-20-Q-0045                             DEPT OF DEFENSE   \n",
       "3       PR1000092966                             DEPT OF DEFENSE   \n",
       "4      SPE8EF20T1468                             DEPT OF DEFENSE   \n",
       "\n",
       "                                      subTier                 office  \\\n",
       "0  UNITED STATES GOVERNMENT PUBLISHING OFFICE   Acquisition Services   \n",
       "1                       DEPT OF THE AIR FORCE     FA3300  42 CONS CC   \n",
       "2              DEFENSE LOGISTICS AGENCY (DLA)          DCSO RICHMOND   \n",
       "3              DEFENSE LOGISTICS AGENCY (DLA)  DLA LAND AND MARITIME   \n",
       "4              DEFENSE LOGISTICS AGENCY (DLA)      DLA TROOP SUPPORT   \n",
       "\n",
       "   postedDate                            type                        baseType  \\\n",
       "0  2020-04-27                  Sources Sought                  Sources Sought   \n",
       "1  2020-04-27                  Sources Sought                  Sources Sought   \n",
       "2  2020-04-27  Combined Synopsis/Solicitation  Combined Synopsis/Solicitation   \n",
       "3  2020-04-27                  Sources Sought                  Sources Sought   \n",
       "4  2020-04-27  Combined Synopsis/Solicitation  Combined Synopsis/Solicitation   \n",
       "\n",
       "  archiveType archiveDate                  typeOfSetAsideDescription  \\\n",
       "0      auto15  2020-05-27                                        NaN   \n",
       "1      auto15  2020-05-20                                        NaN   \n",
       "2      auto15  2020-05-19  Total Small Business Set-Aside (FAR 19.5)   \n",
       "3      auto15  2020-05-19                                        NaN   \n",
       "4  autocustom  2020-06-07  Total Small Business Set-Aside (FAR 19.5)   \n",
       "\n",
       "  typeOfSetAside           responseDeadLine  naicsCode classificationCode  \\\n",
       "0            NaN  2020-05-12T14:00:00-04:00   333244.0               3610   \n",
       "1            NaN  2020-05-05T12:00:00-05:00   334310.0               5836   \n",
       "2            SBA  2020-05-04T15:00:00-04:00   238990.0               Z1PZ   \n",
       "3            NaN  2020-05-04T09:00:00-04:00        NaN               4220   \n",
       "4            SBA                 2020-05-08   336413.0                 17   \n",
       "\n",
       "  active                          award  \\\n",
       "0    Yes                            NaN   \n",
       "1    Yes                            NaN   \n",
       "2    Yes                            NaN   \n",
       "3    Yes                            NaN   \n",
       "4    Yes  {'awardee': {'location': {}}}   \n",
       "\n",
       "                                                                                                                                                                                                                                                                                                                                                                  pointOfContact  \\\n",
       "0                                                                                                              [{'fax': '', 'type': 'primary', 'email': 'rgraham@gpo.gov', 'phone': '2025120032', 'title': None, 'fullName': 'Rosalyn Graham'}, {'fax': '', 'type': 'secondary', 'email': 'rortega@gpo.gov', 'phone': '2025120803', 'title': None, 'fullName': 'Ronald Ortega'}]   \n",
       "1                                                                [{'fax': '3349532198', 'type': 'primary', 'email': 'brandon.osborne.6@us.af.mil', 'phone': '3349537835', 'title': None, 'fullName': 'Brandon Osborne'}, {'fax': '3349532198', 'type': 'secondary', 'email': 'jeremy.kersey.1@us.af.mil', 'phone': '3349533526', 'title': None, 'fullName': 'Jeremy B. Kersey'}]   \n",
       "2                                                                         [{'fax': '', 'type': 'primary', 'email': 'Kiara.leslie@dla.mil', 'phone': '8042796566', 'title': None, 'fullName': 'Kiara Leslie'}, {'fax': '', 'type': 'secondary', 'email': 'mary.washington@dla.mil', 'phone': '8042795628', 'title': None, 'fullName': 'Mary A. Washington, Contracting Officer'}]   \n",
       "3                                                                                                                                                                                                                                      [{'fax': '', 'type': 'primary', 'email': 'mindy.messerly@dla.mil', 'phone': '', 'title': None, 'fullName': 'Mindy Messerly614-692-4874'}]   \n",
       "4  [{'fax': None, 'type': 'primary', 'email': 'DibbsBSM@dla.mil', 'phone': None, 'title': None, 'fullName': 'Questions regarding this solicitation should be emailed to the buyer listed in block 5 of the solicitation document which can be found under the Additional Information link.\\nIf the Additional Information link does not work, please go to https://www.dibbs.'}]   \n",
       "\n",
       "                                                                                      description  \\\n",
       "0  https://api.sam.gov/prod/opportunities/v1/noticedesc?noticeid=ffe3c07bab8b4a7d9be583fd4dd96c4a   \n",
       "1  https://api.sam.gov/prod/opportunities/v1/noticedesc?noticeid=ff5e29951ed14b0386ea3291fa6c573f   \n",
       "2  https://api.sam.gov/prod/opportunities/v1/noticedesc?noticeid=ff2a16aad70246d1ba10e639c11456d4   \n",
       "3  https://api.sam.gov/prod/opportunities/v1/noticedesc?noticeid=fef5aeb716414feb8c12eec5e5063ff6   \n",
       "4  https://api.sam.gov/prod/opportunities/v1/noticedesc?noticeid=fed3bef7bd1e4ac389950ef7a087e578   \n",
       "\n",
       "  organizationType  \\\n",
       "0           OFFICE   \n",
       "1           OFFICE   \n",
       "2           OFFICE   \n",
       "3           OFFICE   \n",
       "4           OFFICE   \n",
       "\n",
       "                                                                            officeAddress  \\\n",
       "0         {'zipcode': '20401', 'city': 'Washington', 'countryCode': 'USA', 'state': 'DC'}   \n",
       "1   {'zipcode': '36112-6334', 'city': 'MAXWELL AFB', 'countryCode': 'USA', 'state': 'AL'}   \n",
       "2      {'zipcode': '23297-5441', 'city': 'RICHMOND', 'countryCode': 'USA', 'state': 'VA'}   \n",
       "3      {'zipcode': '43218-3990', 'city': 'COLUMBUS', 'countryCode': 'USA', 'state': 'OH'}   \n",
       "4  {'zipcode': '19111-5096', 'city': 'PHILADELPHIA', 'countryCode': 'USA', 'state': 'PA'}   \n",
       "\n",
       "                                                                                                                                                   placeOfPerformance  \\\n",
       "0                                      {'state': {'code': 'DC', 'name': 'District of Columbia'}, 'zip': '20401', 'country': {'code': 'USA', 'name': 'UNITED STATES'}}   \n",
       "1  {'city': {'code': '51000', 'name': 'Montgomery'}, 'state': {'code': 'AL', 'name': 'Alabama'}, 'zip': '36112', 'country': {'code': 'USA', 'name': 'UNITED STATES'}}   \n",
       "2   {'city': {'code': '67000', 'name': 'Richmond'}, 'state': {'code': 'VA', 'name': 'Virginia'}, 'zip': '23219', 'country': {'code': 'USA', 'name': 'UNITED STATES'}}   \n",
       "3                                                                                                                                                                 NaN   \n",
       "4                                                                                                                                                                  {}   \n",
       "\n",
       "   additionalInfoLink  \\\n",
       "0                 NaN   \n",
       "1                 NaN   \n",
       "2                 NaN   \n",
       "3                 NaN   \n",
       "4                 NaN   \n",
       "\n",
       "                                                           uiLink  \\\n",
       "0  https://beta.sam.gov/opp/ffe3c07bab8b4a7d9be583fd4dd96c4a/view   \n",
       "1  https://beta.sam.gov/opp/ff5e29951ed14b0386ea3291fa6c573f/view   \n",
       "2  https://beta.sam.gov/opp/ff2a16aad70246d1ba10e639c11456d4/view   \n",
       "3  https://beta.sam.gov/opp/fef5aeb716414feb8c12eec5e5063ff6/view   \n",
       "4  https://beta.sam.gov/opp/fed3bef7bd1e4ac389950ef7a087e578/view   \n",
       "\n",
       "                                                                                                                                                                                                                links  \\\n",
       "0  [{'rel': 'self', 'href': 'https://api.sam.gov/prod/opportunities/v1/search?noticeid=ffe3c07bab8b4a7d9be583fd4dd96c4a&limit=1', 'hreflang': None, 'media': None, 'title': None, 'type': None, 'deprecation': None}]   \n",
       "1  [{'rel': 'self', 'href': 'https://api.sam.gov/prod/opportunities/v1/search?noticeid=ff5e29951ed14b0386ea3291fa6c573f&limit=1', 'hreflang': None, 'media': None, 'title': None, 'type': None, 'deprecation': None}]   \n",
       "2  [{'rel': 'self', 'href': 'https://api.sam.gov/prod/opportunities/v1/search?noticeid=ff2a16aad70246d1ba10e639c11456d4&limit=1', 'hreflang': None, 'media': None, 'title': None, 'type': None, 'deprecation': None}]   \n",
       "3  [{'rel': 'self', 'href': 'https://api.sam.gov/prod/opportunities/v1/search?noticeid=fef5aeb716414feb8c12eec5e5063ff6&limit=1', 'hreflang': None, 'media': None, 'title': None, 'type': None, 'deprecation': None}]   \n",
       "4  [{'rel': 'self', 'href': 'https://api.sam.gov/prod/opportunities/v1/search?noticeid=fed3bef7bd1e4ac389950ef7a087e578&limit=1', 'hreflang': None, 'media': None, 'title': None, 'type': None, 'deprecation': None}]   \n",
       "\n",
       "                                                                                                                                                                                                                                                                                                                                                                                                                                                                                                                                                                                                                                                                                                                                                                                                                                                                                                                                                         resourceLinks  \n",
       "0                                                                                                                                                                                                                                                                                                                                                                                                                                                                                                                                                      ['https://beta.sam.gov/api/prod/opps/v3/opportunities/resources/files/bd2b3b5e86474278ae1ea1a163ccbfd7/download?api_key=null&token=', 'https://beta.sam.gov/api/prod/opps/v3/opportunities/resources/files/774a16e89e4d431e85b0eba1a510a24c/download?api_key=null&token=', 'https://beta.sam.gov/api/prod/opps/v3/opportunities/resources/files/b62d72d82537413f8537bb19160d49bd/download?api_key=null&token=']  \n",
       "1                                                                                                                                                                                                                                                                                                                                                                                                                                                                                                                                                                                                                                                                                                                                                                                                                                ['https://beta.sam.gov/api/prod/opps/v3/opportunities/resources/files/c2a6338838ed4ebfa7d70e91221ffc21/download?api_key=null&token=']  \n",
       "2  ['https://beta.sam.gov/api/prod/opps/v3/opportunities/resources/files/18c139e819464ce2934b07f841d6b742/download?api_key=null&token=', 'https://beta.sam.gov/api/prod/opps/v3/opportunities/resources/files/3254bee55b05422bb5a5638f85f5ad85/download?api_key=null&token=', 'https://beta.sam.gov/api/prod/opps/v3/opportunities/resources/files/db5cf8928e394ca3bbccc489858e3613/download?api_key=null&token=', 'https://beta.sam.gov/api/prod/opps/v3/opportunities/resources/files/7c5bdc22855046e0a7c5f1a9505f8cb7/download?api_key=null&token=', 'https://beta.sam.gov/api/prod/opps/v3/opportunities/resources/files/5c967f7e9bae4dc297067066a8c326ea/download?api_key=null&token=', 'https://beta.sam.gov/api/prod/opps/v3/opportunities/resources/files/db21fce9fd544d03a3e879c84e989b65/download?api_key=null&token=', 'https://beta.sam.gov/api/prod/opps/v3/opportunities/resources/files/79b161ca6b7349779413df63e474a8e6/download?api_key=null&token=']  \n",
       "3                                                                                                                                                                                                                                                                                                                                                                                                                                                                                                                                                                                                                                                                                                                                                                                                                                                                                                                                                                  NaN  \n",
       "4                                                                                                                                                                                                                                                                                                                                                                                                                                                                                                                                                                                                                                                                                                                                                                                                                                                                                                                                                                  NaN  "
      ]
     },
     "execution_count": 58,
     "metadata": {},
     "output_type": "execute_result"
    }
   ],
   "source": [
    "df.head()"
   ]
  },
  {
   "cell_type": "code",
   "execution_count": 59,
   "metadata": {
    "scrolled": true
   },
   "outputs": [
    {
     "data": {
      "text/html": [
       "<div>\n",
       "<style scoped>\n",
       "    .dataframe tbody tr th:only-of-type {\n",
       "        vertical-align: middle;\n",
       "    }\n",
       "\n",
       "    .dataframe tbody tr th {\n",
       "        vertical-align: top;\n",
       "    }\n",
       "\n",
       "    .dataframe thead th {\n",
       "        text-align: right;\n",
       "    }\n",
       "</style>\n",
       "<table border=\"1\" class=\"dataframe\">\n",
       "  <thead>\n",
       "    <tr style=\"text-align: right;\">\n",
       "      <th></th>\n",
       "      <th>noticeId</th>\n",
       "      <th>title</th>\n",
       "      <th>solicitationNumber</th>\n",
       "      <th>department</th>\n",
       "      <th>subTier</th>\n",
       "      <th>office</th>\n",
       "      <th>postedDate</th>\n",
       "      <th>type</th>\n",
       "      <th>baseType</th>\n",
       "      <th>archiveType</th>\n",
       "      <th>archiveDate</th>\n",
       "      <th>typeOfSetAsideDescription</th>\n",
       "      <th>typeOfSetAside</th>\n",
       "      <th>responseDeadLine</th>\n",
       "      <th>naicsCode</th>\n",
       "      <th>classificationCode</th>\n",
       "      <th>active</th>\n",
       "      <th>award</th>\n",
       "      <th>pointOfContact</th>\n",
       "      <th>description</th>\n",
       "      <th>organizationType</th>\n",
       "      <th>officeAddress</th>\n",
       "      <th>placeOfPerformance</th>\n",
       "      <th>additionalInfoLink</th>\n",
       "      <th>uiLink</th>\n",
       "      <th>links</th>\n",
       "      <th>resourceLinks</th>\n",
       "    </tr>\n",
       "  </thead>\n",
       "  <tbody>\n",
       "    <tr>\n",
       "      <th>31908</th>\n",
       "      <td>34c8c74c20054b2ab9a456947f110f6d</td>\n",
       "      <td>Remediation Services at the PR-58 Site in North Kingstown, RI</td>\n",
       "      <td>W912WJ20X0014</td>\n",
       "      <td>DEPT OF DEFENSE</td>\n",
       "      <td>DEPT OF THE ARMY</td>\n",
       "      <td>W2SD ENDIST NEW ENGLAND</td>\n",
       "      <td>2020-01-02</td>\n",
       "      <td>Sources Sought</td>\n",
       "      <td>Sources Sought</td>\n",
       "      <td>autocustom</td>\n",
       "      <td>2020-12-31</td>\n",
       "      <td>NaN</td>\n",
       "      <td>NaN</td>\n",
       "      <td>2020-01-24T15:00:00-05:00</td>\n",
       "      <td>562910.0</td>\n",
       "      <td>F108</td>\n",
       "      <td>Yes</td>\n",
       "      <td>NaN</td>\n",
       "      <td>[{'fax': '', 'type': 'primary', 'email': 'heather.skorik@usace.army.mil', 'phone': '9783188040', 'title': None, 'fullName': 'Heather M. Skorik'}]</td>\n",
       "      <td>https://api.sam.gov/prod/opportunities/v1/noticedesc?noticeid=34c8c74c20054b2ab9a456947f110f6d</td>\n",
       "      <td>OFFICE</td>\n",
       "      <td>{'zipcode': '01742-2751', 'city': 'CONCORD', 'countryCode': 'USA', 'state': 'MA'}</td>\n",
       "      <td>{'city': {'code': '51580', 'name': 'North Kingstown'}, 'state': {'code': 'RI', 'name': 'Rhode Island'}, 'country': {'code': 'USA', 'name': 'UNITED STATES'}}</td>\n",
       "      <td>NaN</td>\n",
       "      <td>https://beta.sam.gov/opp/34c8c74c20054b2ab9a456947f110f6d/view</td>\n",
       "      <td>[{'rel': 'self', 'href': 'https://api.sam.gov/prod/opportunities/v1/search?noticeid=34c8c74c20054b2ab9a456947f110f6d&amp;limit=1'}]</td>\n",
       "      <td>NaN</td>\n",
       "    </tr>\n",
       "    <tr>\n",
       "      <th>31909</th>\n",
       "      <td>256c9825d7744a2988be4cd52238c0d1</td>\n",
       "      <td>SUBMIT A QUOTE TO PROVIDE, INSTALL, AND MAINTAIN A 10GBE (GIGABIT ETHERNET) OVER OTN (OTU-2) COMMERCIAL LEASE BETWEEN NAS JOINT RESERVE BASE NEW ORLEANS 400 RUSSELL AVENUE, NEW ORLEANS, LA, AND 3326 GENERAL HUDNELL DRIVE, SAN ANTONIO, TX.</td>\n",
       "      <td>HC101319QB215</td>\n",
       "      <td>DEPT OF DEFENSE</td>\n",
       "      <td>DEFENSE INFORMATION SYSTEMS AGENCY (DISA)</td>\n",
       "      <td>DITCO-SCOTT</td>\n",
       "      <td>2020-01-02</td>\n",
       "      <td>Combined Synopsis/Solicitation</td>\n",
       "      <td>Combined Synopsis/Solicitation</td>\n",
       "      <td>autocustom</td>\n",
       "      <td>2020-07-03</td>\n",
       "      <td>NaN</td>\n",
       "      <td>NaN</td>\n",
       "      <td>2020-02-03T16:00:00-06:00</td>\n",
       "      <td>517311.0</td>\n",
       "      <td>D304</td>\n",
       "      <td>Yes</td>\n",
       "      <td>NaN</td>\n",
       "      <td>[{'fax': '', 'type': 'primary', 'email': 'tamie.l.keene.civ@mail.mil', 'phone': '6184186549', 'title': None, 'fullName': 'Tamie L. Keene'}, {'fax': '', 'type': 'secondary', 'email': 'dale.l.rupright.civ@mail.mil', 'phone': '6184186614', 'title': None, 'fullName': 'Dale L. Rupright'}]</td>\n",
       "      <td>https://api.sam.gov/prod/opportunities/v1/noticedesc?noticeid=256c9825d7744a2988be4cd52238c0d1</td>\n",
       "      <td>OFFICE</td>\n",
       "      <td>{'zipcode': '622255406', 'city': 'SCOTT AFB', 'countryCode': 'USA', 'state': 'IL'}</td>\n",
       "      <td>NaN</td>\n",
       "      <td>NaN</td>\n",
       "      <td>https://beta.sam.gov/opp/256c9825d7744a2988be4cd52238c0d1/view</td>\n",
       "      <td>[{'rel': 'self', 'href': 'https://api.sam.gov/prod/opportunities/v1/search?noticeid=256c9825d7744a2988be4cd52238c0d1&amp;limit=1'}]</td>\n",
       "      <td>['https://beta.sam.gov/api/prod/opps/v3/opportunities/resources/files/0dc0329db66849798cbc045f78ab780c/download?api_key=null&amp;token=', 'https://beta.sam.gov/api/prod/opps/v3/opportunities/resources/files/5b69cfab364549e6acece95d0ad31b83/download?api_key=null&amp;token=']</td>\n",
       "    </tr>\n",
       "    <tr>\n",
       "      <th>31910</th>\n",
       "      <td>14c585fbe7c1461b868ded6ca82f7b8d</td>\n",
       "      <td>PROVIDE, INSTALL, AND MAINTAIN A 2.488GB (OC48C) BETWEEN BLDG 3782, RM174, FL: 1, 1000 CHIEF’S WAY, CORRY STATION, PENSACOLA, FL  32511, AND BLDG 9357, RM 116, FL: 1, 8357 CYPRESS LOOP RD., STENNIS SPACE CENTER, MS 39529</td>\n",
       "      <td>HC101320QA222</td>\n",
       "      <td>DEPT OF DEFENSE</td>\n",
       "      <td>DEFENSE INFORMATION SYSTEMS AGENCY (DISA)</td>\n",
       "      <td>DITCO-SCOTT</td>\n",
       "      <td>2020-01-02</td>\n",
       "      <td>Solicitation</td>\n",
       "      <td>Solicitation</td>\n",
       "      <td>autocustom</td>\n",
       "      <td>2021-02-03</td>\n",
       "      <td>NaN</td>\n",
       "      <td>NaN</td>\n",
       "      <td>2020-02-03T16:00:00-06:00</td>\n",
       "      <td>517311.0</td>\n",
       "      <td>D304</td>\n",
       "      <td>Yes</td>\n",
       "      <td>NaN</td>\n",
       "      <td>[{'fax': None, 'type': 'primary', 'email': 'aaron.j.fuehne.civ@mail.mil', 'phone': '6184186817', 'title': None, 'fullName': 'Aaron Fuehne'}, {'fax': '', 'type': 'secondary', 'email': 'dale.l.rupright.civ@mail.mil', 'phone': '6184186614', 'title': None, 'fullName': 'Dale L. Rupright'}]</td>\n",
       "      <td>https://api.sam.gov/prod/opportunities/v1/noticedesc?noticeid=14c585fbe7c1461b868ded6ca82f7b8d</td>\n",
       "      <td>OFFICE</td>\n",
       "      <td>{'zipcode': '622255406', 'city': 'SCOTT AFB', 'countryCode': 'USA', 'state': 'IL'}</td>\n",
       "      <td>NaN</td>\n",
       "      <td>NaN</td>\n",
       "      <td>https://beta.sam.gov/opp/14c585fbe7c1461b868ded6ca82f7b8d/view</td>\n",
       "      <td>[{'rel': 'self', 'href': 'https://api.sam.gov/prod/opportunities/v1/search?noticeid=14c585fbe7c1461b868ded6ca82f7b8d&amp;limit=1'}]</td>\n",
       "      <td>['https://beta.sam.gov/api/prod/opps/v3/opportunities/resources/files/2c623fece54f4240bbe2a6cf1f7d0ef8/download?api_key=null&amp;token=']</td>\n",
       "    </tr>\n",
       "    <tr>\n",
       "      <th>31911</th>\n",
       "      <td>13f7e81d93e64c5a8e96d8e143c9507d</td>\n",
       "      <td>J--REPLACE VICTORIAN PARK LIGHT FIXTURES AT: SF Marit</td>\n",
       "      <td>140P8620Q0004</td>\n",
       "      <td>INTERIOR, DEPARTMENT OF THE</td>\n",
       "      <td>NATIONAL PARK SERVICE</td>\n",
       "      <td>PWR GOGA(86000)</td>\n",
       "      <td>2020-01-02</td>\n",
       "      <td>Award Notice</td>\n",
       "      <td>Combined Synopsis/Solicitation</td>\n",
       "      <td>autocustom</td>\n",
       "      <td>2020-12-25</td>\n",
       "      <td>NaN</td>\n",
       "      <td>NaN</td>\n",
       "      <td>NaN</td>\n",
       "      <td>335122.0</td>\n",
       "      <td>J</td>\n",
       "      <td>Yes</td>\n",
       "      <td>{'date': '2019-12-30', 'number': '140P8620P0010', 'amount': '76572.73', 'awardee': {'name': 'ILLUMETEK CORP.', 'location': {}, 'duns': '804149813'}}</td>\n",
       "      <td>[{'fax': None, 'type': 'primary', 'email': 'Gary_Kramer@nps.gov', 'phone': None, 'title': None, 'fullName': 'Kramer, Gary'}]</td>\n",
       "      <td>https://api.sam.gov/prod/opportunities/v1/noticedesc?noticeid=13f7e81d93e64c5a8e96d8e143c9507d</td>\n",
       "      <td>OFFICE</td>\n",
       "      <td>{'zipcode': '94123', 'city': 'SAN FRANCISCO', 'countryCode': 'USA', 'state': 'CA'}</td>\n",
       "      <td>{}</td>\n",
       "      <td>NaN</td>\n",
       "      <td>https://beta.sam.gov/opp/13f7e81d93e64c5a8e96d8e143c9507d/view</td>\n",
       "      <td>[{'rel': 'self', 'href': 'https://api.sam.gov/prod/opportunities/v1/search?noticeid=13f7e81d93e64c5a8e96d8e143c9507d&amp;limit=1'}]</td>\n",
       "      <td>NaN</td>\n",
       "    </tr>\n",
       "    <tr>\n",
       "      <th>31912</th>\n",
       "      <td>0ab14328f5054d5889c44377b38d2f6a</td>\n",
       "      <td>COHO</td>\n",
       "      <td>HR001120S0001</td>\n",
       "      <td>DEPT OF DEFENSE</td>\n",
       "      <td>DEFENSE ADVANCED RESEARCH PROJECTS AGENCY  (DARPA)</td>\n",
       "      <td>DEF ADVANCED RESEARCH PROJECTS AGCY</td>\n",
       "      <td>2020-01-02</td>\n",
       "      <td>Presolicitation</td>\n",
       "      <td>Presolicitation</td>\n",
       "      <td>autocustom</td>\n",
       "      <td>2020-06-19</td>\n",
       "      <td>NaN</td>\n",
       "      <td>NaN</td>\n",
       "      <td>2020-01-28T17:00:00-05:00</td>\n",
       "      <td>541715.0</td>\n",
       "      <td>A</td>\n",
       "      <td>Yes</td>\n",
       "      <td>NaN</td>\n",
       "      <td>[{'fax': '', 'type': 'primary', 'email': 'HR001120S0001@darpa.mil', 'phone': '', 'title': '', 'fullName': 'BAA Coordinator'}]</td>\n",
       "      <td>https://api.sam.gov/prod/opportunities/v1/noticedesc?noticeid=0ab14328f5054d5889c44377b38d2f6a</td>\n",
       "      <td>OFFICE</td>\n",
       "      <td>{'zipcode': '222032114', 'city': 'ARLINGTON', 'countryCode': 'USA', 'state': 'VA'}</td>\n",
       "      <td>NaN</td>\n",
       "      <td>NaN</td>\n",
       "      <td>https://beta.sam.gov/opp/0ab14328f5054d5889c44377b38d2f6a/view</td>\n",
       "      <td>[{'rel': 'self', 'href': 'https://api.sam.gov/prod/opportunities/v1/search?noticeid=0ab14328f5054d5889c44377b38d2f6a&amp;limit=1'}]</td>\n",
       "      <td>['https://beta.sam.gov/api/prod/opps/v3/opportunities/resources/files/0e75d51058bc4a0fa49c888a900e3f4b/download?api_key=null&amp;token=', 'https://beta.sam.gov/api/prod/opps/v3/opportunities/resources/files/71405f7a3d0043f7a8cd9c986a14f485/download?api_key=null&amp;token=']</td>\n",
       "    </tr>\n",
       "  </tbody>\n",
       "</table>\n",
       "</div>"
      ],
      "text/plain": [
       "                               noticeId  \\\n",
       "31908  34c8c74c20054b2ab9a456947f110f6d   \n",
       "31909  256c9825d7744a2988be4cd52238c0d1   \n",
       "31910  14c585fbe7c1461b868ded6ca82f7b8d   \n",
       "31911  13f7e81d93e64c5a8e96d8e143c9507d   \n",
       "31912  0ab14328f5054d5889c44377b38d2f6a   \n",
       "\n",
       "                                                                                                                                                                                                                                                title  \\\n",
       "31908                                                                                                                                                                                   Remediation Services at the PR-58 Site in North Kingstown, RI   \n",
       "31909  SUBMIT A QUOTE TO PROVIDE, INSTALL, AND MAINTAIN A 10GBE (GIGABIT ETHERNET) OVER OTN (OTU-2) COMMERCIAL LEASE BETWEEN NAS JOINT RESERVE BASE NEW ORLEANS 400 RUSSELL AVENUE, NEW ORLEANS, LA, AND 3326 GENERAL HUDNELL DRIVE, SAN ANTONIO, TX.   \n",
       "31910                    PROVIDE, INSTALL, AND MAINTAIN A 2.488GB (OC48C) BETWEEN BLDG 3782, RM174, FL: 1, 1000 CHIEF’S WAY, CORRY STATION, PENSACOLA, FL  32511, AND BLDG 9357, RM 116, FL: 1, 8357 CYPRESS LOOP RD., STENNIS SPACE CENTER, MS 39529   \n",
       "31911                                                                                                                                                                                           J--REPLACE VICTORIAN PARK LIGHT FIXTURES AT: SF Marit   \n",
       "31912                                                                                                                                                                                                                                            COHO   \n",
       "\n",
       "      solicitationNumber                   department  \\\n",
       "31908      W912WJ20X0014              DEPT OF DEFENSE   \n",
       "31909      HC101319QB215              DEPT OF DEFENSE   \n",
       "31910      HC101320QA222              DEPT OF DEFENSE   \n",
       "31911      140P8620Q0004  INTERIOR, DEPARTMENT OF THE   \n",
       "31912      HR001120S0001              DEPT OF DEFENSE   \n",
       "\n",
       "                                                  subTier  \\\n",
       "31908                                    DEPT OF THE ARMY   \n",
       "31909           DEFENSE INFORMATION SYSTEMS AGENCY (DISA)   \n",
       "31910           DEFENSE INFORMATION SYSTEMS AGENCY (DISA)   \n",
       "31911                               NATIONAL PARK SERVICE   \n",
       "31912  DEFENSE ADVANCED RESEARCH PROJECTS AGENCY  (DARPA)   \n",
       "\n",
       "                                    office  postedDate  \\\n",
       "31908              W2SD ENDIST NEW ENGLAND  2020-01-02   \n",
       "31909                          DITCO-SCOTT  2020-01-02   \n",
       "31910                          DITCO-SCOTT  2020-01-02   \n",
       "31911                      PWR GOGA(86000)  2020-01-02   \n",
       "31912  DEF ADVANCED RESEARCH PROJECTS AGCY  2020-01-02   \n",
       "\n",
       "                                 type                        baseType  \\\n",
       "31908                  Sources Sought                  Sources Sought   \n",
       "31909  Combined Synopsis/Solicitation  Combined Synopsis/Solicitation   \n",
       "31910                    Solicitation                    Solicitation   \n",
       "31911                    Award Notice  Combined Synopsis/Solicitation   \n",
       "31912                 Presolicitation                 Presolicitation   \n",
       "\n",
       "      archiveType archiveDate typeOfSetAsideDescription typeOfSetAside  \\\n",
       "31908  autocustom  2020-12-31                       NaN            NaN   \n",
       "31909  autocustom  2020-07-03                       NaN            NaN   \n",
       "31910  autocustom  2021-02-03                       NaN            NaN   \n",
       "31911  autocustom  2020-12-25                       NaN            NaN   \n",
       "31912  autocustom  2020-06-19                       NaN            NaN   \n",
       "\n",
       "                responseDeadLine  naicsCode classificationCode active  \\\n",
       "31908  2020-01-24T15:00:00-05:00   562910.0               F108    Yes   \n",
       "31909  2020-02-03T16:00:00-06:00   517311.0               D304    Yes   \n",
       "31910  2020-02-03T16:00:00-06:00   517311.0               D304    Yes   \n",
       "31911                        NaN   335122.0                  J    Yes   \n",
       "31912  2020-01-28T17:00:00-05:00   541715.0                  A    Yes   \n",
       "\n",
       "                                                                                                                                                      award  \\\n",
       "31908                                                                                                                                                   NaN   \n",
       "31909                                                                                                                                                   NaN   \n",
       "31910                                                                                                                                                   NaN   \n",
       "31911  {'date': '2019-12-30', 'number': '140P8620P0010', 'amount': '76572.73', 'awardee': {'name': 'ILLUMETEK CORP.', 'location': {}, 'duns': '804149813'}}   \n",
       "31912                                                                                                                                                   NaN   \n",
       "\n",
       "                                                                                                                                                                                                                                                                                      pointOfContact  \\\n",
       "31908                                                                                                                                              [{'fax': '', 'type': 'primary', 'email': 'heather.skorik@usace.army.mil', 'phone': '9783188040', 'title': None, 'fullName': 'Heather M. Skorik'}]   \n",
       "31909   [{'fax': '', 'type': 'primary', 'email': 'tamie.l.keene.civ@mail.mil', 'phone': '6184186549', 'title': None, 'fullName': 'Tamie L. Keene'}, {'fax': '', 'type': 'secondary', 'email': 'dale.l.rupright.civ@mail.mil', 'phone': '6184186614', 'title': None, 'fullName': 'Dale L. Rupright'}]   \n",
       "31910  [{'fax': None, 'type': 'primary', 'email': 'aaron.j.fuehne.civ@mail.mil', 'phone': '6184186817', 'title': None, 'fullName': 'Aaron Fuehne'}, {'fax': '', 'type': 'secondary', 'email': 'dale.l.rupright.civ@mail.mil', 'phone': '6184186614', 'title': None, 'fullName': 'Dale L. Rupright'}]   \n",
       "31911                                                                                                                                                                   [{'fax': None, 'type': 'primary', 'email': 'Gary_Kramer@nps.gov', 'phone': None, 'title': None, 'fullName': 'Kramer, Gary'}]   \n",
       "31912                                                                                                                                                                  [{'fax': '', 'type': 'primary', 'email': 'HR001120S0001@darpa.mil', 'phone': '', 'title': '', 'fullName': 'BAA Coordinator'}]   \n",
       "\n",
       "                                                                                          description  \\\n",
       "31908  https://api.sam.gov/prod/opportunities/v1/noticedesc?noticeid=34c8c74c20054b2ab9a456947f110f6d   \n",
       "31909  https://api.sam.gov/prod/opportunities/v1/noticedesc?noticeid=256c9825d7744a2988be4cd52238c0d1   \n",
       "31910  https://api.sam.gov/prod/opportunities/v1/noticedesc?noticeid=14c585fbe7c1461b868ded6ca82f7b8d   \n",
       "31911  https://api.sam.gov/prod/opportunities/v1/noticedesc?noticeid=13f7e81d93e64c5a8e96d8e143c9507d   \n",
       "31912  https://api.sam.gov/prod/opportunities/v1/noticedesc?noticeid=0ab14328f5054d5889c44377b38d2f6a   \n",
       "\n",
       "      organizationType  \\\n",
       "31908           OFFICE   \n",
       "31909           OFFICE   \n",
       "31910           OFFICE   \n",
       "31911           OFFICE   \n",
       "31912           OFFICE   \n",
       "\n",
       "                                                                            officeAddress  \\\n",
       "31908   {'zipcode': '01742-2751', 'city': 'CONCORD', 'countryCode': 'USA', 'state': 'MA'}   \n",
       "31909  {'zipcode': '622255406', 'city': 'SCOTT AFB', 'countryCode': 'USA', 'state': 'IL'}   \n",
       "31910  {'zipcode': '622255406', 'city': 'SCOTT AFB', 'countryCode': 'USA', 'state': 'IL'}   \n",
       "31911  {'zipcode': '94123', 'city': 'SAN FRANCISCO', 'countryCode': 'USA', 'state': 'CA'}   \n",
       "31912  {'zipcode': '222032114', 'city': 'ARLINGTON', 'countryCode': 'USA', 'state': 'VA'}   \n",
       "\n",
       "                                                                                                                                                 placeOfPerformance  \\\n",
       "31908  {'city': {'code': '51580', 'name': 'North Kingstown'}, 'state': {'code': 'RI', 'name': 'Rhode Island'}, 'country': {'code': 'USA', 'name': 'UNITED STATES'}}   \n",
       "31909                                                                                                                                                           NaN   \n",
       "31910                                                                                                                                                           NaN   \n",
       "31911                                                                                                                                                            {}   \n",
       "31912                                                                                                                                                           NaN   \n",
       "\n",
       "       additionalInfoLink  \\\n",
       "31908                 NaN   \n",
       "31909                 NaN   \n",
       "31910                 NaN   \n",
       "31911                 NaN   \n",
       "31912                 NaN   \n",
       "\n",
       "                                                               uiLink  \\\n",
       "31908  https://beta.sam.gov/opp/34c8c74c20054b2ab9a456947f110f6d/view   \n",
       "31909  https://beta.sam.gov/opp/256c9825d7744a2988be4cd52238c0d1/view   \n",
       "31910  https://beta.sam.gov/opp/14c585fbe7c1461b868ded6ca82f7b8d/view   \n",
       "31911  https://beta.sam.gov/opp/13f7e81d93e64c5a8e96d8e143c9507d/view   \n",
       "31912  https://beta.sam.gov/opp/0ab14328f5054d5889c44377b38d2f6a/view   \n",
       "\n",
       "                                                                                                                                 links  \\\n",
       "31908  [{'rel': 'self', 'href': 'https://api.sam.gov/prod/opportunities/v1/search?noticeid=34c8c74c20054b2ab9a456947f110f6d&limit=1'}]   \n",
       "31909  [{'rel': 'self', 'href': 'https://api.sam.gov/prod/opportunities/v1/search?noticeid=256c9825d7744a2988be4cd52238c0d1&limit=1'}]   \n",
       "31910  [{'rel': 'self', 'href': 'https://api.sam.gov/prod/opportunities/v1/search?noticeid=14c585fbe7c1461b868ded6ca82f7b8d&limit=1'}]   \n",
       "31911  [{'rel': 'self', 'href': 'https://api.sam.gov/prod/opportunities/v1/search?noticeid=13f7e81d93e64c5a8e96d8e143c9507d&limit=1'}]   \n",
       "31912  [{'rel': 'self', 'href': 'https://api.sam.gov/prod/opportunities/v1/search?noticeid=0ab14328f5054d5889c44377b38d2f6a&limit=1'}]   \n",
       "\n",
       "                                                                                                                                                                                                                                                                    resourceLinks  \n",
       "31908                                                                                                                                                                                                                                                                         NaN  \n",
       "31909  ['https://beta.sam.gov/api/prod/opps/v3/opportunities/resources/files/0dc0329db66849798cbc045f78ab780c/download?api_key=null&token=', 'https://beta.sam.gov/api/prod/opps/v3/opportunities/resources/files/5b69cfab364549e6acece95d0ad31b83/download?api_key=null&token=']  \n",
       "31910                                                                                                                                       ['https://beta.sam.gov/api/prod/opps/v3/opportunities/resources/files/2c623fece54f4240bbe2a6cf1f7d0ef8/download?api_key=null&token=']  \n",
       "31911                                                                                                                                                                                                                                                                         NaN  \n",
       "31912  ['https://beta.sam.gov/api/prod/opps/v3/opportunities/resources/files/0e75d51058bc4a0fa49c888a900e3f4b/download?api_key=null&token=', 'https://beta.sam.gov/api/prod/opps/v3/opportunities/resources/files/71405f7a3d0043f7a8cd9c986a14f485/download?api_key=null&token=']  "
      ]
     },
     "execution_count": 59,
     "metadata": {},
     "output_type": "execute_result"
    }
   ],
   "source": [
    "df.tail()"
   ]
  },
  {
   "cell_type": "code",
   "execution_count": 60,
   "metadata": {
    "scrolled": true
   },
   "outputs": [
    {
     "name": "stdout",
     "output_type": "stream",
     "text": [
      "Number of duplicated rows: 1985\n"
     ]
    }
   ],
   "source": [
    "# find and drop duplicates\n",
    "print('Number of duplicated rows:', df.loc[df.duplicated()].shape[0])"
   ]
  },
  {
   "cell_type": "code",
   "execution_count": 61,
   "metadata": {},
   "outputs": [],
   "source": [
    "df = df.drop_duplicates()"
   ]
  },
  {
   "cell_type": "code",
   "execution_count": 62,
   "metadata": {
    "scrolled": true
   },
   "outputs": [
    {
     "name": "stdout",
     "output_type": "stream",
     "text": [
      "Number of rows after removing duplicates: 29928\n"
     ]
    }
   ],
   "source": [
    "# check number of rows after removing duplicates\n",
    "\n",
    "print('Number of rows after removing duplicates:', df.shape[0])"
   ]
  },
  {
   "cell_type": "code",
   "execution_count": 63,
   "metadata": {},
   "outputs": [],
   "source": [
    "# export dataframe into csv file\n",
    "\n",
    "df.to_csv('./data/combined.csv', index=False)"
   ]
  },
  {
   "cell_type": "markdown",
   "metadata": {},
   "source": [
    "## EDA"
   ]
  },
  {
   "cell_type": "code",
   "execution_count": 64,
   "metadata": {},
   "outputs": [
    {
     "name": "stdout",
     "output_type": "stream",
     "text": [
      "<class 'pandas.core.frame.DataFrame'>\n",
      "Int64Index: 29928 entries, 0 to 31912\n",
      "Data columns (total 27 columns):\n",
      " #   Column                     Non-Null Count  Dtype  \n",
      "---  ------                     --------------  -----  \n",
      " 0   noticeId                   29928 non-null  object \n",
      " 1   title                      29928 non-null  object \n",
      " 2   solicitationNumber         29656 non-null  object \n",
      " 3   department                 29924 non-null  object \n",
      " 4   subTier                    29860 non-null  object \n",
      " 5   office                     29924 non-null  object \n",
      " 6   postedDate                 29928 non-null  object \n",
      " 7   type                       29928 non-null  object \n",
      " 8   baseType                   29928 non-null  object \n",
      " 9   archiveType                29928 non-null  object \n",
      " 10  archiveDate                29928 non-null  object \n",
      " 11  typeOfSetAsideDescription  10636 non-null  object \n",
      " 12  typeOfSetAside             10636 non-null  object \n",
      " 13  responseDeadLine           25186 non-null  object \n",
      " 14  naicsCode                  27617 non-null  float64\n",
      " 15  classificationCode         29064 non-null  object \n",
      " 16  active                     29928 non-null  object \n",
      " 17  award                      18876 non-null  object \n",
      " 18  pointOfContact             29603 non-null  object \n",
      " 19  description                29928 non-null  object \n",
      " 20  organizationType           29924 non-null  object \n",
      " 21  officeAddress              29727 non-null  object \n",
      " 22  placeOfPerformance         25614 non-null  object \n",
      " 23  additionalInfoLink         0 non-null      float64\n",
      " 24  uiLink                     29928 non-null  object \n",
      " 25  links                      29928 non-null  object \n",
      " 26  resourceLinks              8325 non-null   object \n",
      "dtypes: float64(2), object(25)\n",
      "memory usage: 6.4+ MB\n"
     ]
    }
   ],
   "source": [
    "# inspect data\n",
    "# inspect data\n",
    "\n",
    "df.info()"
   ]
  },
  {
   "cell_type": "markdown",
   "metadata": {},
   "source": [
    "#### Missing Data"
   ]
  },
  {
   "cell_type": "code",
   "execution_count": 65,
   "metadata": {},
   "outputs": [],
   "source": [
    "import matplotlib.pyplot as plt"
   ]
  },
  {
   "cell_type": "code",
   "execution_count": 66,
   "metadata": {},
   "outputs": [
    {
     "data": {
      "image/png": "[encoded data removed]",
      "text/plain": [
       "<Figure size 1008x504 with 1 Axes>"
      ]
     },
     "metadata": {
      "needs_background": "light"
     },
     "output_type": "display_data"
    }
   ],
   "source": [
    "# create a plot that shows columns with missing values\n",
    "\n",
    "# columns with missing values\n",
    "cols_w_missings = df.loc[:, df.isna().sum() > 0]\n",
    "\n",
    "# plot missing data\n",
    "# set figsize\n",
    "plt.figure(figsize=(14, 7))\n",
    "# set title\n",
    "plt.title('Missing Values by Columns')   \n",
    "# plot the number of missing values in each column\n",
    "cols_w_missings.isna().sum().plot(kind='bar');"
   ]
  },
  {
   "cell_type": "code",
   "execution_count": 67,
   "metadata": {},
   "outputs": [
    {
     "name": "stdout",
     "output_type": "stream",
     "text": [
      "Number of observations: 29928\n",
      "\n",
      "Number of missing values:\n",
      "    solicitationNumber column    = 272\n",
      "    department column    = 4\n",
      "    subTier column    = 68\n",
      "    office column    = 4\n",
      "    typeOfSetAsideDescription column    = 19292\n",
      "    typeOfSetAside column    = 19292\n",
      "    responseDeadLine column    = 4742\n",
      "    naicsCode column    = 2311\n",
      "    classificationCode column    = 864\n",
      "    award column    = 11052\n",
      "    pointOfContact column    = 325\n",
      "    organizationType column    = 4\n",
      "    officeAddress column    = 201\n",
      "    placeOfPerformance column    = 4314\n",
      "    additionalInfoLink column    = 29928\n",
      "    resourceLinks column    = 21603\n"
     ]
    }
   ],
   "source": [
    "# prints\n",
    "print(f'Number of observations: {df.shape[0]}')\n",
    "print('')\n",
    "print('Number of missing values:')\n",
    "for i in range(len(cols_w_missings.columns)):\n",
    "    print(f'    {cols_w_missings.columns[i]} column\\\n",
    "    = {cols_w_missings[cols_w_missings.columns[i]].isna().sum()}')"
   ]
  },
  {
   "cell_type": "code",
   "execution_count": 68,
   "metadata": {},
   "outputs": [],
   "source": [
    "# additionalInfoLink column has no values\n",
    "# drop additionalInfoLink column\n",
    "df.drop('additionalInfoLink', axis=1, inplace=True)"
   ]
  },
  {
   "cell_type": "markdown",
   "metadata": {},
   "source": [
    "### Text Data EDA"
   ]
  },
  {
   "cell_type": "markdown",
   "metadata": {},
   "source": [
    "#### Tokenizing title column"
   ]
  },
  {
   "cell_type": "code",
   "execution_count": 69,
   "metadata": {
    "scrolled": true
   },
   "outputs": [
    {
     "data": {
      "text/plain": [
       "0             REQUEST FOR INFORMATION - NEW DESIGN BOOKLET DIE CUTTING INSERT ASSEMBLY\n",
       "1                                 Audiovisual Suite for Large Auditorium - Maxwell AFB\n",
       "2                                                             Metrology Equipment Move\n",
       "3                                                    INNER INFLATABLE ASSY (LPU-36A/P)\n",
       "4                                                                           17--CRADLE\n",
       "5                                                              43--FILTER ELEMENT,FLUI\n",
       "6                                                              61--CABLE ASSEMBLY,SPEC\n",
       "7                                                              30--GEAR SET,SPUR,MATCH\n",
       "8                                                              53--NUT,SELF-LOCKING,EX\n",
       "9                                            6640--Notice of Intent to Sole Source    \n",
       "10                                                         Residual Leukocyte Counters\n",
       "11                                         FIRE DOOR LATCH ASSEMBLIES - USNS BRUNSWICK\n",
       "12                                                             61--CABLE ASSEMBLY,SPEC\n",
       "13                                                             43--FILTER ELEMENT,FLUI\n",
       "14    G001--502-20-3-169-0017 BPA MORTUARY AFFAIRS UNCLAIMED VETERAN BURIAL SERVICE   \n",
       "Name: title, dtype: object"
      ]
     },
     "execution_count": 69,
     "metadata": {},
     "output_type": "execute_result"
    }
   ],
   "source": [
    "# inspect title column\n",
    "\n",
    "df['title'].head(15)"
   ]
  },
  {
   "cell_type": "code",
   "execution_count": 70,
   "metadata": {
    "scrolled": true
   },
   "outputs": [
    {
     "data": {
      "text/plain": [
       "31898                                                                                                                                                                                                             QUARTERLY REQUIREMENTS, BREAD, 2ND QTR., FY 2020\n",
       "31899                                                                                                                                                                    R--Request for Quotation (RFQ) Certified Industrial Hygienist Air Quality Survey Services\n",
       "31900                                                                                                                                                                                                                                           FITTING ASSY, FUEL\n",
       "31901                                                                                                                                                                                                             Weapons and Systems Integration Support Services\n",
       "31902                                                                                      AWARD A 1GB ETHERNET CONNECTION (RATE LIMIT TO 500MB) FROM 1 LINSLEY DR, PLAINVILLE, CT 06062 TO 77 GRAYLING AVENUE, NEW LONDON NAVAL SUBMARINE BASE, GROTON, CT 06349.\n",
       "31903                                                                              Award of a 1 GB ETHERNET FROM (BLDG) 261; (RM) 211; (FL) 2ND; 2308 FLORIDA KEYS AVE, TAMPA, FL, 33621, US TO  (BLDG) 500; (RM) 703; (FL) 7; 500 EAST ZACK ST; TAMPA, FL, 33602.\n",
       "31904                                                                                                                                                                                                                                 Dry Goods/Meats 2nd Qtr FY20\n",
       "31905                                           SUBMIT A QUOTE TO PROVIDE, INSTALL, AND MAINTAIN A 1GB ETHERNET SERVICE AT (BLDG) 1415; (RM) BCO/TELCO; 7177 LANGLEY STREET, MILTON, FL 32570 AND BLDG 90215; DCO ROOM; 306 CODY AVENUE, HURLBURT FIELD, FL 32544.\n",
       "31906                                                                                                                                                                                                                                 Purchase of Gearbox Assembly\n",
       "31907    SUBMIT A QUOTE TO PROVIDE, INSTALL, AND MAINTAIN A 10GB ETHERNET OVER OTN (OTU-2) COMMERCIAL LEASE BETWEEN NAS JOINT RESERVE BASE NEW ORLEANS, 400 RUSSELL AVENUE, NEW ORLEANS, LA, 70143 AND 712 CHAPPIE JAMES AVENUE, KEESLER AIR FORCE BASE, MS 39534.\n",
       "31908                                                                                                                                                                                                Remediation Services at the PR-58 Site in North Kingstown, RI\n",
       "31909               SUBMIT A QUOTE TO PROVIDE, INSTALL, AND MAINTAIN A 10GBE (GIGABIT ETHERNET) OVER OTN (OTU-2) COMMERCIAL LEASE BETWEEN NAS JOINT RESERVE BASE NEW ORLEANS 400 RUSSELL AVENUE, NEW ORLEANS, LA, AND 3326 GENERAL HUDNELL DRIVE, SAN ANTONIO, TX.\n",
       "31910                                 PROVIDE, INSTALL, AND MAINTAIN A 2.488GB (OC48C) BETWEEN BLDG 3782, RM174, FL: 1, 1000 CHIEF’S WAY, CORRY STATION, PENSACOLA, FL  32511, AND BLDG 9357, RM 116, FL: 1, 8357 CYPRESS LOOP RD., STENNIS SPACE CENTER, MS 39529\n",
       "31911                                                                                                                                                                                                        J--REPLACE VICTORIAN PARK LIGHT FIXTURES AT: SF Marit\n",
       "31912                                                                                                                                                                                                                                                         COHO\n",
       "Name: title, dtype: object"
      ]
     },
     "execution_count": 70,
     "metadata": {},
     "output_type": "execute_result"
    }
   ],
   "source": [
    "df['title'].tail(15)"
   ]
  },
  {
   "cell_type": "code",
   "execution_count": 71,
   "metadata": {},
   "outputs": [],
   "source": [
    "from nltk.tokenize import RegexpTokenizer"
   ]
  },
  {
   "cell_type": "code",
   "execution_count": 72,
   "metadata": {},
   "outputs": [],
   "source": [
    "# define function to tokenize a column\n",
    "\n",
    "def tokenizer_function(column):\n",
    "    \"\"\"\n",
    "    Takes in a text column\n",
    "        tokenizes the text in each row\n",
    "        using pattern [[a-zA-Z]\\w+]\n",
    "        which matches every lowercase and upperase character between a-z that are word characters\n",
    "    Returns list of strings\n",
    "    \"\"\"\n",
    "    \n",
    "    # instantiate empty list of tokenized text\n",
    "    texts = []\n",
    "    \n",
    "    # instantiate tokenizer\n",
    "    tokenizer = RegexpTokenizer('[a-zA-Z]\\w+')\n",
    "    \n",
    "    # create for loop to tokenize each row and add the list of tokens to texts\n",
    "    for text in column:\n",
    "        tokens = tokenizer.tokenize(text)\n",
    "        \n",
    "        # transform tokens into lower case strings\n",
    "        tokens = [token.lower() for token in tokens]\n",
    "        texts.append(tokens)\n",
    "    return pd.Series(texts)"
   ]
  },
  {
   "cell_type": "code",
   "execution_count": 73,
   "metadata": {
    "scrolled": true
   },
   "outputs": [
    {
     "data": {
      "text/plain": [
       "0                                                                                                                                                                           [request, for, information, new, design, booklet, die, cutting, insert, assembly]\n",
       "1                                                                                                                                                                                                  [audiovisual, suite, for, large, auditorium, maxwell, afb]\n",
       "2                                                                                                                                                                                                                                [metrology, equipment, move]\n",
       "3                                                                                                                                                                                                                              [inner, inflatable, assy, lpu]\n",
       "4                                                                                                                                                                                                                                                    [cradle]\n",
       "                                                                                                                                 ...                                                                                                                         \n",
       "29923                                                                                                                                                                                    [remediation, services, at, the, pr, site, in, north, kingstown, ri]\n",
       "29924    [submit, quote, to, provide, install, and, maintain, gbe, gigabit, ethernet, over, otn, otu, commercial, lease, between, nas, joint, reserve, base, new, orleans, russell, avenue, new, orleans, la, and, general, hudnell, drive, san, antonio, tx]\n",
       "29925                                                                     [provide, install, and, maintain, gb, oc48c, between, bldg, rm174, fl, chief, way, corry, station, pensacola, fl, and, bldg, rm, fl, cypress, loop, rd, stennis, space, center, ms]\n",
       "29926                                                                                                                                                                                              [replace, victorian, park, light, fixtures, at, sf, marit]\n",
       "29927                                                                                                                                                                                                                                                  [coho]\n",
       "Length: 29928, dtype: object"
      ]
     },
     "execution_count": 73,
     "metadata": {},
     "output_type": "execute_result"
    }
   ],
   "source": [
    "# call tokenizer function on df['title']\n",
    "\n",
    "tokenizer_function(df['title'])"
   ]
  },
  {
   "cell_type": "code",
   "execution_count": null,
   "metadata": {},
   "outputs": [],
   "source": []
  },
  {
   "cell_type": "markdown",
   "metadata": {},
   "source": [
    "### Overall EDA"
   ]
  },
  {
   "cell_type": "markdown",
   "metadata": {},
   "source": [
    "**Explore the Type of Award Notices**"
   ]
  },
  {
   "cell_type": "code",
   "execution_count": 74,
   "metadata": {},
   "outputs": [
    {
     "data": {
      "text/plain": [
       "Combined Synopsis/Solicitation    0.425989\n",
       "Presolicitation                   0.156375\n",
       "Solicitation                      0.145616\n",
       "Award Notice                      0.098804\n",
       "Sources Sought                    0.086975\n",
       "Special Notice                    0.063452\n",
       "Justification                     0.022153\n",
       "Sale of Surplus Property          0.000635\n",
       "Name: type, dtype: float64"
      ]
     },
     "execution_count": 74,
     "metadata": {},
     "output_type": "execute_result"
    }
   ],
   "source": [
    "# find count unique values of df['type']\n",
    "df['type'].value_counts(normalize=True)"
   ]
  },
  {
   "cell_type": "code",
   "execution_count": 75,
   "metadata": {},
   "outputs": [
    {
     "data": {
      "image/png": "[encoded data removed]",
      "text/plain": [
       "<Figure size 864x576 with 1 Axes>"
      ]
     },
     "metadata": {
      "needs_background": "light"
     },
     "output_type": "display_data"
    }
   ],
   "source": [
    "# find count unique values of df['type']\n",
    "\n",
    "fig = plt.figure(figsize=(12, 8))\n",
    "plt.title('Award Notice Categories')\n",
    "plt.xticks(rotation=20, ha='right')\n",
    "plt.ylabel('Percent of all Notices')\n",
    "plt.bar(df['type'].value_counts().index, df['type'].value_counts(normalize=True));\n",
    "\n",
    "# xticks rotation source: https://kite.com/python/answers/how-to-rotate-date-ticks-using-matplotlib-in-python\n",
    "# xticks alignment source: https://stackoverflow.com/questions/14852821/aligning-rotated-xticklabels-with-their-respective-xticks"
   ]
  },
  {
   "cell_type": "code",
   "execution_count": 76,
   "metadata": {},
   "outputs": [
    {
     "name": "stdout",
     "output_type": "stream",
     "text": [
      "Percent of all soliciation notices: 0.5716\n"
     ]
    }
   ],
   "source": [
    "# combine solicitation notices with combined synopsis and soliciation notices\n",
    "# this gives back the percent of notices that solicit applications for award\n",
    "\n",
    "print(f\"Percent of all soliciation notices: \\\n",
    "{round(df['type'].value_counts(normalize=True)['Combined Synopsis/Solicitation'] + df['type'].value_counts(normalize=True)['Solicitation'], 4)}\\\n",
    "\")"
   ]
  },
  {
   "cell_type": "markdown",
   "metadata": {},
   "source": [
    "*Observation:* combined synopsis and solicitation is about 46% of all Notices. When we combine all types of solicitations, 58.7% of all notices is soliciting for a submission. \n",
    "\n",
    "*Note:* Special Notice may contain combined sysnopsis and soliciation, and presolicitation may be sources sought. "
   ]
  },
  {
   "cell_type": "markdown",
   "metadata": {},
   "source": [
    "**Eplore Notices by Departments**"
   ]
  },
  {
   "cell_type": "code",
   "execution_count": 77,
   "metadata": {
    "scrolled": true
   },
   "outputs": [
    {
     "data": {
      "text/plain": [
       "DEPT OF DEFENSE                                                          0.755280\n",
       "VETERANS AFFAIRS, DEPARTMENT OF                                          0.087388\n",
       "INTERIOR, DEPARTMENT OF THE                                              0.025297\n",
       "HOMELAND SECURITY, DEPARTMENT OF                                         0.021621\n",
       "JUSTICE, DEPARTMENT OF                                                   0.019616\n",
       "AGRICULTURE, DEPARTMENT OF                                               0.019282\n",
       "HEALTH AND HUMAN SERVICES, DEPARTMENT OF                                 0.012097\n",
       "GENERAL SERVICES ADMINISTRATION                                          0.011863\n",
       "NATIONAL AERONAUTICS AND SPACE ADMINISTRATION                            0.008087\n",
       "TRANSPORTATION, DEPARTMENT OF                                            0.006517\n",
       "COMMERCE, DEPARTMENT OF                                                  0.006216\n",
       "STATE, DEPARTMENT OF                                                     0.006216\n",
       "AGENCY FOR INTERNATIONAL DEVELOPMENT                                     0.004211\n",
       "ENERGY, DEPARTMENT OF                                                    0.004044\n",
       "TREASURY, DEPARTMENT OF THE                                              0.002239\n",
       "ENVIRONMENTAL PROTECTION AGENCY                                          0.002172\n",
       "LABOR, DEPARTMENT OF                                                     0.000936\n",
       "MILLENNIUM CHALLENGE CORPORATION                                         0.000635\n",
       "SOCIAL SECURITY ADMINISTRATION                                           0.000635\n",
       "HOUSING AND URBAN DEVELOPMENT, DEPARTMENT OF                             0.000635\n",
       "SENATE, THE                                                              0.000568\n",
       "UNITED STATES GOVERNMENT PUBLISHING OFFICE                               0.000501\n",
       "LIBRARY OF CONGRESS                                                      0.000501\n",
       "POSTAL SERVICE                                                           0.000468\n",
       "FEDERAL COMMUNICATIONS COMMISSION                                        0.000334\n",
       "NUCLEAR REGULATORY COMMISSION                                            0.000234\n",
       "EXPORT-IMPORT BANK OF THE US                                             0.000201\n",
       "SECURITIES AND EXCHANGE COMMISSION                                       0.000201\n",
       "UNITED STATES AGENCY FOR GLOBAL MEDIA, BBG                               0.000167\n",
       "COMMODITY FUTURES TRADING COMMISSION                                     0.000167\n",
       "INTERNATIONAL BOUNDARY AND WATER COMMISSION: US-MEXICO                   0.000167\n",
       "OFFICE OF PERSONNEL MANAGEMENT                                           0.000167\n",
       "EDUCATION, DEPARTMENT OF                                                 0.000134\n",
       "COURT SERVICES AND OFFENDER SUPERVISION AGENCY                           0.000134\n",
       "CONSUMER PRODUCT SAFETY COMMISSION                                       0.000100\n",
       "UNITED STATES INTERNATIONAL DEVELOPMENT FINANCE CORPORATION              0.000100\n",
       "ARCHITECT OF THE CAPITOL                                                 0.000100\n",
       "PENSION BENEFIT GUARANTY CORPORATION                                     0.000067\n",
       "SMALL BUSINESS ADMINISTRATION                                            0.000067\n",
       "NATIONAL TRANSPORTATION SAFETY BOARD                                     0.000067\n",
       "THE JUDICIAL BRANCH                                                      0.000067\n",
       "GOVERNMENT ACCOUNTABILITY OFFICE                                         0.000067\n",
       "UNITED STATES TRADE AND DEVELOPMENT AGENCY                               0.000067\n",
       "SMITHSONIAN INSTITUTION                                                  0.000067\n",
       "ADMINISTRATIVE OFFICE OF THE US COURTS                                   0.000067\n",
       "PEACE CORPS                                                              0.000033\n",
       "UNITED STATES HOLOCAUST MEMORIAL MUSEUM                                  0.000033\n",
       "NATIONAL ARCHIVES AND RECORDS ADMINISTRATION                             0.000033\n",
       "HOUSE OF REPRESENTATIVES, THE                                            0.000033\n",
       "OFFICE OF THE DIRECTOR OF NATIONAL INTELLIGENCE                          0.000033\n",
       "NATIONAL SCIENCE FOUNDATION                                              0.000033\n",
       "COMMITTEE FOR PURCHASE FROM PEOPLE WHO ARE BLIND OR SEVERELY DISABLED    0.000033\n",
       "Name: department, dtype: float64"
      ]
     },
     "execution_count": 77,
     "metadata": {},
     "output_type": "execute_result"
    }
   ],
   "source": [
    "df['department'].value_counts(normalize=True)"
   ]
  },
  {
   "cell_type": "code",
   "execution_count": 78,
   "metadata": {},
   "outputs": [
    {
     "data": {
      "image/png": "[encoded data removed]",
      "text/plain": [
       "<Figure size 576x1152 with 1 Axes>"
      ]
     },
     "metadata": {
      "needs_background": "light"
     },
     "output_type": "display_data"
    }
   ],
   "source": [
    "# majority of the notices originated from the Department of Defense\n",
    "# plot\n",
    "fig = plt.figure(figsize=(8, 16))\n",
    "plt.title('Department of Origin')\n",
    "plt.xlabel('Percent of Notices')\n",
    "plt.barh(df['department'].value_counts().sort_values().index, \n",
    "         df['department'].value_counts(normalize=True).sort_values());\n"
   ]
  },
  {
   "cell_type": "markdown",
   "metadata": {},
   "source": [
    "The Department of Defense has far the most award notices. Let's look at what subtiers are active in award solicitation."
   ]
  },
  {
   "cell_type": "code",
   "execution_count": 79,
   "metadata": {
    "scrolled": true
   },
   "outputs": [
    {
     "data": {
      "text/plain": [
       "DEFENSE LOGISTICS AGENCY (DLA)                                   0.540623\n",
       "DEPT OF THE NAVY                                                 0.180724\n",
       "DEPT OF THE ARMY                                                 0.166475\n",
       "DEPT OF THE AIR FORCE                                            0.059740\n",
       "DEFENSE INFORMATION SYSTEMS AGENCY (DISA)                        0.038720\n",
       "DEFENSE ADVANCED RESEARCH PROJECTS AGENCY  (DARPA)               0.002036\n",
       "DEFENSE COMMISSARY AGENCY  (DECA)                                0.001770\n",
       "DEPT OF DEFENSE EDUCATION ACTIVITY (DODEA)                       0.001593\n",
       "US SPECIAL OPERATIONS COMMAND (USSOCOM)                          0.001239\n",
       "US TRANSPORTATION COMMAND (USTRANSCOM)                           0.001239\n",
       "NATIONAL GEOSPATIAL-INTELLIGENCE AGENCY (NGA)                    0.000929\n",
       "MISSILE DEFENSE AGENCY (MDA)                                     0.000797\n",
       "WASHINGTON HEADQUARTERS SERVICES (WHS)                           0.000797\n",
       "DEFENSE HEALTH AGENCY (DHA)                                      0.000752\n",
       "DEFENSE INTELLIGENCE AGENCY (DIA)                                0.000575\n",
       "DEFENSE THREAT REDUCTION AGENCY (DTRA)                           0.000487\n",
       "DEFENSE FINANCE AND ACCOUNTING SERVICE (DFAS)                    0.000354\n",
       "UNIFORMED SERVICES UNIVERSITY OF THE HEALTH SCIENCES  (USUHS)    0.000266\n",
       "DEFENSE HUMAN RESOURCES ACTIVITY                                 0.000177\n",
       "DEFENSE MICROELECTRONICS ACTIVITY (DMEA)                         0.000133\n",
       "DEPT OF DEFENSE                                                  0.000133\n",
       "SPACE DEVELOPMENT AGENCY (SDA)                                   0.000133\n",
       "DEFENSE COUNTERINTELLIGENCE AND SECURITY AGENCY (DCSA)           0.000133\n",
       "DEFENSE MEDIA ACTIVITY (DMA)                                     0.000089\n",
       "ACCTG DISB STA NR 525700                                         0.000044\n",
       "DEFENSE CONTRACT MANAGEMENT AGENCY (DCMA)                        0.000044\n",
       "Name: subTier, dtype: float64"
      ]
     },
     "execution_count": 79,
     "metadata": {},
     "output_type": "execute_result"
    }
   ],
   "source": [
    "# isolate the Department of Defense notices - and break it down by subtiers\n",
    "df.loc[df['department'] == 'DEPT OF DEFENSE']['subTier'].value_counts(normalize=True)"
   ]
  },
  {
   "cell_type": "code",
   "execution_count": 80,
   "metadata": {},
   "outputs": [
    {
     "name": "stdout",
     "output_type": "stream",
     "text": [
      "What are the most common types of contract notices coming from the Department of Defense?\n"
     ]
    },
    {
     "data": {
      "text/plain": [
       "Combined Synopsis/Solicitation    0.491704\n",
       "Solicitation                      0.142250\n",
       "Presolicitation                   0.141808\n",
       "Award Notice                      0.095527\n",
       "Sources Sought                    0.063847\n",
       "Special Notice                    0.045352\n",
       "Justification                     0.018672\n",
       "Sale of Surplus Property          0.000841\n",
       "Name: type, dtype: float64"
      ]
     },
     "execution_count": 80,
     "metadata": {},
     "output_type": "execute_result"
    }
   ],
   "source": [
    "# what type of notices are the most common for the Department of Defense\n",
    "print('What are the most common types of contract notices coming from the Department of Defense?')\n",
    "df.loc[df['department'] == 'DEPT OF DEFENSE']['type'].value_counts(normalize=True)"
   ]
  },
  {
   "cell_type": "code",
   "execution_count": 81,
   "metadata": {
    "scrolled": true
   },
   "outputs": [
    {
     "name": "stdout",
     "output_type": "stream",
     "text": [
      "Which department has most often published contract solicitations between March 1 and May 22?\n"
     ]
    },
    {
     "data": {
      "text/plain": [
       "DEPT OF DEFENSE                                                0.837601\n",
       "VETERANS AFFAIRS, DEPARTMENT OF                                0.041038\n",
       "HOMELAND SECURITY, DEPARTMENT OF                               0.021571\n",
       "INTERIOR, DEPARTMENT OF THE                                    0.021513\n",
       "AGRICULTURE, DEPARTMENT OF                                     0.018882\n",
       "JUSTICE, DEPARTMENT OF                                         0.015725\n",
       "HEALTH AND HUMAN SERVICES, DEPARTMENT OF                       0.007074\n",
       "STATE, DEPARTMENT OF                                           0.005671\n",
       "AGENCY FOR INTERNATIONAL DEVELOPMENT                           0.005437\n",
       "GENERAL SERVICES ADMINISTRATION                                0.004151\n",
       "TRANSPORTATION, DEPARTMENT OF                                  0.003858\n",
       "COMMERCE, DEPARTMENT OF                                        0.003391\n",
       "ENERGY, DEPARTMENT OF                                          0.002864\n",
       "NATIONAL AERONAUTICS AND SPACE ADMINISTRATION                  0.002397\n",
       "ENVIRONMENTAL PROTECTION AGENCY                                0.001403\n",
       "TREASURY, DEPARTMENT OF THE                                    0.000877\n",
       "LIBRARY OF CONGRESS                                            0.000760\n",
       "UNITED STATES GOVERNMENT PUBLISHING OFFICE                     0.000760\n",
       "SOCIAL SECURITY ADMINISTRATION                                 0.000760\n",
       "MILLENNIUM CHALLENGE CORPORATION                               0.000585\n",
       "FEDERAL COMMUNICATIONS COMMISSION                              0.000526\n",
       "LABOR, DEPARTMENT OF                                           0.000468\n",
       "POSTAL SERVICE                                                 0.000468\n",
       "INTERNATIONAL BOUNDARY AND WATER COMMISSION: US-MEXICO         0.000292\n",
       "HOUSING AND URBAN DEVELOPMENT, DEPARTMENT OF                   0.000234\n",
       "COURT SERVICES AND OFFENDER SUPERVISION AGENCY                 0.000234\n",
       "NUCLEAR REGULATORY COMMISSION                                  0.000234\n",
       "OFFICE OF PERSONNEL MANAGEMENT                                 0.000175\n",
       "UNITED STATES AGENCY FOR GLOBAL MEDIA, BBG                     0.000117\n",
       "ADMINISTRATIVE OFFICE OF THE US COURTS                         0.000117\n",
       "GOVERNMENT ACCOUNTABILITY OFFICE                               0.000117\n",
       "SMITHSONIAN INSTITUTION                                        0.000117\n",
       "UNITED STATES INTERNATIONAL DEVELOPMENT FINANCE CORPORATION    0.000058\n",
       "CONSUMER PRODUCT SAFETY COMMISSION                             0.000058\n",
       "OFFICE OF THE DIRECTOR OF NATIONAL INTELLIGENCE                0.000058\n",
       "COMMODITY FUTURES TRADING COMMISSION                           0.000058\n",
       "HOUSE OF REPRESENTATIVES, THE                                  0.000058\n",
       "ARCHITECT OF THE CAPITOL                                       0.000058\n",
       "NATIONAL ARCHIVES AND RECORDS ADMINISTRATION                   0.000058\n",
       "PENSION BENEFIT GUARANTY CORPORATION                           0.000058\n",
       "NATIONAL SCIENCE FOUNDATION                                    0.000058\n",
       "EXPORT-IMPORT BANK OF THE US                                   0.000058\n",
       "Name: department, dtype: float64"
      ]
     },
     "execution_count": 81,
     "metadata": {},
     "output_type": "execute_result"
    }
   ],
   "source": [
    "# find all the combined synopsis/ solicitation notices and the solicitation notices\n",
    "# output the departments that are soliciting for submission\n",
    "print('Which department has most often published contract solicitations between March 1 and May 22?')\n",
    "df.loc[(df['type'] == 'Combined Synopsis/Solicitation') | (df['type'] == 'Solicitation')]['department']\\\n",
    ".value_counts(normalize=True)"
   ]
  },
  {
   "cell_type": "code",
   "execution_count": 82,
   "metadata": {},
   "outputs": [
    {
     "name": "stdout",
     "output_type": "stream",
     "text": [
      "Which subtier has most often published contract solicitations between March 1 and May 22?\n"
     ]
    },
    {
     "data": {
      "text/plain": [
       "DEFENSE LOGISTICS AGENCY (DLA)                           0.539752\n",
       "DEPT OF THE ARMY                                         0.116918\n",
       "DEPT OF THE NAVY                                         0.114872\n",
       "VETERANS AFFAIRS, DEPARTMENT OF                          0.041038\n",
       "DEFENSE INFORMATION SYSTEMS AGENCY (DISA)                0.033088\n",
       "                                                           ...   \n",
       "OFFICE OF SURFACE MINING, RECLAMATION AND ENFORCEMENT    0.000058\n",
       "US SECRET SERVICE                                        0.000058\n",
       "FEDERAL ENERGY REGULATORY COMMISSION                     0.000058\n",
       "CONSUMER PRODUCT SAFETY COMMISSION                       0.000058\n",
       "MINE SAFETY AND HEALTH ADMINISTRATION                    0.000058\n",
       "Name: subTier, Length: 114, dtype: float64"
      ]
     },
     "execution_count": 82,
     "metadata": {},
     "output_type": "execute_result"
    }
   ],
   "source": [
    "# # find all the combined synopsis/ solicitation notices and the solicitation notices\n",
    "# output the subtiers within departments that are soliciting for submission\n",
    "print('Which subtier has most often published contract solicitations between March 1 and May 22?')\n",
    "df.loc[(df['type'] == 'Combined Synopsis/Solicitation') | (df['type'] == 'Solicitation')]['subTier']\\\n",
    ".value_counts(normalize=True)"
   ]
  },
  {
   "cell_type": "code",
   "execution_count": 83,
   "metadata": {
    "scrolled": true
   },
   "outputs": [
    {
     "name": "stdout",
     "output_type": "stream",
     "text": [
      "Which department published the most award notice during this year?\n"
     ]
    },
    {
     "data": {
      "text/plain": [
       "DEPT OF DEFENSE                                  0.730132\n",
       "VETERANS AFFAIRS, DEPARTMENT OF                  0.106865\n",
       "JUSTICE, DEPARTMENT OF                           0.044302\n",
       "HOMELAND SECURITY, DEPARTMENT OF                 0.031451\n",
       "AGRICULTURE, DEPARTMENT OF                       0.018262\n",
       "GENERAL SERVICES ADMINISTRATION                  0.017924\n",
       "INTERIOR, DEPARTMENT OF THE                      0.017585\n",
       "HEALTH AND HUMAN SERVICES, DEPARTMENT OF         0.011836\n",
       "STATE, DEPARTMENT OF                             0.006087\n",
       "COMMERCE, DEPARTMENT OF                          0.003720\n",
       "NATIONAL AERONAUTICS AND SPACE ADMINISTRATION    0.003044\n",
       "ENERGY, DEPARTMENT OF                            0.002367\n",
       "TRANSPORTATION, DEPARTMENT OF                    0.001691\n",
       "ENVIRONMENTAL PROTECTION AGENCY                  0.001691\n",
       "AGENCY FOR INTERNATIONAL DEVELOPMENT             0.000676\n",
       "NUCLEAR REGULATORY COMMISSION                    0.000338\n",
       "TREASURY, DEPARTMENT OF THE                      0.000338\n",
       "SMALL BUSINESS ADMINISTRATION                    0.000338\n",
       "LABOR, DEPARTMENT OF                             0.000338\n",
       "SECURITIES AND EXCHANGE COMMISSION               0.000338\n",
       "LIBRARY OF CONGRESS                              0.000338\n",
       "UNITED STATES GOVERNMENT PUBLISHING OFFICE       0.000338\n",
       "Name: department, dtype: float64"
      ]
     },
     "execution_count": 83,
     "metadata": {},
     "output_type": "execute_result"
    }
   ],
   "source": [
    "# find all award notices\n",
    "# output frequency by deparments\n",
    "print('Which department published the most award notice during this year?')\n",
    "df.loc[df['type'] == 'Award Notice']['department'].value_counts(normalize=True)"
   ]
  },
  {
   "cell_type": "code",
   "execution_count": 84,
   "metadata": {
    "scrolled": true
   },
   "outputs": [
    {
     "name": "stdout",
     "output_type": "stream",
     "text": [
      "Which department published the most solicitation for interest during this year?\n"
     ]
    },
    {
     "data": {
      "text/plain": [
       "DEPT OF DEFENSE                                  0.555000\n",
       "VETERANS AFFAIRS, DEPARTMENT OF                  0.236538\n",
       "GENERAL SERVICES ADMINISTRATION                  0.033462\n",
       "INTERIOR, DEPARTMENT OF THE                      0.033077\n",
       "HEALTH AND HUMAN SERVICES, DEPARTMENT OF         0.025385\n",
       "HOMELAND SECURITY, DEPARTMENT OF                 0.023077\n",
       "TRANSPORTATION, DEPARTMENT OF                    0.015385\n",
       "AGRICULTURE, DEPARTMENT OF                       0.012692\n",
       "COMMERCE, DEPARTMENT OF                          0.011154\n",
       "JUSTICE, DEPARTMENT OF                           0.010000\n",
       "NATIONAL AERONAUTICS AND SPACE ADMINISTRATION    0.008846\n",
       "ENERGY, DEPARTMENT OF                            0.008462\n",
       "TREASURY, DEPARTMENT OF THE                      0.006154\n",
       "STATE, DEPARTMENT OF                             0.005000\n",
       "AGENCY FOR INTERNATIONAL DEVELOPMENT             0.003077\n",
       "SENATE, THE                                      0.002692\n",
       "LABOR, DEPARTMENT OF                             0.002692\n",
       "ENVIRONMENTAL PROTECTION AGENCY                  0.001923\n",
       "POSTAL SERVICE                                   0.001538\n",
       "HOUSING AND URBAN DEVELOPMENT, DEPARTMENT OF     0.000769\n",
       "NUCLEAR REGULATORY COMMISSION                    0.000385\n",
       "PEACE CORPS                                      0.000385\n",
       "UNITED STATES AGENCY FOR GLOBAL MEDIA, BBG       0.000385\n",
       "COMMODITY FUTURES TRADING COMMISSION             0.000385\n",
       "OFFICE OF PERSONNEL MANAGEMENT                   0.000385\n",
       "SECURITIES AND EXCHANGE COMMISSION               0.000385\n",
       "UNITED STATES GOVERNMENT PUBLISHING OFFICE       0.000385\n",
       "NATIONAL TRANSPORTATION SAFETY BOARD             0.000385\n",
       "Name: department, dtype: float64"
      ]
     },
     "execution_count": 84,
     "metadata": {},
     "output_type": "execute_result"
    }
   ],
   "source": [
    "# find all Sources Sought notices\n",
    "# output frequency by deparments\n",
    "print('Which department published the most solicitation for interest during this year?')\n",
    "df.loc[df['type'] == 'Sources Sought']['department'].value_counts(normalize=True)"
   ]
  },
  {
   "cell_type": "code",
   "execution_count": 85,
   "metadata": {},
   "outputs": [
    {
     "data": {
      "text/html": [
       "<div>\n",
       "<style scoped>\n",
       "    .dataframe tbody tr th:only-of-type {\n",
       "        vertical-align: middle;\n",
       "    }\n",
       "\n",
       "    .dataframe tbody tr th {\n",
       "        vertical-align: top;\n",
       "    }\n",
       "\n",
       "    .dataframe thead th {\n",
       "        text-align: right;\n",
       "    }\n",
       "</style>\n",
       "<table border=\"1\" class=\"dataframe\">\n",
       "  <thead>\n",
       "    <tr style=\"text-align: right;\">\n",
       "      <th></th>\n",
       "      <th>noticeId</th>\n",
       "      <th>title</th>\n",
       "      <th>solicitationNumber</th>\n",
       "      <th>department</th>\n",
       "      <th>subTier</th>\n",
       "      <th>office</th>\n",
       "      <th>postedDate</th>\n",
       "      <th>type</th>\n",
       "      <th>baseType</th>\n",
       "      <th>archiveType</th>\n",
       "      <th>archiveDate</th>\n",
       "      <th>typeOfSetAsideDescription</th>\n",
       "      <th>typeOfSetAside</th>\n",
       "      <th>responseDeadLine</th>\n",
       "      <th>naicsCode</th>\n",
       "      <th>classificationCode</th>\n",
       "      <th>active</th>\n",
       "      <th>award</th>\n",
       "      <th>pointOfContact</th>\n",
       "      <th>description</th>\n",
       "      <th>organizationType</th>\n",
       "      <th>officeAddress</th>\n",
       "      <th>placeOfPerformance</th>\n",
       "      <th>uiLink</th>\n",
       "      <th>links</th>\n",
       "      <th>resourceLinks</th>\n",
       "    </tr>\n",
       "  </thead>\n",
       "  <tbody>\n",
       "    <tr>\n",
       "      <th>0</th>\n",
       "      <td>ffe3c07bab8b4a7d9be583fd4dd96c4a</td>\n",
       "      <td>REQUEST FOR INFORMATION - NEW DESIGN BOOKLET DIE CUTTING INSERT ASSEMBLY</td>\n",
       "      <td>RFI-042720</td>\n",
       "      <td>UNITED STATES GOVERNMENT PUBLISHING OFFICE</td>\n",
       "      <td>UNITED STATES GOVERNMENT PUBLISHING OFFICE</td>\n",
       "      <td>Acquisition Services</td>\n",
       "      <td>2020-04-27</td>\n",
       "      <td>Sources Sought</td>\n",
       "      <td>Sources Sought</td>\n",
       "      <td>auto15</td>\n",
       "      <td>2020-05-27</td>\n",
       "      <td>NaN</td>\n",
       "      <td>NaN</td>\n",
       "      <td>2020-05-12T14:00:00-04:00</td>\n",
       "      <td>333244.0</td>\n",
       "      <td>3610</td>\n",
       "      <td>Yes</td>\n",
       "      <td>NaN</td>\n",
       "      <td>[{'fax': '', 'type': 'primary', 'email': 'rgraham@gpo.gov', 'phone': '2025120032', 'title': None, 'fullName': 'Rosalyn Graham'}, {'fax': '', 'type': 'secondary', 'email': 'rortega@gpo.gov', 'phone': '2025120803', 'title': None, 'fullName': 'Ronald Ortega'}]</td>\n",
       "      <td>https://api.sam.gov/prod/opportunities/v1/noticedesc?noticeid=ffe3c07bab8b4a7d9be583fd4dd96c4a</td>\n",
       "      <td>OFFICE</td>\n",
       "      <td>{'zipcode': '20401', 'city': 'Washington', 'countryCode': 'USA', 'state': 'DC'}</td>\n",
       "      <td>{'state': {'code': 'DC', 'name': 'District of Columbia'}, 'zip': '20401', 'country': {'code': 'USA', 'name': 'UNITED STATES'}}</td>\n",
       "      <td>https://beta.sam.gov/opp/ffe3c07bab8b4a7d9be583fd4dd96c4a/view</td>\n",
       "      <td>[{'rel': 'self', 'href': 'https://api.sam.gov/prod/opportunities/v1/search?noticeid=ffe3c07bab8b4a7d9be583fd4dd96c4a&amp;limit=1', 'hreflang': None, 'media': None, 'title': None, 'type': None, 'deprecation': None}]</td>\n",
       "      <td>['https://beta.sam.gov/api/prod/opps/v3/opportunities/resources/files/bd2b3b5e86474278ae1ea1a163ccbfd7/download?api_key=null&amp;token=', 'https://beta.sam.gov/api/prod/opps/v3/opportunities/resources/files/774a16e89e4d431e85b0eba1a510a24c/download?api_key=null&amp;token=', 'https://beta.sam.gov/api/prod/opps/v3/opportunities/resources/files/b62d72d82537413f8537bb19160d49bd/download?api_key=null&amp;token=']</td>\n",
       "    </tr>\n",
       "    <tr>\n",
       "      <th>1</th>\n",
       "      <td>ff5e29951ed14b0386ea3291fa6c573f</td>\n",
       "      <td>Audiovisual Suite for Large Auditorium - Maxwell AFB</td>\n",
       "      <td>FA330020X0001</td>\n",
       "      <td>DEPT OF DEFENSE</td>\n",
       "      <td>DEPT OF THE AIR FORCE</td>\n",
       "      <td>FA3300  42 CONS CC</td>\n",
       "      <td>2020-04-27</td>\n",
       "      <td>Sources Sought</td>\n",
       "      <td>Sources Sought</td>\n",
       "      <td>auto15</td>\n",
       "      <td>2020-05-20</td>\n",
       "      <td>NaN</td>\n",
       "      <td>NaN</td>\n",
       "      <td>2020-05-05T12:00:00-05:00</td>\n",
       "      <td>334310.0</td>\n",
       "      <td>5836</td>\n",
       "      <td>Yes</td>\n",
       "      <td>NaN</td>\n",
       "      <td>[{'fax': '3349532198', 'type': 'primary', 'email': 'brandon.osborne.6@us.af.mil', 'phone': '3349537835', 'title': None, 'fullName': 'Brandon Osborne'}, {'fax': '3349532198', 'type': 'secondary', 'email': 'jeremy.kersey.1@us.af.mil', 'phone': '3349533526', 'title': None, 'fullName': 'Jeremy B. Kersey'}]</td>\n",
       "      <td>https://api.sam.gov/prod/opportunities/v1/noticedesc?noticeid=ff5e29951ed14b0386ea3291fa6c573f</td>\n",
       "      <td>OFFICE</td>\n",
       "      <td>{'zipcode': '36112-6334', 'city': 'MAXWELL AFB', 'countryCode': 'USA', 'state': 'AL'}</td>\n",
       "      <td>{'city': {'code': '51000', 'name': 'Montgomery'}, 'state': {'code': 'AL', 'name': 'Alabama'}, 'zip': '36112', 'country': {'code': 'USA', 'name': 'UNITED STATES'}}</td>\n",
       "      <td>https://beta.sam.gov/opp/ff5e29951ed14b0386ea3291fa6c573f/view</td>\n",
       "      <td>[{'rel': 'self', 'href': 'https://api.sam.gov/prod/opportunities/v1/search?noticeid=ff5e29951ed14b0386ea3291fa6c573f&amp;limit=1', 'hreflang': None, 'media': None, 'title': None, 'type': None, 'deprecation': None}]</td>\n",
       "      <td>['https://beta.sam.gov/api/prod/opps/v3/opportunities/resources/files/c2a6338838ed4ebfa7d70e91221ffc21/download?api_key=null&amp;token=']</td>\n",
       "    </tr>\n",
       "    <tr>\n",
       "      <th>2</th>\n",
       "      <td>ff2a16aad70246d1ba10e639c11456d4</td>\n",
       "      <td>Metrology Equipment Move</td>\n",
       "      <td>SP4703-20-Q-0045</td>\n",
       "      <td>DEPT OF DEFENSE</td>\n",
       "      <td>DEFENSE LOGISTICS AGENCY (DLA)</td>\n",
       "      <td>DCSO RICHMOND</td>\n",
       "      <td>2020-04-27</td>\n",
       "      <td>Combined Synopsis/Solicitation</td>\n",
       "      <td>Combined Synopsis/Solicitation</td>\n",
       "      <td>auto15</td>\n",
       "      <td>2020-05-19</td>\n",
       "      <td>Total Small Business Set-Aside (FAR 19.5)</td>\n",
       "      <td>SBA</td>\n",
       "      <td>2020-05-04T15:00:00-04:00</td>\n",
       "      <td>238990.0</td>\n",
       "      <td>Z1PZ</td>\n",
       "      <td>Yes</td>\n",
       "      <td>NaN</td>\n",
       "      <td>[{'fax': '', 'type': 'primary', 'email': 'Kiara.leslie@dla.mil', 'phone': '8042796566', 'title': None, 'fullName': 'Kiara Leslie'}, {'fax': '', 'type': 'secondary', 'email': 'mary.washington@dla.mil', 'phone': '8042795628', 'title': None, 'fullName': 'Mary A. Washington, Contracting Officer'}]</td>\n",
       "      <td>https://api.sam.gov/prod/opportunities/v1/noticedesc?noticeid=ff2a16aad70246d1ba10e639c11456d4</td>\n",
       "      <td>OFFICE</td>\n",
       "      <td>{'zipcode': '23297-5441', 'city': 'RICHMOND', 'countryCode': 'USA', 'state': 'VA'}</td>\n",
       "      <td>{'city': {'code': '67000', 'name': 'Richmond'}, 'state': {'code': 'VA', 'name': 'Virginia'}, 'zip': '23219', 'country': {'code': 'USA', 'name': 'UNITED STATES'}}</td>\n",
       "      <td>https://beta.sam.gov/opp/ff2a16aad70246d1ba10e639c11456d4/view</td>\n",
       "      <td>[{'rel': 'self', 'href': 'https://api.sam.gov/prod/opportunities/v1/search?noticeid=ff2a16aad70246d1ba10e639c11456d4&amp;limit=1', 'hreflang': None, 'media': None, 'title': None, 'type': None, 'deprecation': None}]</td>\n",
       "      <td>['https://beta.sam.gov/api/prod/opps/v3/opportunities/resources/files/18c139e819464ce2934b07f841d6b742/download?api_key=null&amp;token=', 'https://beta.sam.gov/api/prod/opps/v3/opportunities/resources/files/3254bee55b05422bb5a5638f85f5ad85/download?api_key=null&amp;token=', 'https://beta.sam.gov/api/prod/opps/v3/opportunities/resources/files/db5cf8928e394ca3bbccc489858e3613/download?api_key=null&amp;token=', 'https://beta.sam.gov/api/prod/opps/v3/opportunities/resources/files/7c5bdc22855046e0a7c5f1a9505f8cb7/download?api_key=null&amp;token=', 'https://beta.sam.gov/api/prod/opps/v3/opportunities/resources/files/5c967f7e9bae4dc297067066a8c326ea/download?api_key=null&amp;token=', 'https://beta.sam.gov/api/prod/opps/v3/opportunities/resources/files/db21fce9fd544d03a3e879c84e989b65/download?api_key=null&amp;token=', 'https://beta.sam.gov/api/prod/opps/v3/opportunities/resources/files/79b161ca6b7349779413df63e474a8e6/download?api_key=null&amp;token=']</td>\n",
       "    </tr>\n",
       "    <tr>\n",
       "      <th>3</th>\n",
       "      <td>fef5aeb716414feb8c12eec5e5063ff6</td>\n",
       "      <td>INNER INFLATABLE ASSY (LPU-36A/P)</td>\n",
       "      <td>PR1000092966</td>\n",
       "      <td>DEPT OF DEFENSE</td>\n",
       "      <td>DEFENSE LOGISTICS AGENCY (DLA)</td>\n",
       "      <td>DLA LAND AND MARITIME</td>\n",
       "      <td>2020-04-27</td>\n",
       "      <td>Sources Sought</td>\n",
       "      <td>Sources Sought</td>\n",
       "      <td>auto15</td>\n",
       "      <td>2020-05-19</td>\n",
       "      <td>NaN</td>\n",
       "      <td>NaN</td>\n",
       "      <td>2020-05-04T09:00:00-04:00</td>\n",
       "      <td>NaN</td>\n",
       "      <td>4220</td>\n",
       "      <td>Yes</td>\n",
       "      <td>NaN</td>\n",
       "      <td>[{'fax': '', 'type': 'primary', 'email': 'mindy.messerly@dla.mil', 'phone': '', 'title': None, 'fullName': 'Mindy Messerly614-692-4874'}]</td>\n",
       "      <td>https://api.sam.gov/prod/opportunities/v1/noticedesc?noticeid=fef5aeb716414feb8c12eec5e5063ff6</td>\n",
       "      <td>OFFICE</td>\n",
       "      <td>{'zipcode': '43218-3990', 'city': 'COLUMBUS', 'countryCode': 'USA', 'state': 'OH'}</td>\n",
       "      <td>NaN</td>\n",
       "      <td>https://beta.sam.gov/opp/fef5aeb716414feb8c12eec5e5063ff6/view</td>\n",
       "      <td>[{'rel': 'self', 'href': 'https://api.sam.gov/prod/opportunities/v1/search?noticeid=fef5aeb716414feb8c12eec5e5063ff6&amp;limit=1', 'hreflang': None, 'media': None, 'title': None, 'type': None, 'deprecation': None}]</td>\n",
       "      <td>NaN</td>\n",
       "    </tr>\n",
       "    <tr>\n",
       "      <th>4</th>\n",
       "      <td>fed3bef7bd1e4ac389950ef7a087e578</td>\n",
       "      <td>17--CRADLE</td>\n",
       "      <td>SPE8EF20T1468</td>\n",
       "      <td>DEPT OF DEFENSE</td>\n",
       "      <td>DEFENSE LOGISTICS AGENCY (DLA)</td>\n",
       "      <td>DLA TROOP SUPPORT</td>\n",
       "      <td>2020-04-27</td>\n",
       "      <td>Combined Synopsis/Solicitation</td>\n",
       "      <td>Combined Synopsis/Solicitation</td>\n",
       "      <td>autocustom</td>\n",
       "      <td>2020-06-07</td>\n",
       "      <td>Total Small Business Set-Aside (FAR 19.5)</td>\n",
       "      <td>SBA</td>\n",
       "      <td>2020-05-08</td>\n",
       "      <td>336413.0</td>\n",
       "      <td>17</td>\n",
       "      <td>Yes</td>\n",
       "      <td>{'awardee': {'location': {}}}</td>\n",
       "      <td>[{'fax': None, 'type': 'primary', 'email': 'DibbsBSM@dla.mil', 'phone': None, 'title': None, 'fullName': 'Questions regarding this solicitation should be emailed to the buyer listed in block 5 of the solicitation document which can be found under the Additional Information link.\\nIf the Additional Information link does not work, please go to https://www.dibbs.'}]</td>\n",
       "      <td>https://api.sam.gov/prod/opportunities/v1/noticedesc?noticeid=fed3bef7bd1e4ac389950ef7a087e578</td>\n",
       "      <td>OFFICE</td>\n",
       "      <td>{'zipcode': '19111-5096', 'city': 'PHILADELPHIA', 'countryCode': 'USA', 'state': 'PA'}</td>\n",
       "      <td>{}</td>\n",
       "      <td>https://beta.sam.gov/opp/fed3bef7bd1e4ac389950ef7a087e578/view</td>\n",
       "      <td>[{'rel': 'self', 'href': 'https://api.sam.gov/prod/opportunities/v1/search?noticeid=fed3bef7bd1e4ac389950ef7a087e578&amp;limit=1', 'hreflang': None, 'media': None, 'title': None, 'type': None, 'deprecation': None}]</td>\n",
       "      <td>NaN</td>\n",
       "    </tr>\n",
       "  </tbody>\n",
       "</table>\n",
       "</div>"
      ],
      "text/plain": [
       "                           noticeId  \\\n",
       "0  ffe3c07bab8b4a7d9be583fd4dd96c4a   \n",
       "1  ff5e29951ed14b0386ea3291fa6c573f   \n",
       "2  ff2a16aad70246d1ba10e639c11456d4   \n",
       "3  fef5aeb716414feb8c12eec5e5063ff6   \n",
       "4  fed3bef7bd1e4ac389950ef7a087e578   \n",
       "\n",
       "                                                                      title  \\\n",
       "0  REQUEST FOR INFORMATION - NEW DESIGN BOOKLET DIE CUTTING INSERT ASSEMBLY   \n",
       "1                      Audiovisual Suite for Large Auditorium - Maxwell AFB   \n",
       "2                                                  Metrology Equipment Move   \n",
       "3                                         INNER INFLATABLE ASSY (LPU-36A/P)   \n",
       "4                                                                17--CRADLE   \n",
       "\n",
       "  solicitationNumber                                  department  \\\n",
       "0         RFI-042720  UNITED STATES GOVERNMENT PUBLISHING OFFICE   \n",
       "1      FA330020X0001                             DEPT OF DEFENSE   \n",
       "2   SP4703-20-Q-0045                             DEPT OF DEFENSE   \n",
       "3       PR1000092966                             DEPT OF DEFENSE   \n",
       "4      SPE8EF20T1468                             DEPT OF DEFENSE   \n",
       "\n",
       "                                      subTier                 office  \\\n",
       "0  UNITED STATES GOVERNMENT PUBLISHING OFFICE   Acquisition Services   \n",
       "1                       DEPT OF THE AIR FORCE     FA3300  42 CONS CC   \n",
       "2              DEFENSE LOGISTICS AGENCY (DLA)          DCSO RICHMOND   \n",
       "3              DEFENSE LOGISTICS AGENCY (DLA)  DLA LAND AND MARITIME   \n",
       "4              DEFENSE LOGISTICS AGENCY (DLA)      DLA TROOP SUPPORT   \n",
       "\n",
       "   postedDate                            type                        baseType  \\\n",
       "0  2020-04-27                  Sources Sought                  Sources Sought   \n",
       "1  2020-04-27                  Sources Sought                  Sources Sought   \n",
       "2  2020-04-27  Combined Synopsis/Solicitation  Combined Synopsis/Solicitation   \n",
       "3  2020-04-27                  Sources Sought                  Sources Sought   \n",
       "4  2020-04-27  Combined Synopsis/Solicitation  Combined Synopsis/Solicitation   \n",
       "\n",
       "  archiveType archiveDate                  typeOfSetAsideDescription  \\\n",
       "0      auto15  2020-05-27                                        NaN   \n",
       "1      auto15  2020-05-20                                        NaN   \n",
       "2      auto15  2020-05-19  Total Small Business Set-Aside (FAR 19.5)   \n",
       "3      auto15  2020-05-19                                        NaN   \n",
       "4  autocustom  2020-06-07  Total Small Business Set-Aside (FAR 19.5)   \n",
       "\n",
       "  typeOfSetAside           responseDeadLine  naicsCode classificationCode  \\\n",
       "0            NaN  2020-05-12T14:00:00-04:00   333244.0               3610   \n",
       "1            NaN  2020-05-05T12:00:00-05:00   334310.0               5836   \n",
       "2            SBA  2020-05-04T15:00:00-04:00   238990.0               Z1PZ   \n",
       "3            NaN  2020-05-04T09:00:00-04:00        NaN               4220   \n",
       "4            SBA                 2020-05-08   336413.0                 17   \n",
       "\n",
       "  active                          award  \\\n",
       "0    Yes                            NaN   \n",
       "1    Yes                            NaN   \n",
       "2    Yes                            NaN   \n",
       "3    Yes                            NaN   \n",
       "4    Yes  {'awardee': {'location': {}}}   \n",
       "\n",
       "                                                                                                                                                                                                                                                                                                                                                                  pointOfContact  \\\n",
       "0                                                                                                              [{'fax': '', 'type': 'primary', 'email': 'rgraham@gpo.gov', 'phone': '2025120032', 'title': None, 'fullName': 'Rosalyn Graham'}, {'fax': '', 'type': 'secondary', 'email': 'rortega@gpo.gov', 'phone': '2025120803', 'title': None, 'fullName': 'Ronald Ortega'}]   \n",
       "1                                                                [{'fax': '3349532198', 'type': 'primary', 'email': 'brandon.osborne.6@us.af.mil', 'phone': '3349537835', 'title': None, 'fullName': 'Brandon Osborne'}, {'fax': '3349532198', 'type': 'secondary', 'email': 'jeremy.kersey.1@us.af.mil', 'phone': '3349533526', 'title': None, 'fullName': 'Jeremy B. Kersey'}]   \n",
       "2                                                                         [{'fax': '', 'type': 'primary', 'email': 'Kiara.leslie@dla.mil', 'phone': '8042796566', 'title': None, 'fullName': 'Kiara Leslie'}, {'fax': '', 'type': 'secondary', 'email': 'mary.washington@dla.mil', 'phone': '8042795628', 'title': None, 'fullName': 'Mary A. Washington, Contracting Officer'}]   \n",
       "3                                                                                                                                                                                                                                      [{'fax': '', 'type': 'primary', 'email': 'mindy.messerly@dla.mil', 'phone': '', 'title': None, 'fullName': 'Mindy Messerly614-692-4874'}]   \n",
       "4  [{'fax': None, 'type': 'primary', 'email': 'DibbsBSM@dla.mil', 'phone': None, 'title': None, 'fullName': 'Questions regarding this solicitation should be emailed to the buyer listed in block 5 of the solicitation document which can be found under the Additional Information link.\\nIf the Additional Information link does not work, please go to https://www.dibbs.'}]   \n",
       "\n",
       "                                                                                      description  \\\n",
       "0  https://api.sam.gov/prod/opportunities/v1/noticedesc?noticeid=ffe3c07bab8b4a7d9be583fd4dd96c4a   \n",
       "1  https://api.sam.gov/prod/opportunities/v1/noticedesc?noticeid=ff5e29951ed14b0386ea3291fa6c573f   \n",
       "2  https://api.sam.gov/prod/opportunities/v1/noticedesc?noticeid=ff2a16aad70246d1ba10e639c11456d4   \n",
       "3  https://api.sam.gov/prod/opportunities/v1/noticedesc?noticeid=fef5aeb716414feb8c12eec5e5063ff6   \n",
       "4  https://api.sam.gov/prod/opportunities/v1/noticedesc?noticeid=fed3bef7bd1e4ac389950ef7a087e578   \n",
       "\n",
       "  organizationType  \\\n",
       "0           OFFICE   \n",
       "1           OFFICE   \n",
       "2           OFFICE   \n",
       "3           OFFICE   \n",
       "4           OFFICE   \n",
       "\n",
       "                                                                            officeAddress  \\\n",
       "0         {'zipcode': '20401', 'city': 'Washington', 'countryCode': 'USA', 'state': 'DC'}   \n",
       "1   {'zipcode': '36112-6334', 'city': 'MAXWELL AFB', 'countryCode': 'USA', 'state': 'AL'}   \n",
       "2      {'zipcode': '23297-5441', 'city': 'RICHMOND', 'countryCode': 'USA', 'state': 'VA'}   \n",
       "3      {'zipcode': '43218-3990', 'city': 'COLUMBUS', 'countryCode': 'USA', 'state': 'OH'}   \n",
       "4  {'zipcode': '19111-5096', 'city': 'PHILADELPHIA', 'countryCode': 'USA', 'state': 'PA'}   \n",
       "\n",
       "                                                                                                                                                   placeOfPerformance  \\\n",
       "0                                      {'state': {'code': 'DC', 'name': 'District of Columbia'}, 'zip': '20401', 'country': {'code': 'USA', 'name': 'UNITED STATES'}}   \n",
       "1  {'city': {'code': '51000', 'name': 'Montgomery'}, 'state': {'code': 'AL', 'name': 'Alabama'}, 'zip': '36112', 'country': {'code': 'USA', 'name': 'UNITED STATES'}}   \n",
       "2   {'city': {'code': '67000', 'name': 'Richmond'}, 'state': {'code': 'VA', 'name': 'Virginia'}, 'zip': '23219', 'country': {'code': 'USA', 'name': 'UNITED STATES'}}   \n",
       "3                                                                                                                                                                 NaN   \n",
       "4                                                                                                                                                                  {}   \n",
       "\n",
       "                                                           uiLink  \\\n",
       "0  https://beta.sam.gov/opp/ffe3c07bab8b4a7d9be583fd4dd96c4a/view   \n",
       "1  https://beta.sam.gov/opp/ff5e29951ed14b0386ea3291fa6c573f/view   \n",
       "2  https://beta.sam.gov/opp/ff2a16aad70246d1ba10e639c11456d4/view   \n",
       "3  https://beta.sam.gov/opp/fef5aeb716414feb8c12eec5e5063ff6/view   \n",
       "4  https://beta.sam.gov/opp/fed3bef7bd1e4ac389950ef7a087e578/view   \n",
       "\n",
       "                                                                                                                                                                                                                links  \\\n",
       "0  [{'rel': 'self', 'href': 'https://api.sam.gov/prod/opportunities/v1/search?noticeid=ffe3c07bab8b4a7d9be583fd4dd96c4a&limit=1', 'hreflang': None, 'media': None, 'title': None, 'type': None, 'deprecation': None}]   \n",
       "1  [{'rel': 'self', 'href': 'https://api.sam.gov/prod/opportunities/v1/search?noticeid=ff5e29951ed14b0386ea3291fa6c573f&limit=1', 'hreflang': None, 'media': None, 'title': None, 'type': None, 'deprecation': None}]   \n",
       "2  [{'rel': 'self', 'href': 'https://api.sam.gov/prod/opportunities/v1/search?noticeid=ff2a16aad70246d1ba10e639c11456d4&limit=1', 'hreflang': None, 'media': None, 'title': None, 'type': None, 'deprecation': None}]   \n",
       "3  [{'rel': 'self', 'href': 'https://api.sam.gov/prod/opportunities/v1/search?noticeid=fef5aeb716414feb8c12eec5e5063ff6&limit=1', 'hreflang': None, 'media': None, 'title': None, 'type': None, 'deprecation': None}]   \n",
       "4  [{'rel': 'self', 'href': 'https://api.sam.gov/prod/opportunities/v1/search?noticeid=fed3bef7bd1e4ac389950ef7a087e578&limit=1', 'hreflang': None, 'media': None, 'title': None, 'type': None, 'deprecation': None}]   \n",
       "\n",
       "                                                                                                                                                                                                                                                                                                                                                                                                                                                                                                                                                                                                                                                                                                                                                                                                                                                                                                                                                         resourceLinks  \n",
       "0                                                                                                                                                                                                                                                                                                                                                                                                                                                                                                                                                      ['https://beta.sam.gov/api/prod/opps/v3/opportunities/resources/files/bd2b3b5e86474278ae1ea1a163ccbfd7/download?api_key=null&token=', 'https://beta.sam.gov/api/prod/opps/v3/opportunities/resources/files/774a16e89e4d431e85b0eba1a510a24c/download?api_key=null&token=', 'https://beta.sam.gov/api/prod/opps/v3/opportunities/resources/files/b62d72d82537413f8537bb19160d49bd/download?api_key=null&token=']  \n",
       "1                                                                                                                                                                                                                                                                                                                                                                                                                                                                                                                                                                                                                                                                                                                                                                                                                                ['https://beta.sam.gov/api/prod/opps/v3/opportunities/resources/files/c2a6338838ed4ebfa7d70e91221ffc21/download?api_key=null&token=']  \n",
       "2  ['https://beta.sam.gov/api/prod/opps/v3/opportunities/resources/files/18c139e819464ce2934b07f841d6b742/download?api_key=null&token=', 'https://beta.sam.gov/api/prod/opps/v3/opportunities/resources/files/3254bee55b05422bb5a5638f85f5ad85/download?api_key=null&token=', 'https://beta.sam.gov/api/prod/opps/v3/opportunities/resources/files/db5cf8928e394ca3bbccc489858e3613/download?api_key=null&token=', 'https://beta.sam.gov/api/prod/opps/v3/opportunities/resources/files/7c5bdc22855046e0a7c5f1a9505f8cb7/download?api_key=null&token=', 'https://beta.sam.gov/api/prod/opps/v3/opportunities/resources/files/5c967f7e9bae4dc297067066a8c326ea/download?api_key=null&token=', 'https://beta.sam.gov/api/prod/opps/v3/opportunities/resources/files/db21fce9fd544d03a3e879c84e989b65/download?api_key=null&token=', 'https://beta.sam.gov/api/prod/opps/v3/opportunities/resources/files/79b161ca6b7349779413df63e474a8e6/download?api_key=null&token=']  \n",
       "3                                                                                                                                                                                                                                                                                                                                                                                                                                                                                                                                                                                                                                                                                                                                                                                                                                                                                                                                                                  NaN  \n",
       "4                                                                                                                                                                                                                                                                                                                                                                                                                                                                                                                                                                                                                                                                                                                                                                                                                                                                                                                                                                  NaN  "
      ]
     },
     "execution_count": 85,
     "metadata": {},
     "output_type": "execute_result"
    }
   ],
   "source": [
    "df.head()"
   ]
  },
  {
   "cell_type": "code",
   "execution_count": 86,
   "metadata": {},
   "outputs": [],
   "source": [
    "# look at types of set aside, especially among the solicitations\n",
    "# check if we can see the awardee names, city/ state of business location"
   ]
  }
 ],
 "metadata": {
  "kernelspec": {
   "display_name": "Python 3",
   "language": "python",
   "name": "python3"
  },
  "language_info": {
   "codemirror_mode": {
    "name": "ipython",
    "version": 3
   },
   "file_extension": ".py",
   "mimetype": "text/x-python",
   "name": "python",
   "nbconvert_exporter": "python",
   "pygments_lexer": "ipython3",
   "version": "3.7.6"
  }
 },
 "nbformat": 4,
 "nbformat_minor": 4
}
