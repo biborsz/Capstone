{
 "cells": [
  {
   "cell_type": "code",
   "execution_count": 1,
   "metadata": {},
   "outputs": [],
   "source": [
    "# imports\n",
    "import pandas as pd\n",
    "import requests\n",
    "import time\n",
    "import datetime"
   ]
  },
  {
   "cell_type": "code",
   "execution_count": 2,
   "metadata": {},
   "outputs": [],
   "source": [
    "# set display options \n",
    "pd.set_option('display.max_columns', 50)\n",
    "pd.set_option('display.max_colwidth', None)"
   ]
  },
  {
   "cell_type": "code",
   "execution_count": 7,
   "metadata": {},
   "outputs": [],
   "source": [
    "# read in all csv files\n",
    "df1 = pd.read_csv('./data/5_18_pull1.csv')\n",
    "df2 = pd.read_csv('./data/5_18_pull2.csv')\n",
    "df3 = pd.read_csv('./data/5_18_pull3.csv')\n",
    "df4 = pd.read_csv('./data/5_19_pull.csv')\n",
    "df5 = pd.read_csv('./data/5_20_pull.csv')\n",
    "df6 = pd.read_csv('./data/5_21_pull.csv')\n",
    "df7 = pd.read_csv('./data/combined.csv')"
   ]
  },
  {
   "cell_type": "code",
   "execution_count": 8,
   "metadata": {},
   "outputs": [],
   "source": [
    "# combine all datasets\n",
    "\n",
    "df = pd.concat([df1, df2, df3, df4, df5, df6, df7])"
   ]
  },
  {
   "cell_type": "code",
   "execution_count": 9,
   "metadata": {},
   "outputs": [
    {
     "data": {
      "text/plain": [
       "(34363, 27)"
      ]
     },
     "execution_count": 9,
     "metadata": {},
     "output_type": "execute_result"
    }
   ],
   "source": [
    "df.shape"
   ]
  },
  {
   "cell_type": "code",
   "execution_count": 5,
   "metadata": {
    "scrolled": true
   },
   "outputs": [
    {
     "data": {
      "text/html": [
       "<div>\n",
       "<style scoped>\n",
       "    .dataframe tbody tr th:only-of-type {\n",
       "        vertical-align: middle;\n",
       "    }\n",
       "\n",
       "    .dataframe tbody tr th {\n",
       "        vertical-align: top;\n",
       "    }\n",
       "\n",
       "    .dataframe thead th {\n",
       "        text-align: right;\n",
       "    }\n",
       "</style>\n",
       "<table border=\"1\" class=\"dataframe\">\n",
       "  <thead>\n",
       "    <tr style=\"text-align: right;\">\n",
       "      <th></th>\n",
       "      <th>noticeId</th>\n",
       "      <th>title</th>\n",
       "      <th>solicitationNumber</th>\n",
       "      <th>department</th>\n",
       "      <th>subTier</th>\n",
       "      <th>office</th>\n",
       "      <th>postedDate</th>\n",
       "      <th>type</th>\n",
       "      <th>baseType</th>\n",
       "      <th>archiveType</th>\n",
       "      <th>...</th>\n",
       "      <th>award</th>\n",
       "      <th>pointOfContact</th>\n",
       "      <th>description</th>\n",
       "      <th>organizationType</th>\n",
       "      <th>officeAddress</th>\n",
       "      <th>placeOfPerformance</th>\n",
       "      <th>additionalInfoLink</th>\n",
       "      <th>uiLink</th>\n",
       "      <th>links</th>\n",
       "      <th>resourceLinks</th>\n",
       "    </tr>\n",
       "  </thead>\n",
       "  <tbody>\n",
       "    <tr>\n",
       "      <th>9995</th>\n",
       "      <td>bfcf75601ce84915b6f939eb279402f2</td>\n",
       "      <td>D399--TAC-20-51726 - Customer Experience, DevO...</td>\n",
       "      <td>36C10B19Q0076</td>\n",
       "      <td>VETERANS AFFAIRS, DEPARTMENT OF</td>\n",
       "      <td>VETERANS AFFAIRS, DEPARTMENT OF</td>\n",
       "      <td>TECHNOLOGY ACQUISITION CENTER NJ (36C10B)</td>\n",
       "      <td>2020-03-02</td>\n",
       "      <td>Special Notice</td>\n",
       "      <td>Special Notice</td>\n",
       "      <td>autocustom</td>\n",
       "      <td>...</td>\n",
       "      <td>{'awardee': {'location': {}}}</td>\n",
       "      <td>[{'fax': None, 'type': 'primary', 'email': 'da...</td>\n",
       "      <td>https://api.sam.gov/prod/opportunities/v1/noti...</td>\n",
       "      <td>OFFICE</td>\n",
       "      <td>{'zipcode': '07724', 'city': 'EATONTOWN', 'cou...</td>\n",
       "      <td>{}</td>\n",
       "      <td>NaN</td>\n",
       "      <td>https://beta.sam.gov/opp/bfcf75601ce84915b6f93...</td>\n",
       "      <td>[{'rel': 'self', 'href': 'https://api.sam.gov/...</td>\n",
       "      <td>NaN</td>\n",
       "    </tr>\n",
       "    <tr>\n",
       "      <th>9996</th>\n",
       "      <td>bfbfb808060143578bf3d334e8ab8892</td>\n",
       "      <td>Vertical Construction Multiple Award Task Orde...</td>\n",
       "      <td>W9126G20R0050</td>\n",
       "      <td>DEPT OF DEFENSE</td>\n",
       "      <td>DEPT OF THE ARMY</td>\n",
       "      <td>US ARMY ENGINEER DISTRICT FT WORTH</td>\n",
       "      <td>2020-03-02</td>\n",
       "      <td>Presolicitation</td>\n",
       "      <td>Presolicitation</td>\n",
       "      <td>autocustom</td>\n",
       "      <td>...</td>\n",
       "      <td>NaN</td>\n",
       "      <td>[{'fax': '', 'type': 'primary', 'email': 'scot...</td>\n",
       "      <td>https://api.sam.gov/prod/opportunities/v1/noti...</td>\n",
       "      <td>OFFICE</td>\n",
       "      <td>{'zipcode': '76102-6124', 'city': 'FORT WORTH'...</td>\n",
       "      <td>{'country': {'code': 'USA', 'name': 'UNITED ST...</td>\n",
       "      <td>NaN</td>\n",
       "      <td>https://beta.sam.gov/opp/bfbfb808060143578bf3d...</td>\n",
       "      <td>[{'rel': 'self', 'href': 'https://api.sam.gov/...</td>\n",
       "      <td>NaN</td>\n",
       "    </tr>\n",
       "    <tr>\n",
       "      <th>9997</th>\n",
       "      <td>be15ccb61e2d4fd29a8e01dd3e7d4c99</td>\n",
       "      <td>5895--WestHaven pkg 24 - Orange Annex Activati...</td>\n",
       "      <td>36A77620Q0091</td>\n",
       "      <td>VETERANS AFFAIRS, DEPARTMENT OF</td>\n",
       "      <td>VETERANS AFFAIRS, DEPARTMENT OF</td>\n",
       "      <td>PCAC ACTIVATIONS (36A776)</td>\n",
       "      <td>2020-03-02</td>\n",
       "      <td>Sources Sought</td>\n",
       "      <td>Sources Sought</td>\n",
       "      <td>autocustom</td>\n",
       "      <td>...</td>\n",
       "      <td>{'awardee': {'location': {}}}</td>\n",
       "      <td>[{'fax': None, 'type': 'primary', 'email': 'He...</td>\n",
       "      <td>https://api.sam.gov/prod/opportunities/v1/noti...</td>\n",
       "      <td>OFFICE</td>\n",
       "      <td>{'zipcode': '44131', 'city': 'INDEPENDENCE', '...</td>\n",
       "      <td>{}</td>\n",
       "      <td>NaN</td>\n",
       "      <td>https://beta.sam.gov/opp/be15ccb61e2d4fd29a8e0...</td>\n",
       "      <td>[{'rel': 'self', 'href': 'https://api.sam.gov/...</td>\n",
       "      <td>NaN</td>\n",
       "    </tr>\n",
       "    <tr>\n",
       "      <th>9998</th>\n",
       "      <td>bb420c29181a41b08443d8f1881f4928</td>\n",
       "      <td>B506--528A5-19-521 WASTE WATER TREATMENT PLANT...</td>\n",
       "      <td>36C24219Q0895</td>\n",
       "      <td>VETERANS AFFAIRS, DEPARTMENT OF</td>\n",
       "      <td>VETERANS AFFAIRS, DEPARTMENT OF</td>\n",
       "      <td>242-NETWORK CONTRACT OFFICE 02 (36C242)</td>\n",
       "      <td>2020-03-02</td>\n",
       "      <td>Award Notice</td>\n",
       "      <td>Combined Synopsis/Solicitation</td>\n",
       "      <td>autocustom</td>\n",
       "      <td>...</td>\n",
       "      <td>{'date': '2020-02-20', 'number': '36C24220P049...</td>\n",
       "      <td>[{'fax': None, 'type': 'primary', 'email': 'Co...</td>\n",
       "      <td>https://api.sam.gov/prod/opportunities/v1/noti...</td>\n",
       "      <td>OFFICE</td>\n",
       "      <td>{'zipcode': '12208', 'city': 'ALBANY', 'countr...</td>\n",
       "      <td>{}</td>\n",
       "      <td>NaN</td>\n",
       "      <td>https://beta.sam.gov/opp/bb420c29181a41b08443d...</td>\n",
       "      <td>[{'rel': 'self', 'href': 'https://api.sam.gov/...</td>\n",
       "      <td>NaN</td>\n",
       "    </tr>\n",
       "    <tr>\n",
       "      <th>9999</th>\n",
       "      <td>b7fe38edaf674d35971fdd5eb75f6174</td>\n",
       "      <td>Loader Mounted Snow Blower</td>\n",
       "      <td>FA452820QDC01</td>\n",
       "      <td>DEPT OF DEFENSE</td>\n",
       "      <td>DEPT OF THE AIR FORCE</td>\n",
       "      <td>FA4528  5 CONS LGCP</td>\n",
       "      <td>2020-03-02</td>\n",
       "      <td>Combined Synopsis/Solicitation</td>\n",
       "      <td>Combined Synopsis/Solicitation</td>\n",
       "      <td>autocustom</td>\n",
       "      <td>...</td>\n",
       "      <td>NaN</td>\n",
       "      <td>[{'fax': '701-723-2696', 'type': 'primary', 'e...</td>\n",
       "      <td>https://api.sam.gov/prod/opportunities/v1/noti...</td>\n",
       "      <td>OFFICE</td>\n",
       "      <td>{'zipcode': '58705', 'city': 'MINOT AFB', 'cou...</td>\n",
       "      <td>{'city': {'code': 'ND-01', 'name': 'Minot AFB'...</td>\n",
       "      <td>NaN</td>\n",
       "      <td>https://beta.sam.gov/opp/b7fe38edaf674d35971fd...</td>\n",
       "      <td>[{'rel': 'self', 'href': 'https://api.sam.gov/...</td>\n",
       "      <td>['https://beta.sam.gov/api/prod/opps/v3/opport...</td>\n",
       "    </tr>\n",
       "  </tbody>\n",
       "</table>\n",
       "<p>5 rows × 27 columns</p>\n",
       "</div>"
      ],
      "text/plain": [
       "                              noticeId  \\\n",
       "9995  bfcf75601ce84915b6f939eb279402f2   \n",
       "9996  bfbfb808060143578bf3d334e8ab8892   \n",
       "9997  be15ccb61e2d4fd29a8e01dd3e7d4c99   \n",
       "9998  bb420c29181a41b08443d8f1881f4928   \n",
       "9999  b7fe38edaf674d35971fdd5eb75f6174   \n",
       "\n",
       "                                                  title solicitationNumber  \\\n",
       "9995  D399--TAC-20-51726 - Customer Experience, DevO...      36C10B19Q0076   \n",
       "9996  Vertical Construction Multiple Award Task Orde...      W9126G20R0050   \n",
       "9997  5895--WestHaven pkg 24 - Orange Annex Activati...      36A77620Q0091   \n",
       "9998  B506--528A5-19-521 WASTE WATER TREATMENT PLANT...      36C24219Q0895   \n",
       "9999                         Loader Mounted Snow Blower      FA452820QDC01   \n",
       "\n",
       "                           department                          subTier  \\\n",
       "9995  VETERANS AFFAIRS, DEPARTMENT OF  VETERANS AFFAIRS, DEPARTMENT OF   \n",
       "9996                  DEPT OF DEFENSE                 DEPT OF THE ARMY   \n",
       "9997  VETERANS AFFAIRS, DEPARTMENT OF  VETERANS AFFAIRS, DEPARTMENT OF   \n",
       "9998  VETERANS AFFAIRS, DEPARTMENT OF  VETERANS AFFAIRS, DEPARTMENT OF   \n",
       "9999                  DEPT OF DEFENSE            DEPT OF THE AIR FORCE   \n",
       "\n",
       "                                         office  postedDate  \\\n",
       "9995  TECHNOLOGY ACQUISITION CENTER NJ (36C10B)  2020-03-02   \n",
       "9996         US ARMY ENGINEER DISTRICT FT WORTH  2020-03-02   \n",
       "9997                  PCAC ACTIVATIONS (36A776)  2020-03-02   \n",
       "9998    242-NETWORK CONTRACT OFFICE 02 (36C242)  2020-03-02   \n",
       "9999                        FA4528  5 CONS LGCP  2020-03-02   \n",
       "\n",
       "                                type                        baseType  \\\n",
       "9995                  Special Notice                  Special Notice   \n",
       "9996                 Presolicitation                 Presolicitation   \n",
       "9997                  Sources Sought                  Sources Sought   \n",
       "9998                    Award Notice  Combined Synopsis/Solicitation   \n",
       "9999  Combined Synopsis/Solicitation  Combined Synopsis/Solicitation   \n",
       "\n",
       "     archiveType  ...                                              award  \\\n",
       "9995  autocustom  ...                      {'awardee': {'location': {}}}   \n",
       "9996  autocustom  ...                                                NaN   \n",
       "9997  autocustom  ...                      {'awardee': {'location': {}}}   \n",
       "9998  autocustom  ...  {'date': '2020-02-20', 'number': '36C24220P049...   \n",
       "9999  autocustom  ...                                                NaN   \n",
       "\n",
       "                                         pointOfContact  \\\n",
       "9995  [{'fax': None, 'type': 'primary', 'email': 'da...   \n",
       "9996  [{'fax': '', 'type': 'primary', 'email': 'scot...   \n",
       "9997  [{'fax': None, 'type': 'primary', 'email': 'He...   \n",
       "9998  [{'fax': None, 'type': 'primary', 'email': 'Co...   \n",
       "9999  [{'fax': '701-723-2696', 'type': 'primary', 'e...   \n",
       "\n",
       "                                            description organizationType  \\\n",
       "9995  https://api.sam.gov/prod/opportunities/v1/noti...           OFFICE   \n",
       "9996  https://api.sam.gov/prod/opportunities/v1/noti...           OFFICE   \n",
       "9997  https://api.sam.gov/prod/opportunities/v1/noti...           OFFICE   \n",
       "9998  https://api.sam.gov/prod/opportunities/v1/noti...           OFFICE   \n",
       "9999  https://api.sam.gov/prod/opportunities/v1/noti...           OFFICE   \n",
       "\n",
       "                                          officeAddress  \\\n",
       "9995  {'zipcode': '07724', 'city': 'EATONTOWN', 'cou...   \n",
       "9996  {'zipcode': '76102-6124', 'city': 'FORT WORTH'...   \n",
       "9997  {'zipcode': '44131', 'city': 'INDEPENDENCE', '...   \n",
       "9998  {'zipcode': '12208', 'city': 'ALBANY', 'countr...   \n",
       "9999  {'zipcode': '58705', 'city': 'MINOT AFB', 'cou...   \n",
       "\n",
       "                                     placeOfPerformance additionalInfoLink  \\\n",
       "9995                                                 {}                NaN   \n",
       "9996  {'country': {'code': 'USA', 'name': 'UNITED ST...                NaN   \n",
       "9997                                                 {}                NaN   \n",
       "9998                                                 {}                NaN   \n",
       "9999  {'city': {'code': 'ND-01', 'name': 'Minot AFB'...                NaN   \n",
       "\n",
       "                                                 uiLink  \\\n",
       "9995  https://beta.sam.gov/opp/bfcf75601ce84915b6f93...   \n",
       "9996  https://beta.sam.gov/opp/bfbfb808060143578bf3d...   \n",
       "9997  https://beta.sam.gov/opp/be15ccb61e2d4fd29a8e0...   \n",
       "9998  https://beta.sam.gov/opp/bb420c29181a41b08443d...   \n",
       "9999  https://beta.sam.gov/opp/b7fe38edaf674d35971fd...   \n",
       "\n",
       "                                                  links  \\\n",
       "9995  [{'rel': 'self', 'href': 'https://api.sam.gov/...   \n",
       "9996  [{'rel': 'self', 'href': 'https://api.sam.gov/...   \n",
       "9997  [{'rel': 'self', 'href': 'https://api.sam.gov/...   \n",
       "9998  [{'rel': 'self', 'href': 'https://api.sam.gov/...   \n",
       "9999  [{'rel': 'self', 'href': 'https://api.sam.gov/...   \n",
       "\n",
       "                                          resourceLinks  \n",
       "9995                                                NaN  \n",
       "9996                                                NaN  \n",
       "9997                                                NaN  \n",
       "9998                                                NaN  \n",
       "9999  ['https://beta.sam.gov/api/prod/opps/v3/opport...  \n",
       "\n",
       "[5 rows x 27 columns]"
      ]
     },
     "execution_count": 5,
     "metadata": {},
     "output_type": "execute_result"
    }
   ],
   "source": [
    "df.tail()"
   ]
  },
  {
   "cell_type": "code",
   "execution_count": 14,
   "metadata": {
    "scrolled": true
   },
   "outputs": [
    {
     "name": "stdout",
     "output_type": "stream",
     "text": [
      "Number of duplicated rows: 19188\n"
     ]
    }
   ],
   "source": [
    "# find and drop duplicates\n",
    "print('Number of duplicated rows:', df.loc[df.duplicated()].shape[0])\n",
    "\n",
    "# df = df.drop_duplicates()"
   ]
  },
  {
   "cell_type": "code",
   "execution_count": 24,
   "metadata": {},
   "outputs": [
    {
     "data": {
      "text/plain": [
       "2704"
      ]
     },
     "execution_count": 24,
     "metadata": {},
     "output_type": "execute_result"
    }
   ],
   "source": [
    "# check number of rows after removing duplicates\n",
    "\n",
    "df.shape[0]"
   ]
  },
  {
   "cell_type": "code",
   "execution_count": 15,
   "metadata": {},
   "outputs": [],
   "source": [
    "# export dataframe into csv file\n",
    "\n",
    "df.to_csv('./data/combined.csv', index=False)"
   ]
  },
  {
   "cell_type": "markdown",
   "metadata": {},
   "source": [
    "## EDA"
   ]
  },
  {
   "cell_type": "code",
   "execution_count": 26,
   "metadata": {},
   "outputs": [
    {
     "name": "stdout",
     "output_type": "stream",
     "text": [
      "<class 'pandas.core.frame.DataFrame'>\n",
      "Int64Index: 2704 entries, 0 to 999\n",
      "Data columns (total 27 columns):\n",
      " #   Column                     Non-Null Count  Dtype  \n",
      "---  ------                     --------------  -----  \n",
      " 0   noticeId                   2704 non-null   object \n",
      " 1   title                      2704 non-null   object \n",
      " 2   solicitationNumber         2679 non-null   object \n",
      " 3   department                 2703 non-null   object \n",
      " 4   subTier                    2702 non-null   object \n",
      " 5   office                     2703 non-null   object \n",
      " 6   postedDate                 2704 non-null   object \n",
      " 7   type                       2704 non-null   object \n",
      " 8   baseType                   2704 non-null   object \n",
      " 9   archiveType                2704 non-null   object \n",
      " 10  archiveDate                2704 non-null   object \n",
      " 11  typeOfSetAsideDescription  881 non-null    object \n",
      " 12  typeOfSetAside             881 non-null    object \n",
      " 13  responseDeadLine           2145 non-null   object \n",
      " 14  naicsCode                  2511 non-null   float64\n",
      " 15  classificationCode         2625 non-null   object \n",
      " 16  active                     2704 non-null   object \n",
      " 17  award                      1656 non-null   object \n",
      " 18  pointOfContact             2689 non-null   object \n",
      " 19  description                2704 non-null   object \n",
      " 20  organizationType           2703 non-null   object \n",
      " 21  officeAddress              2695 non-null   object \n",
      " 22  placeOfPerformance         2378 non-null   object \n",
      " 23  additionalInfoLink         0 non-null      float64\n",
      " 24  uiLink                     2704 non-null   object \n",
      " 25  links                      2704 non-null   object \n",
      " 26  resourceLinks              881 non-null    object \n",
      "dtypes: float64(2), object(25)\n",
      "memory usage: 591.5+ KB\n"
     ]
    }
   ],
   "source": [
    "# inspect data\n",
    "# inspect data\n",
    "\n",
    "df.info()"
   ]
  },
  {
   "cell_type": "markdown",
   "metadata": {},
   "source": [
    "#### Missing Data"
   ]
  },
  {
   "cell_type": "code",
   "execution_count": 27,
   "metadata": {},
   "outputs": [],
   "source": [
    "import matplotlib.pyplot as plt"
   ]
  },
  {
   "cell_type": "code",
   "execution_count": 28,
   "metadata": {},
   "outputs": [
    {
     "data": {
      "image/png": "[encoded data removed]",
      "text/plain": [
       "<Figure size 1008x504 with 1 Axes>"
      ]
     },
     "metadata": {
      "needs_background": "light"
     },
     "output_type": "display_data"
    }
   ],
   "source": [
    "# create a plot that shows columns with missing values\n",
    "\n",
    "# columns with missing values\n",
    "cols_w_missings = df.loc[:, df.isna().sum() > 0]\n",
    "\n",
    "# plot missing data\n",
    "# set figsize\n",
    "plt.figure(figsize=(14, 7))\n",
    "# set title\n",
    "plt.title('Missing Values by Columns')   \n",
    "# plot the number of missing values in each column\n",
    "cols_w_missings.isna().sum().plot(kind='bar');"
   ]
  },
  {
   "cell_type": "code",
   "execution_count": 29,
   "metadata": {},
   "outputs": [
    {
     "name": "stdout",
     "output_type": "stream",
     "text": [
      "Number of observations: 2704\n",
      "\n",
      "Number of missing values:\n",
      "    solicitationNumber column    = 25\n",
      "    department column    = 1\n",
      "    subTier column    = 2\n",
      "    office column    = 1\n",
      "    typeOfSetAsideDescription column    = 1823\n",
      "    typeOfSetAside column    = 1823\n",
      "    responseDeadLine column    = 559\n",
      "    naicsCode column    = 193\n",
      "    classificationCode column    = 79\n",
      "    award column    = 1048\n",
      "    pointOfContact column    = 15\n",
      "    organizationType column    = 1\n",
      "    officeAddress column    = 9\n",
      "    placeOfPerformance column    = 326\n",
      "    additionalInfoLink column    = 2704\n",
      "    resourceLinks column    = 1823\n"
     ]
    }
   ],
   "source": [
    "# prints\n",
    "print(f'Number of observations: {df.shape[0]}')\n",
    "print('')\n",
    "print('Number of missing values:')\n",
    "for i in range(len(cols_w_missings.columns)):\n",
    "    print(f'    {cols_w_missings.columns[i]} column\\\n",
    "    = {cols_w_missings[cols_w_missings.columns[i]].isna().sum()}')"
   ]
  },
  {
   "cell_type": "code",
   "execution_count": 30,
   "metadata": {},
   "outputs": [],
   "source": [
    "# additionalInfoLink column has no values\n",
    "# drop additionalInfoLink column\n",
    "df.drop('additionalInfoLink', axis=1, inplace=True)"
   ]
  },
  {
   "cell_type": "markdown",
   "metadata": {},
   "source": [
    "#### Tokenizing title column"
   ]
  },
  {
   "cell_type": "code",
   "execution_count": 38,
   "metadata": {
    "scrolled": true
   },
   "outputs": [
    {
     "data": {
      "text/plain": [
       "0                                                                                                                                                 40--ROPE,FIBROUS\n",
       "1                                                                                                           6515--iPack Rx Unit Dose Packager | Marion IL VAMC    \n",
       "2                                                      CMc Services for the Philadelphia Custom House Mechanical and Plumbing Renovation Project, Philadelphia, PA\n",
       "3                                                                                                               61--CABLE AND CONDUIT A, IN REPAIR/MODIFICATION OF\n",
       "4                                                                                                                                          45--FEMALE URINARY DIVE\n",
       "5                                                                                                                                      \"Demo\" Cryo-Ultra-Microtome\n",
       "6                                                                                                                                 Repair Ground Water Storage Tank\n",
       "7                                                                                                                                          17--GUARD,AIRCRAFT GROU\n",
       "8                                                                                                                                          17--SEAT,VINYL BUCKET,A\n",
       "9     A 10GB WAVE SERVICE BETWEEN BLDG 129, RM 100, 103 SOUTH GRAVES AVENUE, CHARLESTON, SC 29404-4919 AND BLDG 1129, RM 13, 510 SHARP STREET, SHAW AFB, SC 29152.\n",
       "10                                                                                                                                                 LEI Snowmobiles\n",
       "11                                                                                                                                           Whirley Crane Repairs\n",
       "12                                                                                          Janitorial Services at One Armed Forces Recruiting Center- Towanda, PA\n",
       "13                                                                                                                  Devils Head Lookout Electrical Service Upgrade\n",
       "14                                                                                                                          Instructional Training Support Service\n",
       "Name: title, dtype: object"
      ]
     },
     "execution_count": 38,
     "metadata": {},
     "output_type": "execute_result"
    }
   ],
   "source": [
    "# inspect title column\n",
    "\n",
    "df['title'].head(15)"
   ]
  },
  {
   "cell_type": "code",
   "execution_count": 39,
   "metadata": {
    "scrolled": true
   },
   "outputs": [
    {
     "data": {
      "text/plain": [
       "914                                                                                                                                                         25--STEERING WHEEL\n",
       "919                                                                                                                                                    15--PLATE,STRUCTURAL,AI\n",
       "922                                                                                                                                                    61--WIRING HARNESS,BRAN\n",
       "929                                                                                                                                                    10--BAYONET RECEIVER AS\n",
       "930                                                                                                                                                    60--CABLE ASSEMBLY,FIBE\n",
       "932                                                                                                                                   Auction and Marshalling Support Services\n",
       "936                                                                                                                                                  53--HANDLE,MANUAL CONTROL\n",
       "942                                                                                                                                                    29--RETAINER AND PIN AS\n",
       "949                                                                                                                                                    59--CORD ASSEMBLY,ELECT\n",
       "953                                                                                                                                                    30--CONNECTING LINK,RIG\n",
       "958                                                                                                                                                         31--BEARING,SLEEVE\n",
       "969    Integrated Solid Waste Management (ISWM) for Medical Waste (MW) Collection, Transportation, and Disposal Services in the U.S. Naval Installations in KANTO Plain, JAPAN\n",
       "971                                                                                                                                                          16--RAMP ASSEMBLY\n",
       "977                                                                                                                                                    47--TUBE ASSEMBLY,METAL\n",
       "999                                                                                                                                                      61--COVER,BATTERY BOX\n",
       "Name: title, dtype: object"
      ]
     },
     "execution_count": 39,
     "metadata": {},
     "output_type": "execute_result"
    }
   ],
   "source": [
    "df['title'].tail(15)"
   ]
  },
  {
   "cell_type": "code",
   "execution_count": 40,
   "metadata": {},
   "outputs": [],
   "source": [
    "from nltk.tokenize import RegexpTokenizer"
   ]
  },
  {
   "cell_type": "code",
   "execution_count": 41,
   "metadata": {},
   "outputs": [],
   "source": [
    "# define function to tokenize a column\n",
    "\n",
    "def tokenizer_function(column):\n",
    "    \"\"\"\n",
    "    Takes in a text column\n",
    "        tokenizes the text in each row\n",
    "        using pattern [[a-zA-Z]\\w+]\n",
    "        which matches every lowercase and upperase character between a-z that are word characters\n",
    "    Returns list of strings\n",
    "    \"\"\"\n",
    "    \n",
    "    # instantiate empty list of tokenized text\n",
    "    texts = []\n",
    "    \n",
    "    # instantiate tokenizer\n",
    "    tokenizer = RegexpTokenizer('[a-zA-Z]\\w+')\n",
    "    \n",
    "    # create for loop to tokenize each row and add the list of tokens to texts\n",
    "    for text in column:\n",
    "        tokens = tokenizer.tokenize(text)\n",
    "        \n",
    "        # transform tokens into lower case strings\n",
    "        tokens = [token.lower() for token in tokens]\n",
    "        texts.append(tokens)\n",
    "    return pd.Series(texts)"
   ]
  },
  {
   "cell_type": "code",
   "execution_count": 42,
   "metadata": {
    "scrolled": true
   },
   "outputs": [
    {
     "data": {
      "text/plain": [
       "0                                                                                                                                                                          [rope, fibrous]\n",
       "1                                                                                                                                      [ipack, rx, unit, dose, packager, marion, il, vamc]\n",
       "2                                                                 [cmc, services, for, the, philadelphia, custom, house, mechanical, and, plumbing, renovation, project, philadelphia, pa]\n",
       "3                                                                                                                                      [cable, and, conduit, in, repair, modification, of]\n",
       "4                                                                                                                                                                  [female, urinary, dive]\n",
       "                                                                                               ...                                                                                        \n",
       "2699                                                                                                                                                                     [bearing, sleeve]\n",
       "2700    [integrated, solid, waste, management, iswm, for, medical, waste, mw, collection, transportation, and, disposal, services, in, the, naval, installations, in, kanto, plain, japan]\n",
       "2701                                                                                                                                                                      [ramp, assembly]\n",
       "2702                                                                                                                                                               [tube, assembly, metal]\n",
       "2703                                                                                                                                                                 [cover, battery, box]\n",
       "Length: 2704, dtype: object"
      ]
     },
     "execution_count": 42,
     "metadata": {},
     "output_type": "execute_result"
    }
   ],
   "source": [
    "# call tokenizer function on df['title']\n",
    "\n",
    "tokenizer_function(df['title'])"
   ]
  },
  {
   "cell_type": "markdown",
   "metadata": {},
   "source": [
    "**Explore the Type of Award Notices"
   ]
  },
  {
   "cell_type": "code",
   "execution_count": 43,
   "metadata": {},
   "outputs": [
    {
     "data": {
      "text/plain": [
       "Combined Synopsis/Solicitation    0.340976\n",
       "Solicitation                      0.178624\n",
       "Award Notice                      0.144601\n",
       "Presolicitation                   0.143861\n",
       "Sources Sought                    0.098373\n",
       "Special Notice                    0.054364\n",
       "Justification                     0.036243\n",
       "Sale of Surplus Property          0.002959\n",
       "Name: type, dtype: float64"
      ]
     },
     "execution_count": 43,
     "metadata": {},
     "output_type": "execute_result"
    }
   ],
   "source": [
    "# find count unique values of df['type']\n",
    "df['type'].value_counts(normalize=True)"
   ]
  },
  {
   "cell_type": "code",
   "execution_count": 44,
   "metadata": {},
   "outputs": [
    {
     "data": {
      "image/png": "[encoded data removed]",
      "text/plain": [
       "<Figure size 864x576 with 1 Axes>"
      ]
     },
     "metadata": {
      "needs_background": "light"
     },
     "output_type": "display_data"
    }
   ],
   "source": [
    "# find count unique values of df['type']\n",
    "\n",
    "fig = plt.figure(figsize=(12, 8))\n",
    "plt.title('Award Notice Categories')\n",
    "plt.xticks(rotation=45)\n",
    "plt.ylabel('Percent of all Notices')\n",
    "plt.bar(df['type'].value_counts().index, df['type'].value_counts(normalize=True));\n",
    "\n",
    "# xticks rotation source: https://kite.com/python/answers/how-to-rotate-date-ticks-using-matplotlib-in-python"
   ]
  },
  {
   "cell_type": "code",
   "execution_count": 45,
   "metadata": {},
   "outputs": [
    {
     "name": "stdout",
     "output_type": "stream",
     "text": [
      "Percent of all soliciation notices: 0.5196\n"
     ]
    }
   ],
   "source": [
    "# combine solicitation notices with combined synopsis and soliciation notices\n",
    "# this gives back the percent of notices that solicit applications for award\n",
    "\n",
    "print(f\"Percent of all soliciation notices: \\\n",
    "{round(df['type'].value_counts(normalize=True)['Combined Synopsis/Solicitation'] + df['type'].value_counts(normalize=True)['Solicitation'], 4)}\\\n",
    "\")"
   ]
  },
  {
   "cell_type": "markdown",
   "metadata": {},
   "source": [
    "*Observation:* close to 50% of all Notices is a combined synopsis and solicitation, followed by the 22% of award notices. When we combine all types of solicitations, 56.8% of all notices is soliciting for a submission. "
   ]
  },
  {
   "cell_type": "code",
   "execution_count": null,
   "metadata": {},
   "outputs": [],
   "source": [
    "# look at types of set aside, especially among the solicitations\n",
    "# check if we can see the awardee names, city/ state of business location"
   ]
  }
 ],
 "metadata": {
  "kernelspec": {
   "display_name": "Python 3",
   "language": "python",
   "name": "python3"
  },
  "language_info": {
   "codemirror_mode": {
    "name": "ipython",
    "version": 3
   },
   "file_extension": ".py",
   "mimetype": "text/x-python",
   "name": "python",
   "nbconvert_exporter": "python",
   "pygments_lexer": "ipython3",
   "version": "3.7.6"
  }
 },
 "nbformat": 4,
 "nbformat_minor": 4
}
